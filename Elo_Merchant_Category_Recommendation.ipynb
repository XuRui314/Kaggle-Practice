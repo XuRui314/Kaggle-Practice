{
  "nbformat": 4,
  "nbformat_minor": 0,
  "metadata": {
    "colab": {
      "name": "Elo_Merchant_Category_Recommendation.ipynb",
      "provenance": [],
      "machine_shape": "hm",
      "collapsed_sections": [
        "a5cb3e0d-b796-4644-85d8-f914e4ea1372",
        "f3b82897-d95e-44a3-a538-e17e5b114260",
        "194403aa-27e6-4076-9f52-73bd53e8c6d1",
        "2d113a0e-fa0f-4ce2-a525-294dd620164a",
        "ed0b385c-1883-402a-998c-5b51f1b0af3f",
        "d4b91081-04f9-4c94-aa5c-13af667b253c"
      ],
      "toc_visible": true,
      "authorship_tag": "ABX9TyMl17Flo1UIl/sRs0EkHmV4",
      "include_colab_link": true
    },
    "kernelspec": {
      "name": "python3",
      "display_name": "Python 3"
    },
    "language_info": {
      "name": "python"
    },
    "gpuClass": "standard"
  },
  "cells": [
    {
      "cell_type": "markdown",
      "metadata": {
        "id": "view-in-github",
        "colab_type": "text"
      },
      "source": [
        "<a href=\"https://colab.research.google.com/github/XuRui314/Kaggle-Practice/blob/main/Elo_Merchant_Category_Recommendation.ipynb\" target=\"_parent\"><img src=\"https://colab.research.google.com/assets/colab-badge.svg\" alt=\"Open In Colab\"/></a>"
      ]
    },
    {
      "cell_type": "code",
      "source": [
        "from google.colab import drive \n",
        "\n",
        "drive.mount('/content/gdrive/') "
      ],
      "metadata": {
        "colab": {
          "base_uri": "https://localhost:8080/"
        },
        "id": "zQxRJ1f3XHGR",
        "outputId": "d318ef3a-13ab-4694-fa03-ee1abac3677e"
      },
      "execution_count": null,
      "outputs": [
        {
          "output_type": "stream",
          "name": "stdout",
          "text": [
            "Mounted at /content/gdrive/\n"
          ]
        }
      ]
    },
    {
      "cell_type": "markdown",
      "source": [
        "# Download dataset"
      ],
      "metadata": {
        "id": "QgbiIpcrZVPG"
      }
    },
    {
      "cell_type": "markdown",
      "source": [
        "注意这个只跑一次，colab换成高RAM解压会快一点"
      ],
      "metadata": {
        "id": "uA05hnEdezsw"
      }
    },
    {
      "cell_type": "code",
      "source": [
        "!pip install kaggle"
      ],
      "metadata": {
        "colab": {
          "base_uri": "https://localhost:8080/"
        },
        "id": "KCmo1DekXdsR",
        "outputId": "ceead27d-22cb-4988-b368-dce2e2bd62b1"
      },
      "execution_count": null,
      "outputs": [
        {
          "output_type": "stream",
          "name": "stdout",
          "text": [
            "Looking in indexes: https://pypi.org/simple, https://us-python.pkg.dev/colab-wheels/public/simple/\n",
            "Requirement already satisfied: kaggle in /usr/local/lib/python3.7/dist-packages (1.5.12)\n",
            "Requirement already satisfied: urllib3 in /usr/local/lib/python3.7/dist-packages (from kaggle) (1.24.3)\n",
            "Requirement already satisfied: python-slugify in /usr/local/lib/python3.7/dist-packages (from kaggle) (6.1.2)\n",
            "Requirement already satisfied: python-dateutil in /usr/local/lib/python3.7/dist-packages (from kaggle) (2.8.2)\n",
            "Requirement already satisfied: six>=1.10 in /usr/local/lib/python3.7/dist-packages (from kaggle) (1.15.0)\n",
            "Requirement already satisfied: tqdm in /usr/local/lib/python3.7/dist-packages (from kaggle) (4.64.0)\n",
            "Requirement already satisfied: requests in /usr/local/lib/python3.7/dist-packages (from kaggle) (2.23.0)\n",
            "Requirement already satisfied: certifi in /usr/local/lib/python3.7/dist-packages (from kaggle) (2022.6.15)\n",
            "Requirement already satisfied: text-unidecode>=1.3 in /usr/local/lib/python3.7/dist-packages (from python-slugify->kaggle) (1.3)\n",
            "Requirement already satisfied: idna<3,>=2.5 in /usr/local/lib/python3.7/dist-packages (from requests->kaggle) (2.10)\n",
            "Requirement already satisfied: chardet<4,>=3.0.2 in /usr/local/lib/python3.7/dist-packages (from requests->kaggle) (3.0.4)\n"
          ]
        }
      ]
    },
    {
      "cell_type": "code",
      "source": [
        "from google.colab import files\n",
        "files.upload()"
      ],
      "metadata": {
        "colab": {
          "resources": {
            "http://localhost:8080/nbextensions/google.colab/files.js": {
              "data": "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",
              "ok": true,
              "headers": [
                [
                  "content-type",
                  "application/javascript"
                ]
              ],
              "status": 200,
              "status_text": ""
            }
          },
          "base_uri": "https://localhost:8080/",
          "height": 93
        },
        "id": "KsdeYk9TXfkT",
        "outputId": "cf5e8021-2f08-48ea-ef1e-21b0d3177bcc"
      },
      "execution_count": null,
      "outputs": [
        {
          "output_type": "display_data",
          "data": {
            "text/plain": [
              "<IPython.core.display.HTML object>"
            ],
            "text/html": [
              "\n",
              "     <input type=\"file\" id=\"files-8b14a891-69bb-4fb9-b23b-45ebb8e54787\" name=\"files[]\" multiple disabled\n",
              "        style=\"border:none\" />\n",
              "     <output id=\"result-8b14a891-69bb-4fb9-b23b-45ebb8e54787\">\n",
              "      Upload widget is only available when the cell has been executed in the\n",
              "      current browser session. Please rerun this cell to enable.\n",
              "      </output>\n",
              "      <script src=\"/nbextensions/google.colab/files.js\"></script> "
            ]
          },
          "metadata": {}
        },
        {
          "output_type": "stream",
          "name": "stdout",
          "text": [
            "Saving kaggle.json to kaggle.json\n"
          ]
        },
        {
          "output_type": "execute_result",
          "data": {
            "text/plain": [
              "{'kaggle.json': b'{\"username\":\"zhouxurui\",\"key\":\"0d1f963ce2beda6f2a058e791afc117c\"}'}"
            ]
          },
          "metadata": {},
          "execution_count": 4
        }
      ]
    },
    {
      "cell_type": "code",
      "source": [
        "!mkdir -p ~/.kaggle \n",
        "\n",
        "!cp kaggle.json ~/.kaggle/ \n",
        "\n",
        "!chmod 600 ~/.kaggle/kaggle.json "
      ],
      "metadata": {
        "id": "zUYOH46nXwhd"
      },
      "execution_count": null,
      "outputs": []
    },
    {
      "cell_type": "code",
      "source": [
        "%cd /content/gdrive/MyDrive/kaggle/Elo_Merchant_Category_Recommendation"
      ],
      "metadata": {
        "colab": {
          "base_uri": "https://localhost:8080/"
        },
        "id": "icOH3or2X9yy",
        "outputId": "01d3205e-6ffb-4ffb-de49-95f9ec52e861"
      },
      "execution_count": null,
      "outputs": [
        {
          "output_type": "stream",
          "name": "stdout",
          "text": [
            "/content/gdrive/MyDrive/kaggle/Elo_Merchant_Category_Recommendation\n"
          ]
        }
      ]
    },
    {
      "cell_type": "code",
      "execution_count": null,
      "metadata": {
        "colab": {
          "base_uri": "https://localhost:8080/"
        },
        "id": "pJRa7lwtPdjF",
        "outputId": "44028a96-dc92-4a22-80bc-9fd2d9d34820"
      },
      "outputs": [
        {
          "output_type": "stream",
          "name": "stdout",
          "text": [
            "Downloading elo-merchant-category-recommendation.zip to /content/gdrive/MyDrive/kaggle/Elo_Merchant_Category_Recommendation\n",
            " 98% 603M/615M [00:11<00:00, 63.4MB/s]\n",
            "100% 615M/615M [00:11<00:00, 55.5MB/s]\n"
          ]
        }
      ],
      "source": [
        "!kaggle competitions download -c elo-merchant-category-recommendation"
      ]
    },
    {
      "cell_type": "code",
      "source": [
        "!unzip elo-merchant-category-recommendation.zip"
      ],
      "metadata": {
        "colab": {
          "base_uri": "https://localhost:8080/"
        },
        "id": "KhwEyDF7RnTF",
        "outputId": "641d7a34-7e78-415b-fda7-4340bedbabb9"
      },
      "execution_count": null,
      "outputs": [
        {
          "output_type": "stream",
          "name": "stdout",
          "text": [
            "Archive:  elo-merchant-category-recommendation.zip\n",
            "  inflating: Data Dictionary.xlsx    \n",
            "  inflating: Data_Dictionary.xlsx    \n",
            "  inflating: historical_transactions.csv  \n",
            "  inflating: merchants.csv           \n",
            "  inflating: new_merchant_transactions.csv  \n",
            "  inflating: sample_submission.csv   \n",
            "  inflating: test.csv                \n",
            "  inflating: train.csv               \n"
          ]
        }
      ]
    },
    {
      "cell_type": "markdown",
      "source": [
        "# Elo Merchant Category Recommendation"
      ],
      "metadata": {
        "id": "WQROm6_dbIXb"
      }
    },
    {
      "cell_type": "code",
      "source": [
        "import os\n",
        "os.chdir(\"/content/gdrive/MyDrive/kaggle/Elo_Merchant_Category_Recommendation\")\n",
        "!ls"
      ],
      "metadata": {
        "id": "oiy5nOu_bIso",
        "colab": {
          "base_uri": "https://localhost:8080/"
        },
        "outputId": "d553f90f-cadd-4bdf-a940-6797837d244f"
      },
      "execution_count": null,
      "outputs": [
        {
          "output_type": "stream",
          "name": "stdout",
          "text": [
            "'Data Dictionary.xlsx'\t\t\t    new_merchant_transactions.csv\n",
            " Data_Dictionary.xlsx\t\t\t    sample_submission.csv\n",
            " elo-merchant-category-recommendation.zip   test.csv\n",
            " historical_transactions.csv\t\t    train.csv\n",
            " merchants.csv\n"
          ]
        }
      ]
    },
    {
      "cell_type": "markdown",
      "source": [
        "## 比赛简介\n",
        "Imagine being hungry in an unfamiliar part of town and getting restaurant recommendations served up, based on your personal preferences, at just the right moment. The recommendation comes with an attached discount from your credit card provider for a local place around the corner!\n",
        "\n",
        "Right now, Elo, one of the largest payment brands in Brazil, has built partnerships with merchants in order to offer promotions or discounts to cardholders. But do these promotions work for either the consumer or the merchant? Do customers enjoy their experience? Do merchants see repeat business? Personalization is key.\n",
        "\n",
        "Elo has built machine learning models to understand the most important aspects and preferences in their customers’ lifecycle, from food to shopping. But so far none of them is specifically tailored for an individual or profile. This is where you come in.\n",
        "\n",
        "In this competition, Kagglers will develop algorithms to identify and serve the most relevant opportunities to individuals, by uncovering signal in customer loyalty. Your input will improve customers’ lives and help Elo reduce unwanted campaigns, to create the right experience for customers.\n",
        "\n"
      ],
      "metadata": {
        "id": "B-gJKkyUIzlz"
      }
    },
    {
      "cell_type": "markdown",
      "source": [
        "> Note: All data is simulated and fictitious, and is not real customer data\n",
        "\n",
        "\n",
        "### What files do I need?\n",
        "\n",
        "You will need, at a minimum, the train.csv and test.csv files. These contain the card_ids that we'll be using for training and prediction.\n",
        "\n",
        "The historical_transactions.csv and new_merchant_transactions.csv files contain information about each card's transactions. historical_transactions.csv contains up to 3 months' worth of transactions for every card at any of the provided merchant_ids. new_merchant_transactions.csv contains the transactions at new merchants (merchant_ids that this particular card_id has not yet visited) over a period of two months.\n",
        "\n",
        "merchants.csv contains aggregate information for each merchant_id represented in the data set.\n",
        "\n",
        "### What should I expect the data format to be?\n",
        "\n",
        "The data is formatted as follows:\n",
        "\n",
        "train.csv and test.csv contain card_ids and information about the card itself - the first month the card was active, etc. train.csv also contains the target.\n",
        "\n",
        "historical_transactions.csv and new_merchant_transactions.csv are designed to be joined with train.csv, test.csv, and merchants.csv. They contain information about transactions for each card, as described above.\n",
        "\n",
        "merchants can be joined with the transaction sets to provide additional merchant-level information.\n",
        "\n",
        "### What am I predicting?\n",
        "\n",
        "You are predicting a loyalty score for each card_id represented in test.csv and sample_submission.csv.\n",
        "\n",
        "File descriptions\n",
        "- train.csv - the training set\n",
        "- test.csv - the test set\n",
        "- sample_submission.csv - a sample submission file in the correct format - contains all card_ids you are expected to predict for.\n",
        "- historical_transactions.csv - up to 3 months' worth of historical transactions for each card_id\n",
        "- merchants.csv - additional information about all merchants / merchant_ids in the dataset.\n",
        "- new_merchant_transactions.csv - two months' worth of data for each card_id containing ALL purchases that card_id made at merchant_ids that were not visited in the historical data.\n",
        "\n",
        "### Data fields\n",
        "Data field descriptions are provided in Data Dictionary.xlsx.\n",
        "\n"
      ],
      "metadata": {
        "id": "LRwBb9NqKoev"
      }
    },
    {
      "cell_type": "markdown",
      "metadata": {
        "id": "f9f8afe7-5d2b-4cc0-96e6-86496f49e6cb"
      },
      "source": [
        "## 数据表简介"
      ]
    },
    {
      "cell_type": "markdown",
      "metadata": {
        "id": "722bfd72-0c2a-4a21-b935-de16403e20a2"
      },
      "source": [
        "&emsp;&emsp;能够看到，本次赛题数据较多、数据量也相对较大，部分数据甚至无法直接通过普通Excel直接打开。接下来我们快速了解每个数据集的基本含义："
      ]
    },
    {
      "cell_type": "markdown",
      "metadata": {
        "id": "f50e8acc-e97a-41d7-8294-b77c213a3393"
      },
      "source": [
        "&emsp;&emsp;总的来说，上述7个数据文件大概可以分为三类，其一是基本信息类数据集，包括Data_Dictionary和sample_submission。其中Data_Dictionary数据集是所有数据的数据字典，即包括了所有数据各字段的含义，而sample_submission则是提交结果时的范例数据。"
      ]
    },
    {
      "cell_type": "markdown",
      "metadata": {
        "id": "03a06f86-1b1e-4d47-b587-e7ae8a1fb92b"
      },
      "source": [
        "- Data Dictionary/Data_Dictionary：数据字典"
      ]
    },
    {
      "cell_type": "markdown",
      "metadata": {
        "id": "1a77c211-1608-4120-a1bb-3c93865b9052"
      },
      "source": [
        "&emsp;&emsp;所有其他数据表中每个字段的含义，相当于是其他各数据表的说明书。数据字典包含多个sheet，每个sheet对应一个数据表的字段和解释："
      ]
    },
    {
      "cell_type": "markdown",
      "metadata": {
        "id": "4697e810-77da-4114-9c4d-1d7b5f1061e7"
      },
      "source": [
        "<center><img src=\"https://i.loli.net/2021/10/20/ilGc7hrAwMZNpS8.png\" alt=\"image-20211020204816830\" style=\"zoom:50%;\" />"
      ]
    },
    {
      "cell_type": "markdown",
      "metadata": {
        "id": "4786cc9d-a5c5-430a-aff5-41bbea9d9a8d"
      },
      "source": [
        "> 其他数据集字段有重复，因此未在数据字典中列出。"
      ]
    },
    {
      "cell_type": "markdown",
      "metadata": {
        "id": "b94ff694-9b03-4595-9b65-eeffcf54a92f"
      },
      "source": [
        "当然，我们可以通过如下方式直接使用pandas进行读取："
      ]
    },
    {
      "cell_type": "code",
      "execution_count": null,
      "metadata": {
        "id": "7cd86363-b6af-46ed-aca3-803f7c7e4d8f"
      },
      "outputs": [],
      "source": [
        "import os\n",
        "import numpy as np\n",
        "import pandas as pd"
      ]
    },
    {
      "cell_type": "code",
      "execution_count": null,
      "metadata": {
        "id": "42631f52-842c-4aea-a2ff-11f01cd5c69c",
        "outputId": "31301854-16bb-4a30-cf4b-6fa4a36df3e6",
        "colab": {
          "base_uri": "https://localhost:8080/",
          "height": 237
        }
      },
      "outputs": [
        {
          "output_type": "execute_result",
          "data": {
            "text/plain": [
              "              Columns                                        Description\n",
              "0             card_id                             Unique card identifier\n",
              "1  first_active_month                 'YYYY-MM', month of first purchase\n",
              "2           feature_1                Anonymized card categorical feature\n",
              "3           feature_2                Anonymized card categorical feature\n",
              "4           feature_3                Anonymized card categorical feature\n",
              "5              target  Loyalty numerical score calculated 2 months af..."
            ],
            "text/html": [
              "\n",
              "  <div id=\"df-1f75636f-c0fb-4f3b-8c3e-fb5e431c7855\">\n",
              "    <div class=\"colab-df-container\">\n",
              "      <div>\n",
              "<style scoped>\n",
              "    .dataframe tbody tr th:only-of-type {\n",
              "        vertical-align: middle;\n",
              "    }\n",
              "\n",
              "    .dataframe tbody tr th {\n",
              "        vertical-align: top;\n",
              "    }\n",
              "\n",
              "    .dataframe thead th {\n",
              "        text-align: right;\n",
              "    }\n",
              "</style>\n",
              "<table border=\"1\" class=\"dataframe\">\n",
              "  <thead>\n",
              "    <tr style=\"text-align: right;\">\n",
              "      <th></th>\n",
              "      <th>Columns</th>\n",
              "      <th>Description</th>\n",
              "    </tr>\n",
              "  </thead>\n",
              "  <tbody>\n",
              "    <tr>\n",
              "      <th>0</th>\n",
              "      <td>card_id</td>\n",
              "      <td>Unique card identifier</td>\n",
              "    </tr>\n",
              "    <tr>\n",
              "      <th>1</th>\n",
              "      <td>first_active_month</td>\n",
              "      <td>'YYYY-MM', month of first purchase</td>\n",
              "    </tr>\n",
              "    <tr>\n",
              "      <th>2</th>\n",
              "      <td>feature_1</td>\n",
              "      <td>Anonymized card categorical feature</td>\n",
              "    </tr>\n",
              "    <tr>\n",
              "      <th>3</th>\n",
              "      <td>feature_2</td>\n",
              "      <td>Anonymized card categorical feature</td>\n",
              "    </tr>\n",
              "    <tr>\n",
              "      <th>4</th>\n",
              "      <td>feature_3</td>\n",
              "      <td>Anonymized card categorical feature</td>\n",
              "    </tr>\n",
              "    <tr>\n",
              "      <th>5</th>\n",
              "      <td>target</td>\n",
              "      <td>Loyalty numerical score calculated 2 months af...</td>\n",
              "    </tr>\n",
              "  </tbody>\n",
              "</table>\n",
              "</div>\n",
              "      <button class=\"colab-df-convert\" onclick=\"convertToInteractive('df-1f75636f-c0fb-4f3b-8c3e-fb5e431c7855')\"\n",
              "              title=\"Convert this dataframe to an interactive table.\"\n",
              "              style=\"display:none;\">\n",
              "        \n",
              "  <svg xmlns=\"http://www.w3.org/2000/svg\" height=\"24px\"viewBox=\"0 0 24 24\"\n",
              "       width=\"24px\">\n",
              "    <path d=\"M0 0h24v24H0V0z\" fill=\"none\"/>\n",
              "    <path d=\"M18.56 5.44l.94 2.06.94-2.06 2.06-.94-2.06-.94-.94-2.06-.94 2.06-2.06.94zm-11 1L8.5 8.5l.94-2.06 2.06-.94-2.06-.94L8.5 2.5l-.94 2.06-2.06.94zm10 10l.94 2.06.94-2.06 2.06-.94-2.06-.94-.94-2.06-.94 2.06-2.06.94z\"/><path d=\"M17.41 7.96l-1.37-1.37c-.4-.4-.92-.59-1.43-.59-.52 0-1.04.2-1.43.59L10.3 9.45l-7.72 7.72c-.78.78-.78 2.05 0 2.83L4 21.41c.39.39.9.59 1.41.59.51 0 1.02-.2 1.41-.59l7.78-7.78 2.81-2.81c.8-.78.8-2.07 0-2.86zM5.41 20L4 18.59l7.72-7.72 1.47 1.35L5.41 20z\"/>\n",
              "  </svg>\n",
              "      </button>\n",
              "      \n",
              "  <style>\n",
              "    .colab-df-container {\n",
              "      display:flex;\n",
              "      flex-wrap:wrap;\n",
              "      gap: 12px;\n",
              "    }\n",
              "\n",
              "    .colab-df-convert {\n",
              "      background-color: #E8F0FE;\n",
              "      border: none;\n",
              "      border-radius: 50%;\n",
              "      cursor: pointer;\n",
              "      display: none;\n",
              "      fill: #1967D2;\n",
              "      height: 32px;\n",
              "      padding: 0 0 0 0;\n",
              "      width: 32px;\n",
              "    }\n",
              "\n",
              "    .colab-df-convert:hover {\n",
              "      background-color: #E2EBFA;\n",
              "      box-shadow: 0px 1px 2px rgba(60, 64, 67, 0.3), 0px 1px 3px 1px rgba(60, 64, 67, 0.15);\n",
              "      fill: #174EA6;\n",
              "    }\n",
              "\n",
              "    [theme=dark] .colab-df-convert {\n",
              "      background-color: #3B4455;\n",
              "      fill: #D2E3FC;\n",
              "    }\n",
              "\n",
              "    [theme=dark] .colab-df-convert:hover {\n",
              "      background-color: #434B5C;\n",
              "      box-shadow: 0px 1px 3px 1px rgba(0, 0, 0, 0.15);\n",
              "      filter: drop-shadow(0px 1px 2px rgba(0, 0, 0, 0.3));\n",
              "      fill: #FFFFFF;\n",
              "    }\n",
              "  </style>\n",
              "\n",
              "      <script>\n",
              "        const buttonEl =\n",
              "          document.querySelector('#df-1f75636f-c0fb-4f3b-8c3e-fb5e431c7855 button.colab-df-convert');\n",
              "        buttonEl.style.display =\n",
              "          google.colab.kernel.accessAllowed ? 'block' : 'none';\n",
              "\n",
              "        async function convertToInteractive(key) {\n",
              "          const element = document.querySelector('#df-1f75636f-c0fb-4f3b-8c3e-fb5e431c7855');\n",
              "          const dataTable =\n",
              "            await google.colab.kernel.invokeFunction('convertToInteractive',\n",
              "                                                     [key], {});\n",
              "          if (!dataTable) return;\n",
              "\n",
              "          const docLinkHtml = 'Like what you see? Visit the ' +\n",
              "            '<a target=\"_blank\" href=https://colab.research.google.com/notebooks/data_table.ipynb>data table notebook</a>'\n",
              "            + ' to learn more about interactive tables.';\n",
              "          element.innerHTML = '';\n",
              "          dataTable['output_type'] = 'display_data';\n",
              "          await google.colab.output.renderOutput(dataTable, element);\n",
              "          const docLink = document.createElement('div');\n",
              "          docLink.innerHTML = docLinkHtml;\n",
              "          element.appendChild(docLink);\n",
              "        }\n",
              "      </script>\n",
              "    </div>\n",
              "  </div>\n",
              "  "
            ]
          },
          "metadata": {},
          "execution_count": 7
        }
      ],
      "source": [
        "# 第三行开始读取，读取train表\n",
        "pd.read_excel('./Data_Dictionary.xlsx', header=2, sheet_name='train')"
      ]
    },
    {
      "cell_type": "markdown",
      "metadata": {
        "id": "1037ec04-17c9-4268-97cc-5bb23e6780ec"
      },
      "source": [
        "- sample_submission：正确提交结果范例"
      ]
    },
    {
      "cell_type": "code",
      "execution_count": null,
      "metadata": {
        "id": "93a0c5ba-b7ea-4dc9-bffd-b8f79e7ef0e4",
        "outputId": "d48f98b0-fad6-45b4-fa93-ede4b7aed3f2",
        "colab": {
          "base_uri": "https://localhost:8080/",
          "height": 206
        }
      },
      "outputs": [
        {
          "output_type": "execute_result",
          "data": {
            "text/plain": [
              "           card_id  target\n",
              "0  C_ID_0ab67a22ab       0\n",
              "1  C_ID_130fd0cbdd       0\n",
              "2  C_ID_b709037bc5       0\n",
              "3  C_ID_d27d835a9f       0\n",
              "4  C_ID_2b5e3df5c2       0"
            ],
            "text/html": [
              "\n",
              "  <div id=\"df-19b25e89-86c0-40c1-9744-8f429439a158\">\n",
              "    <div class=\"colab-df-container\">\n",
              "      <div>\n",
              "<style scoped>\n",
              "    .dataframe tbody tr th:only-of-type {\n",
              "        vertical-align: middle;\n",
              "    }\n",
              "\n",
              "    .dataframe tbody tr th {\n",
              "        vertical-align: top;\n",
              "    }\n",
              "\n",
              "    .dataframe thead th {\n",
              "        text-align: right;\n",
              "    }\n",
              "</style>\n",
              "<table border=\"1\" class=\"dataframe\">\n",
              "  <thead>\n",
              "    <tr style=\"text-align: right;\">\n",
              "      <th></th>\n",
              "      <th>card_id</th>\n",
              "      <th>target</th>\n",
              "    </tr>\n",
              "  </thead>\n",
              "  <tbody>\n",
              "    <tr>\n",
              "      <th>0</th>\n",
              "      <td>C_ID_0ab67a22ab</td>\n",
              "      <td>0</td>\n",
              "    </tr>\n",
              "    <tr>\n",
              "      <th>1</th>\n",
              "      <td>C_ID_130fd0cbdd</td>\n",
              "      <td>0</td>\n",
              "    </tr>\n",
              "    <tr>\n",
              "      <th>2</th>\n",
              "      <td>C_ID_b709037bc5</td>\n",
              "      <td>0</td>\n",
              "    </tr>\n",
              "    <tr>\n",
              "      <th>3</th>\n",
              "      <td>C_ID_d27d835a9f</td>\n",
              "      <td>0</td>\n",
              "    </tr>\n",
              "    <tr>\n",
              "      <th>4</th>\n",
              "      <td>C_ID_2b5e3df5c2</td>\n",
              "      <td>0</td>\n",
              "    </tr>\n",
              "  </tbody>\n",
              "</table>\n",
              "</div>\n",
              "      <button class=\"colab-df-convert\" onclick=\"convertToInteractive('df-19b25e89-86c0-40c1-9744-8f429439a158')\"\n",
              "              title=\"Convert this dataframe to an interactive table.\"\n",
              "              style=\"display:none;\">\n",
              "        \n",
              "  <svg xmlns=\"http://www.w3.org/2000/svg\" height=\"24px\"viewBox=\"0 0 24 24\"\n",
              "       width=\"24px\">\n",
              "    <path d=\"M0 0h24v24H0V0z\" fill=\"none\"/>\n",
              "    <path d=\"M18.56 5.44l.94 2.06.94-2.06 2.06-.94-2.06-.94-.94-2.06-.94 2.06-2.06.94zm-11 1L8.5 8.5l.94-2.06 2.06-.94-2.06-.94L8.5 2.5l-.94 2.06-2.06.94zm10 10l.94 2.06.94-2.06 2.06-.94-2.06-.94-.94-2.06-.94 2.06-2.06.94z\"/><path d=\"M17.41 7.96l-1.37-1.37c-.4-.4-.92-.59-1.43-.59-.52 0-1.04.2-1.43.59L10.3 9.45l-7.72 7.72c-.78.78-.78 2.05 0 2.83L4 21.41c.39.39.9.59 1.41.59.51 0 1.02-.2 1.41-.59l7.78-7.78 2.81-2.81c.8-.78.8-2.07 0-2.86zM5.41 20L4 18.59l7.72-7.72 1.47 1.35L5.41 20z\"/>\n",
              "  </svg>\n",
              "      </button>\n",
              "      \n",
              "  <style>\n",
              "    .colab-df-container {\n",
              "      display:flex;\n",
              "      flex-wrap:wrap;\n",
              "      gap: 12px;\n",
              "    }\n",
              "\n",
              "    .colab-df-convert {\n",
              "      background-color: #E8F0FE;\n",
              "      border: none;\n",
              "      border-radius: 50%;\n",
              "      cursor: pointer;\n",
              "      display: none;\n",
              "      fill: #1967D2;\n",
              "      height: 32px;\n",
              "      padding: 0 0 0 0;\n",
              "      width: 32px;\n",
              "    }\n",
              "\n",
              "    .colab-df-convert:hover {\n",
              "      background-color: #E2EBFA;\n",
              "      box-shadow: 0px 1px 2px rgba(60, 64, 67, 0.3), 0px 1px 3px 1px rgba(60, 64, 67, 0.15);\n",
              "      fill: #174EA6;\n",
              "    }\n",
              "\n",
              "    [theme=dark] .colab-df-convert {\n",
              "      background-color: #3B4455;\n",
              "      fill: #D2E3FC;\n",
              "    }\n",
              "\n",
              "    [theme=dark] .colab-df-convert:hover {\n",
              "      background-color: #434B5C;\n",
              "      box-shadow: 0px 1px 3px 1px rgba(0, 0, 0, 0.15);\n",
              "      filter: drop-shadow(0px 1px 2px rgba(0, 0, 0, 0.3));\n",
              "      fill: #FFFFFF;\n",
              "    }\n",
              "  </style>\n",
              "\n",
              "      <script>\n",
              "        const buttonEl =\n",
              "          document.querySelector('#df-19b25e89-86c0-40c1-9744-8f429439a158 button.colab-df-convert');\n",
              "        buttonEl.style.display =\n",
              "          google.colab.kernel.accessAllowed ? 'block' : 'none';\n",
              "\n",
              "        async function convertToInteractive(key) {\n",
              "          const element = document.querySelector('#df-19b25e89-86c0-40c1-9744-8f429439a158');\n",
              "          const dataTable =\n",
              "            await google.colab.kernel.invokeFunction('convertToInteractive',\n",
              "                                                     [key], {});\n",
              "          if (!dataTable) return;\n",
              "\n",
              "          const docLinkHtml = 'Like what you see? Visit the ' +\n",
              "            '<a target=\"_blank\" href=https://colab.research.google.com/notebooks/data_table.ipynb>data table notebook</a>'\n",
              "            + ' to learn more about interactive tables.';\n",
              "          element.innerHTML = '';\n",
              "          dataTable['output_type'] = 'display_data';\n",
              "          await google.colab.output.renderOutput(dataTable, element);\n",
              "          const docLink = document.createElement('div');\n",
              "          docLink.innerHTML = docLinkHtml;\n",
              "          element.appendChild(docLink);\n",
              "        }\n",
              "      </script>\n",
              "    </div>\n",
              "  </div>\n",
              "  "
            ]
          },
          "metadata": {},
          "execution_count": 8
        }
      ],
      "source": [
        "# 读取数据文件\n",
        "pd.read_csv('sample_submission.csv', header=0).head(5)"
      ]
    },
    {
      "cell_type": "code",
      "execution_count": null,
      "metadata": {
        "id": "b32c140c-b51a-4fa4-98d0-b962e19ca7fa",
        "outputId": "61f3c1d6-01bc-4e03-8200-1404bf4746b6",
        "colab": {
          "base_uri": "https://localhost:8080/"
        }
      },
      "outputs": [
        {
          "output_type": "stream",
          "name": "stdout",
          "text": [
            "<class 'pandas.core.frame.DataFrame'>\n",
            "RangeIndex: 123623 entries, 0 to 123622\n",
            "Data columns (total 2 columns):\n",
            " #   Column   Non-Null Count   Dtype \n",
            "---  ------   --------------   ----- \n",
            " 0   card_id  123623 non-null  object\n",
            " 1   target   123623 non-null  int64 \n",
            "dtypes: int64(1), object(1)\n",
            "memory usage: 1.9+ MB\n"
          ]
        }
      ],
      "source": [
        "# 查看数据集基本信息\n",
        "pd.read_csv('sample_submission.csv', header=0).info()"
      ]
    },
    {
      "cell_type": "markdown",
      "metadata": {
        "id": "2a0df70a-bb99-4f84-a2cd-433e353f2fca"
      },
      "source": [
        "&emsp;&emsp;最终建模结果提交格式，也就是以“一个id”+“对应预测结果”的格式进行提交。据此我们也能发现，实际上我们是需要预测每个card_id的用户忠诚度评分。我们也可以在竞赛Kaggle主页上查看提交结果格式和评估指标："
      ]
    },
    {
      "cell_type": "markdown",
      "metadata": {
        "id": "f252fbd8-46fd-4496-91ea-cdc1ca75bc3d"
      },
      "source": [
        "<center><img src=\"https://i.loli.net/2021/10/20/tveFu12sbNcAfwH.png\" alt=\"image-20211020211206067\" style=\"zoom:35%;\" />"
      ]
    },
    {
      "cell_type": "markdown",
      "metadata": {
        "id": "f29dda56-2a28-4159-ae01-3286e077e9cf"
      },
      "source": [
        "RMSE的计算过程如下："
      ]
    },
    {
      "cell_type": "markdown",
      "metadata": {
        "id": "97f8d698-10de-4dbc-bed2-6c1962e87909"
      },
      "source": [
        "$$RMSE= \\sqrt{\\frac{1}{n}\\sum^n_{i=1}(y_i-\\hat y_i)^2}$$"
      ]
    },
    {
      "cell_type": "markdown",
      "metadata": {
        "id": "3623f827-3302-4ccb-90ed-99e98203d02a"
      },
      "source": [
        "&emsp;&emsp;然后就是完成比赛的必要数据，也就是train和test两个数据集。顾名思义，train数据集就是训练数据，test就是测试数据集，二者特征一致，极简情况下我们可以直接在train上训练模型，在test上进行预测。"
      ]
    },
    {
      "cell_type": "markdown",
      "metadata": {
        "id": "6e0748b9-c7a7-42e0-a75b-679e8c560901"
      },
      "source": [
        "&emsp;&emsp;最后一类则是补充数据集，也就是 'historical_transactions.csv'、'new_merchant_transactions.csv'和'merchants.csv',其中前两个数据集记录了训练集和测试集信用卡的消费记录，而最后一个数据集则是前两个数据集中商铺信息（某特征）的进一步解释。在实际建模过程中，纳入更多数据进行规律挖掘，则有可能达到更好的效果。"
      ]
    },
    {
      "cell_type": "markdown",
      "metadata": {
        "id": "b011ae0a-8fd2-4de5-901c-e178dbf6ddd9"
      },
      "source": [
        "&emsp;&emsp;在接下来的数据探索中，我们将首先重点解读train和test数据集的相关信息，然后再进一步探索其他三个补充数据集。"
      ]
    },
    {
      "cell_type": "code",
      "source": [
        ""
      ],
      "metadata": {
        "id": "sMNru_L_dTd1"
      },
      "execution_count": null,
      "outputs": []
    },
    {
      "cell_type": "markdown",
      "metadata": {
        "id": "a2e5d4f6-2bb9-4224-b819-f27a12c05845"
      },
      "source": [
        "## train和test解读与初步探索"
      ]
    },
    {
      "cell_type": "markdown",
      "metadata": {
        "id": "5905bcd5-eac4-4c0f-a079-ad5824ba9a5e"
      },
      "source": [
        "### 1.train和test数据集解读"
      ]
    },
    {
      "cell_type": "markdown",
      "metadata": {
        "id": "1f615ed7-5bf0-4e97-9f68-dabd72c8f742"
      },
      "source": [
        "&emsp;&emsp;首先先进行数据读取。当然考虑到后续数据集规模较大，我们可以提前导入gc包以进行内存管理。在实际清理内存时，我们可以先使用del删除对象、再使用gc.collect()，以达到手动清理内存的目的。"
      ]
    },
    {
      "cell_type": "code",
      "execution_count": null,
      "metadata": {
        "id": "fe664236-db30-4aa5-bf0c-2ef09d45a7b4"
      },
      "outputs": [],
      "source": [
        "import gc"
      ]
    },
    {
      "cell_type": "markdown",
      "metadata": {
        "id": "2c1ef41b-8c18-49f3-bb38-f63844d7acf8"
      },
      "source": [
        "首先进行数据读取："
      ]
    },
    {
      "cell_type": "code",
      "execution_count": null,
      "metadata": {
        "id": "641588cf-79a5-499e-844f-b9a79aace914"
      },
      "outputs": [],
      "source": [
        "train = pd.read_csv('./train.csv')\n",
        "test =  pd.read_csv('./test.csv')"
      ]
    },
    {
      "cell_type": "code",
      "execution_count": null,
      "metadata": {
        "id": "5768fc0e-3d9a-47f2-95ac-ff4cf2e4f9d4",
        "outputId": "71594475-f9dc-4ba1-a185-f596c2de2122",
        "colab": {
          "base_uri": "https://localhost:8080/"
        }
      },
      "outputs": [
        {
          "output_type": "execute_result",
          "data": {
            "text/plain": [
              "((201917, 6), (123623, 5))"
            ]
          },
          "metadata": {},
          "execution_count": 13
        }
      ],
      "source": [
        "# 查看数据集规模\n",
        "(train.shape, test.shape)"
      ]
    },
    {
      "cell_type": "markdown",
      "metadata": {
        "id": "d3e4ffab-ddd6-4027-ad44-16bd5b46e907"
      },
      "source": [
        "然后依次对其进行解读。"
      ]
    },
    {
      "cell_type": "markdown",
      "metadata": {
        "id": "8fbaa560-5484-4c93-b192-2592e9b652f3"
      },
      "source": [
        "- train：训练数据集"
      ]
    },
    {
      "cell_type": "markdown",
      "metadata": {
        "id": "7e6408f8-6fe1-43c4-9af1-32cc971d46fa"
      },
      "source": [
        "&emsp;&emsp;训练数据基本情况如下："
      ]
    },
    {
      "cell_type": "code",
      "execution_count": null,
      "metadata": {
        "id": "d339bd51-c78a-49f5-ad54-a94d88c2c840",
        "outputId": "413b27a8-870f-467b-d3c5-2e6ec7098999",
        "colab": {
          "base_uri": "https://localhost:8080/",
          "height": 206
        }
      },
      "outputs": [
        {
          "output_type": "execute_result",
          "data": {
            "text/plain": [
              "  first_active_month          card_id  feature_1  feature_2  feature_3  \\\n",
              "0            2017-06  C_ID_92a2005557          5          2          1   \n",
              "1            2017-01  C_ID_3d0044924f          4          1          0   \n",
              "2            2016-08  C_ID_d639edf6cd          2          2          0   \n",
              "3            2017-09  C_ID_186d6a6901          4          3          0   \n",
              "4            2017-11  C_ID_cdbd2c0db2          1          3          0   \n",
              "\n",
              "     target  \n",
              "0 -0.820283  \n",
              "1  0.392913  \n",
              "2  0.688056  \n",
              "3  0.142495  \n",
              "4 -0.159749  "
            ],
            "text/html": [
              "\n",
              "  <div id=\"df-4d430970-4256-4a8a-bdeb-d92385820a41\">\n",
              "    <div class=\"colab-df-container\">\n",
              "      <div>\n",
              "<style scoped>\n",
              "    .dataframe tbody tr th:only-of-type {\n",
              "        vertical-align: middle;\n",
              "    }\n",
              "\n",
              "    .dataframe tbody tr th {\n",
              "        vertical-align: top;\n",
              "    }\n",
              "\n",
              "    .dataframe thead th {\n",
              "        text-align: right;\n",
              "    }\n",
              "</style>\n",
              "<table border=\"1\" class=\"dataframe\">\n",
              "  <thead>\n",
              "    <tr style=\"text-align: right;\">\n",
              "      <th></th>\n",
              "      <th>first_active_month</th>\n",
              "      <th>card_id</th>\n",
              "      <th>feature_1</th>\n",
              "      <th>feature_2</th>\n",
              "      <th>feature_3</th>\n",
              "      <th>target</th>\n",
              "    </tr>\n",
              "  </thead>\n",
              "  <tbody>\n",
              "    <tr>\n",
              "      <th>0</th>\n",
              "      <td>2017-06</td>\n",
              "      <td>C_ID_92a2005557</td>\n",
              "      <td>5</td>\n",
              "      <td>2</td>\n",
              "      <td>1</td>\n",
              "      <td>-0.820283</td>\n",
              "    </tr>\n",
              "    <tr>\n",
              "      <th>1</th>\n",
              "      <td>2017-01</td>\n",
              "      <td>C_ID_3d0044924f</td>\n",
              "      <td>4</td>\n",
              "      <td>1</td>\n",
              "      <td>0</td>\n",
              "      <td>0.392913</td>\n",
              "    </tr>\n",
              "    <tr>\n",
              "      <th>2</th>\n",
              "      <td>2016-08</td>\n",
              "      <td>C_ID_d639edf6cd</td>\n",
              "      <td>2</td>\n",
              "      <td>2</td>\n",
              "      <td>0</td>\n",
              "      <td>0.688056</td>\n",
              "    </tr>\n",
              "    <tr>\n",
              "      <th>3</th>\n",
              "      <td>2017-09</td>\n",
              "      <td>C_ID_186d6a6901</td>\n",
              "      <td>4</td>\n",
              "      <td>3</td>\n",
              "      <td>0</td>\n",
              "      <td>0.142495</td>\n",
              "    </tr>\n",
              "    <tr>\n",
              "      <th>4</th>\n",
              "      <td>2017-11</td>\n",
              "      <td>C_ID_cdbd2c0db2</td>\n",
              "      <td>1</td>\n",
              "      <td>3</td>\n",
              "      <td>0</td>\n",
              "      <td>-0.159749</td>\n",
              "    </tr>\n",
              "  </tbody>\n",
              "</table>\n",
              "</div>\n",
              "      <button class=\"colab-df-convert\" onclick=\"convertToInteractive('df-4d430970-4256-4a8a-bdeb-d92385820a41')\"\n",
              "              title=\"Convert this dataframe to an interactive table.\"\n",
              "              style=\"display:none;\">\n",
              "        \n",
              "  <svg xmlns=\"http://www.w3.org/2000/svg\" height=\"24px\"viewBox=\"0 0 24 24\"\n",
              "       width=\"24px\">\n",
              "    <path d=\"M0 0h24v24H0V0z\" fill=\"none\"/>\n",
              "    <path d=\"M18.56 5.44l.94 2.06.94-2.06 2.06-.94-2.06-.94-.94-2.06-.94 2.06-2.06.94zm-11 1L8.5 8.5l.94-2.06 2.06-.94-2.06-.94L8.5 2.5l-.94 2.06-2.06.94zm10 10l.94 2.06.94-2.06 2.06-.94-2.06-.94-.94-2.06-.94 2.06-2.06.94z\"/><path d=\"M17.41 7.96l-1.37-1.37c-.4-.4-.92-.59-1.43-.59-.52 0-1.04.2-1.43.59L10.3 9.45l-7.72 7.72c-.78.78-.78 2.05 0 2.83L4 21.41c.39.39.9.59 1.41.59.51 0 1.02-.2 1.41-.59l7.78-7.78 2.81-2.81c.8-.78.8-2.07 0-2.86zM5.41 20L4 18.59l7.72-7.72 1.47 1.35L5.41 20z\"/>\n",
              "  </svg>\n",
              "      </button>\n",
              "      \n",
              "  <style>\n",
              "    .colab-df-container {\n",
              "      display:flex;\n",
              "      flex-wrap:wrap;\n",
              "      gap: 12px;\n",
              "    }\n",
              "\n",
              "    .colab-df-convert {\n",
              "      background-color: #E8F0FE;\n",
              "      border: none;\n",
              "      border-radius: 50%;\n",
              "      cursor: pointer;\n",
              "      display: none;\n",
              "      fill: #1967D2;\n",
              "      height: 32px;\n",
              "      padding: 0 0 0 0;\n",
              "      width: 32px;\n",
              "    }\n",
              "\n",
              "    .colab-df-convert:hover {\n",
              "      background-color: #E2EBFA;\n",
              "      box-shadow: 0px 1px 2px rgba(60, 64, 67, 0.3), 0px 1px 3px 1px rgba(60, 64, 67, 0.15);\n",
              "      fill: #174EA6;\n",
              "    }\n",
              "\n",
              "    [theme=dark] .colab-df-convert {\n",
              "      background-color: #3B4455;\n",
              "      fill: #D2E3FC;\n",
              "    }\n",
              "\n",
              "    [theme=dark] .colab-df-convert:hover {\n",
              "      background-color: #434B5C;\n",
              "      box-shadow: 0px 1px 3px 1px rgba(0, 0, 0, 0.15);\n",
              "      filter: drop-shadow(0px 1px 2px rgba(0, 0, 0, 0.3));\n",
              "      fill: #FFFFFF;\n",
              "    }\n",
              "  </style>\n",
              "\n",
              "      <script>\n",
              "        const buttonEl =\n",
              "          document.querySelector('#df-4d430970-4256-4a8a-bdeb-d92385820a41 button.colab-df-convert');\n",
              "        buttonEl.style.display =\n",
              "          google.colab.kernel.accessAllowed ? 'block' : 'none';\n",
              "\n",
              "        async function convertToInteractive(key) {\n",
              "          const element = document.querySelector('#df-4d430970-4256-4a8a-bdeb-d92385820a41');\n",
              "          const dataTable =\n",
              "            await google.colab.kernel.invokeFunction('convertToInteractive',\n",
              "                                                     [key], {});\n",
              "          if (!dataTable) return;\n",
              "\n",
              "          const docLinkHtml = 'Like what you see? Visit the ' +\n",
              "            '<a target=\"_blank\" href=https://colab.research.google.com/notebooks/data_table.ipynb>data table notebook</a>'\n",
              "            + ' to learn more about interactive tables.';\n",
              "          element.innerHTML = '';\n",
              "          dataTable['output_type'] = 'display_data';\n",
              "          await google.colab.output.renderOutput(dataTable, element);\n",
              "          const docLink = document.createElement('div');\n",
              "          docLink.innerHTML = docLinkHtml;\n",
              "          element.appendChild(docLink);\n",
              "        }\n",
              "      </script>\n",
              "    </div>\n",
              "  </div>\n",
              "  "
            ]
          },
          "metadata": {},
          "execution_count": 14
        }
      ],
      "source": [
        "# 查看前5条数据\n",
        "train.head(5)"
      ]
    },
    {
      "cell_type": "code",
      "execution_count": null,
      "metadata": {
        "id": "aa770bc5-6889-422c-ba80-a3bf79feca27",
        "outputId": "978a7027-e9dc-497e-d4ff-ebd8cab0d680",
        "colab": {
          "base_uri": "https://localhost:8080/"
        }
      },
      "outputs": [
        {
          "output_type": "stream",
          "name": "stdout",
          "text": [
            "<class 'pandas.core.frame.DataFrame'>\n",
            "RangeIndex: 201917 entries, 0 to 201916\n",
            "Data columns (total 6 columns):\n",
            " #   Column              Non-Null Count   Dtype  \n",
            "---  ------              --------------   -----  \n",
            " 0   first_active_month  201917 non-null  object \n",
            " 1   card_id             201917 non-null  object \n",
            " 2   feature_1           201917 non-null  int64  \n",
            " 3   feature_2           201917 non-null  int64  \n",
            " 4   feature_3           201917 non-null  int64  \n",
            " 5   target              201917 non-null  float64\n",
            "dtypes: float64(1), int64(3), object(2)\n",
            "memory usage: 9.2+ MB\n"
          ]
        }
      ],
      "source": [
        "# 查看数据集信息\n",
        "train.info()"
      ]
    },
    {
      "cell_type": "markdown",
      "metadata": {
        "id": "edfff31c-5ab8-4782-a75b-d24ea44e0298"
      },
      "source": [
        "回顾数据字典中的train表，查看train数据集中各字段解释："
      ]
    },
    {
      "cell_type": "code",
      "execution_count": null,
      "metadata": {
        "id": "4b764775-c2d9-462b-b74a-5a198abc4a04",
        "outputId": "daf6b698-2a59-4226-8951-c8e24b78dd8b",
        "colab": {
          "base_uri": "https://localhost:8080/",
          "height": 237
        }
      },
      "outputs": [
        {
          "output_type": "execute_result",
          "data": {
            "text/plain": [
              "              Columns                                        Description\n",
              "0             card_id                             Unique card identifier\n",
              "1  first_active_month                 'YYYY-MM', month of first purchase\n",
              "2           feature_1                Anonymized card categorical feature\n",
              "3           feature_2                Anonymized card categorical feature\n",
              "4           feature_3                Anonymized card categorical feature\n",
              "5              target  Loyalty numerical score calculated 2 months af..."
            ],
            "text/html": [
              "\n",
              "  <div id=\"df-a2dfe945-119b-46cf-b426-36fde341b94a\">\n",
              "    <div class=\"colab-df-container\">\n",
              "      <div>\n",
              "<style scoped>\n",
              "    .dataframe tbody tr th:only-of-type {\n",
              "        vertical-align: middle;\n",
              "    }\n",
              "\n",
              "    .dataframe tbody tr th {\n",
              "        vertical-align: top;\n",
              "    }\n",
              "\n",
              "    .dataframe thead th {\n",
              "        text-align: right;\n",
              "    }\n",
              "</style>\n",
              "<table border=\"1\" class=\"dataframe\">\n",
              "  <thead>\n",
              "    <tr style=\"text-align: right;\">\n",
              "      <th></th>\n",
              "      <th>Columns</th>\n",
              "      <th>Description</th>\n",
              "    </tr>\n",
              "  </thead>\n",
              "  <tbody>\n",
              "    <tr>\n",
              "      <th>0</th>\n",
              "      <td>card_id</td>\n",
              "      <td>Unique card identifier</td>\n",
              "    </tr>\n",
              "    <tr>\n",
              "      <th>1</th>\n",
              "      <td>first_active_month</td>\n",
              "      <td>'YYYY-MM', month of first purchase</td>\n",
              "    </tr>\n",
              "    <tr>\n",
              "      <th>2</th>\n",
              "      <td>feature_1</td>\n",
              "      <td>Anonymized card categorical feature</td>\n",
              "    </tr>\n",
              "    <tr>\n",
              "      <th>3</th>\n",
              "      <td>feature_2</td>\n",
              "      <td>Anonymized card categorical feature</td>\n",
              "    </tr>\n",
              "    <tr>\n",
              "      <th>4</th>\n",
              "      <td>feature_3</td>\n",
              "      <td>Anonymized card categorical feature</td>\n",
              "    </tr>\n",
              "    <tr>\n",
              "      <th>5</th>\n",
              "      <td>target</td>\n",
              "      <td>Loyalty numerical score calculated 2 months af...</td>\n",
              "    </tr>\n",
              "  </tbody>\n",
              "</table>\n",
              "</div>\n",
              "      <button class=\"colab-df-convert\" onclick=\"convertToInteractive('df-a2dfe945-119b-46cf-b426-36fde341b94a')\"\n",
              "              title=\"Convert this dataframe to an interactive table.\"\n",
              "              style=\"display:none;\">\n",
              "        \n",
              "  <svg xmlns=\"http://www.w3.org/2000/svg\" height=\"24px\"viewBox=\"0 0 24 24\"\n",
              "       width=\"24px\">\n",
              "    <path d=\"M0 0h24v24H0V0z\" fill=\"none\"/>\n",
              "    <path d=\"M18.56 5.44l.94 2.06.94-2.06 2.06-.94-2.06-.94-.94-2.06-.94 2.06-2.06.94zm-11 1L8.5 8.5l.94-2.06 2.06-.94-2.06-.94L8.5 2.5l-.94 2.06-2.06.94zm10 10l.94 2.06.94-2.06 2.06-.94-2.06-.94-.94-2.06-.94 2.06-2.06.94z\"/><path d=\"M17.41 7.96l-1.37-1.37c-.4-.4-.92-.59-1.43-.59-.52 0-1.04.2-1.43.59L10.3 9.45l-7.72 7.72c-.78.78-.78 2.05 0 2.83L4 21.41c.39.39.9.59 1.41.59.51 0 1.02-.2 1.41-.59l7.78-7.78 2.81-2.81c.8-.78.8-2.07 0-2.86zM5.41 20L4 18.59l7.72-7.72 1.47 1.35L5.41 20z\"/>\n",
              "  </svg>\n",
              "      </button>\n",
              "      \n",
              "  <style>\n",
              "    .colab-df-container {\n",
              "      display:flex;\n",
              "      flex-wrap:wrap;\n",
              "      gap: 12px;\n",
              "    }\n",
              "\n",
              "    .colab-df-convert {\n",
              "      background-color: #E8F0FE;\n",
              "      border: none;\n",
              "      border-radius: 50%;\n",
              "      cursor: pointer;\n",
              "      display: none;\n",
              "      fill: #1967D2;\n",
              "      height: 32px;\n",
              "      padding: 0 0 0 0;\n",
              "      width: 32px;\n",
              "    }\n",
              "\n",
              "    .colab-df-convert:hover {\n",
              "      background-color: #E2EBFA;\n",
              "      box-shadow: 0px 1px 2px rgba(60, 64, 67, 0.3), 0px 1px 3px 1px rgba(60, 64, 67, 0.15);\n",
              "      fill: #174EA6;\n",
              "    }\n",
              "\n",
              "    [theme=dark] .colab-df-convert {\n",
              "      background-color: #3B4455;\n",
              "      fill: #D2E3FC;\n",
              "    }\n",
              "\n",
              "    [theme=dark] .colab-df-convert:hover {\n",
              "      background-color: #434B5C;\n",
              "      box-shadow: 0px 1px 3px 1px rgba(0, 0, 0, 0.15);\n",
              "      filter: drop-shadow(0px 1px 2px rgba(0, 0, 0, 0.3));\n",
              "      fill: #FFFFFF;\n",
              "    }\n",
              "  </style>\n",
              "\n",
              "      <script>\n",
              "        const buttonEl =\n",
              "          document.querySelector('#df-a2dfe945-119b-46cf-b426-36fde341b94a button.colab-df-convert');\n",
              "        buttonEl.style.display =\n",
              "          google.colab.kernel.accessAllowed ? 'block' : 'none';\n",
              "\n",
              "        async function convertToInteractive(key) {\n",
              "          const element = document.querySelector('#df-a2dfe945-119b-46cf-b426-36fde341b94a');\n",
              "          const dataTable =\n",
              "            await google.colab.kernel.invokeFunction('convertToInteractive',\n",
              "                                                     [key], {});\n",
              "          if (!dataTable) return;\n",
              "\n",
              "          const docLinkHtml = 'Like what you see? Visit the ' +\n",
              "            '<a target=\"_blank\" href=https://colab.research.google.com/notebooks/data_table.ipynb>data table notebook</a>'\n",
              "            + ' to learn more about interactive tables.';\n",
              "          element.innerHTML = '';\n",
              "          dataTable['output_type'] = 'display_data';\n",
              "          await google.colab.output.renderOutput(dataTable, element);\n",
              "          const docLink = document.createElement('div');\n",
              "          docLink.innerHTML = docLinkHtml;\n",
              "          element.appendChild(docLink);\n",
              "        }\n",
              "      </script>\n",
              "    </div>\n",
              "  </div>\n",
              "  "
            ]
          },
          "metadata": {},
          "execution_count": 17
        }
      ],
      "source": [
        "pd.read_excel('Data_Dictionary.xlsx', header=2, sheet_name='train')"
      ]
    },
    {
      "cell_type": "markdown",
      "metadata": {
        "id": "cbd4fe8b-27f7-40ab-b1d6-274f2c748b11"
      },
      "source": [
        "实际含义如下："
      ]
    },
    {
      "cell_type": "markdown",
      "metadata": {
        "id": "e7fa3edb-6096-4e50-a9e1-ff745e4478c9"
      },
      "source": [
        "| 字段 | 解释 |\n",
        "| ------ | ------ |\n",
        "| card_id | 第一无二的信用卡标志 |\n",
        "| first_active_month | 信用卡首次激活时间，按照类似2017-02排列 |\n",
        "| feature_1/2/3 | 匿名特征（不带明显业务背景或人工合成的特征） |\n",
        "| target | 标签，忠诚度评分 |"
      ]
    },
    {
      "cell_type": "markdown",
      "metadata": {
        "id": "1ccaa588-2d65-4de7-9f87-15562d9fce67"
      },
      "source": [
        "- test：测试数据集"
      ]
    },
    {
      "cell_type": "code",
      "execution_count": null,
      "metadata": {
        "id": "537f97a3-a67e-4e52-97a8-07353fb0c951",
        "outputId": "f28d6bb6-15fc-432f-fd98-0b098773a9de",
        "colab": {
          "base_uri": "https://localhost:8080/",
          "height": 206
        }
      },
      "outputs": [
        {
          "output_type": "execute_result",
          "data": {
            "text/plain": [
              "  first_active_month          card_id  feature_1  feature_2  feature_3\n",
              "0            2017-04  C_ID_0ab67a22ab          3          3          1\n",
              "1            2017-01  C_ID_130fd0cbdd          2          3          0\n",
              "2            2017-08  C_ID_b709037bc5          5          1          1\n",
              "3            2017-12  C_ID_d27d835a9f          2          1          0\n",
              "4            2015-12  C_ID_2b5e3df5c2          5          1          1"
            ],
            "text/html": [
              "\n",
              "  <div id=\"df-89d54c6f-c560-4beb-89fd-aeb2ceeafbb7\">\n",
              "    <div class=\"colab-df-container\">\n",
              "      <div>\n",
              "<style scoped>\n",
              "    .dataframe tbody tr th:only-of-type {\n",
              "        vertical-align: middle;\n",
              "    }\n",
              "\n",
              "    .dataframe tbody tr th {\n",
              "        vertical-align: top;\n",
              "    }\n",
              "\n",
              "    .dataframe thead th {\n",
              "        text-align: right;\n",
              "    }\n",
              "</style>\n",
              "<table border=\"1\" class=\"dataframe\">\n",
              "  <thead>\n",
              "    <tr style=\"text-align: right;\">\n",
              "      <th></th>\n",
              "      <th>first_active_month</th>\n",
              "      <th>card_id</th>\n",
              "      <th>feature_1</th>\n",
              "      <th>feature_2</th>\n",
              "      <th>feature_3</th>\n",
              "    </tr>\n",
              "  </thead>\n",
              "  <tbody>\n",
              "    <tr>\n",
              "      <th>0</th>\n",
              "      <td>2017-04</td>\n",
              "      <td>C_ID_0ab67a22ab</td>\n",
              "      <td>3</td>\n",
              "      <td>3</td>\n",
              "      <td>1</td>\n",
              "    </tr>\n",
              "    <tr>\n",
              "      <th>1</th>\n",
              "      <td>2017-01</td>\n",
              "      <td>C_ID_130fd0cbdd</td>\n",
              "      <td>2</td>\n",
              "      <td>3</td>\n",
              "      <td>0</td>\n",
              "    </tr>\n",
              "    <tr>\n",
              "      <th>2</th>\n",
              "      <td>2017-08</td>\n",
              "      <td>C_ID_b709037bc5</td>\n",
              "      <td>5</td>\n",
              "      <td>1</td>\n",
              "      <td>1</td>\n",
              "    </tr>\n",
              "    <tr>\n",
              "      <th>3</th>\n",
              "      <td>2017-12</td>\n",
              "      <td>C_ID_d27d835a9f</td>\n",
              "      <td>2</td>\n",
              "      <td>1</td>\n",
              "      <td>0</td>\n",
              "    </tr>\n",
              "    <tr>\n",
              "      <th>4</th>\n",
              "      <td>2015-12</td>\n",
              "      <td>C_ID_2b5e3df5c2</td>\n",
              "      <td>5</td>\n",
              "      <td>1</td>\n",
              "      <td>1</td>\n",
              "    </tr>\n",
              "  </tbody>\n",
              "</table>\n",
              "</div>\n",
              "      <button class=\"colab-df-convert\" onclick=\"convertToInteractive('df-89d54c6f-c560-4beb-89fd-aeb2ceeafbb7')\"\n",
              "              title=\"Convert this dataframe to an interactive table.\"\n",
              "              style=\"display:none;\">\n",
              "        \n",
              "  <svg xmlns=\"http://www.w3.org/2000/svg\" height=\"24px\"viewBox=\"0 0 24 24\"\n",
              "       width=\"24px\">\n",
              "    <path d=\"M0 0h24v24H0V0z\" fill=\"none\"/>\n",
              "    <path d=\"M18.56 5.44l.94 2.06.94-2.06 2.06-.94-2.06-.94-.94-2.06-.94 2.06-2.06.94zm-11 1L8.5 8.5l.94-2.06 2.06-.94-2.06-.94L8.5 2.5l-.94 2.06-2.06.94zm10 10l.94 2.06.94-2.06 2.06-.94-2.06-.94-.94-2.06-.94 2.06-2.06.94z\"/><path d=\"M17.41 7.96l-1.37-1.37c-.4-.4-.92-.59-1.43-.59-.52 0-1.04.2-1.43.59L10.3 9.45l-7.72 7.72c-.78.78-.78 2.05 0 2.83L4 21.41c.39.39.9.59 1.41.59.51 0 1.02-.2 1.41-.59l7.78-7.78 2.81-2.81c.8-.78.8-2.07 0-2.86zM5.41 20L4 18.59l7.72-7.72 1.47 1.35L5.41 20z\"/>\n",
              "  </svg>\n",
              "      </button>\n",
              "      \n",
              "  <style>\n",
              "    .colab-df-container {\n",
              "      display:flex;\n",
              "      flex-wrap:wrap;\n",
              "      gap: 12px;\n",
              "    }\n",
              "\n",
              "    .colab-df-convert {\n",
              "      background-color: #E8F0FE;\n",
              "      border: none;\n",
              "      border-radius: 50%;\n",
              "      cursor: pointer;\n",
              "      display: none;\n",
              "      fill: #1967D2;\n",
              "      height: 32px;\n",
              "      padding: 0 0 0 0;\n",
              "      width: 32px;\n",
              "    }\n",
              "\n",
              "    .colab-df-convert:hover {\n",
              "      background-color: #E2EBFA;\n",
              "      box-shadow: 0px 1px 2px rgba(60, 64, 67, 0.3), 0px 1px 3px 1px rgba(60, 64, 67, 0.15);\n",
              "      fill: #174EA6;\n",
              "    }\n",
              "\n",
              "    [theme=dark] .colab-df-convert {\n",
              "      background-color: #3B4455;\n",
              "      fill: #D2E3FC;\n",
              "    }\n",
              "\n",
              "    [theme=dark] .colab-df-convert:hover {\n",
              "      background-color: #434B5C;\n",
              "      box-shadow: 0px 1px 3px 1px rgba(0, 0, 0, 0.15);\n",
              "      filter: drop-shadow(0px 1px 2px rgba(0, 0, 0, 0.3));\n",
              "      fill: #FFFFFF;\n",
              "    }\n",
              "  </style>\n",
              "\n",
              "      <script>\n",
              "        const buttonEl =\n",
              "          document.querySelector('#df-89d54c6f-c560-4beb-89fd-aeb2ceeafbb7 button.colab-df-convert');\n",
              "        buttonEl.style.display =\n",
              "          google.colab.kernel.accessAllowed ? 'block' : 'none';\n",
              "\n",
              "        async function convertToInteractive(key) {\n",
              "          const element = document.querySelector('#df-89d54c6f-c560-4beb-89fd-aeb2ceeafbb7');\n",
              "          const dataTable =\n",
              "            await google.colab.kernel.invokeFunction('convertToInteractive',\n",
              "                                                     [key], {});\n",
              "          if (!dataTable) return;\n",
              "\n",
              "          const docLinkHtml = 'Like what you see? Visit the ' +\n",
              "            '<a target=\"_blank\" href=https://colab.research.google.com/notebooks/data_table.ipynb>data table notebook</a>'\n",
              "            + ' to learn more about interactive tables.';\n",
              "          element.innerHTML = '';\n",
              "          dataTable['output_type'] = 'display_data';\n",
              "          await google.colab.output.renderOutput(dataTable, element);\n",
              "          const docLink = document.createElement('div');\n",
              "          docLink.innerHTML = docLinkHtml;\n",
              "          element.appendChild(docLink);\n",
              "        }\n",
              "      </script>\n",
              "    </div>\n",
              "  </div>\n",
              "  "
            ]
          },
          "metadata": {},
          "execution_count": 18
        }
      ],
      "source": [
        "# 查看前5条数据，和submission一致\n",
        "test.head(5)"
      ]
    },
    {
      "cell_type": "code",
      "execution_count": null,
      "metadata": {
        "id": "fb1b1bb7-6ae4-40f5-bc5c-fbb989fefcf4",
        "outputId": "89edf1e8-99cc-4c71-da92-22eebecb53ca",
        "colab": {
          "base_uri": "https://localhost:8080/"
        }
      },
      "outputs": [
        {
          "output_type": "stream",
          "name": "stdout",
          "text": [
            "<class 'pandas.core.frame.DataFrame'>\n",
            "RangeIndex: 123623 entries, 0 to 123622\n",
            "Data columns (total 5 columns):\n",
            " #   Column              Non-Null Count   Dtype \n",
            "---  ------              --------------   ----- \n",
            " 0   first_active_month  123622 non-null  object\n",
            " 1   card_id             123623 non-null  object\n",
            " 2   feature_1           123623 non-null  int64 \n",
            " 3   feature_2           123623 non-null  int64 \n",
            " 4   feature_3           123623 non-null  int64 \n",
            "dtypes: int64(3), object(2)\n",
            "memory usage: 4.7+ MB\n"
          ]
        }
      ],
      "source": [
        "test.info()"
      ]
    },
    {
      "cell_type": "markdown",
      "metadata": {
        "id": "6ad41223-4629-4e48-9941-49bbaebe5a91"
      },
      "source": [
        "并且各字段的解释和train一致。实际比赛过程中，由于测试集的标签“不可知”，所以需要在训练集train上划分出验证集来进行模型泛化能力评估。"
      ]
    },
    {
      "cell_type": "markdown",
      "metadata": {
        "id": "eee0f9f4-9f24-40e7-9485-1e0599caad7f"
      },
      "source": [
        "### 2.数据质量分析"
      ]
    },
    {
      "cell_type": "markdown",
      "metadata": {
        "id": "4e0d656a-3866-4036-8947-5fd3a0da0d0b"
      },
      "source": [
        "&emsp;&emsp;接下来简单数据探索。在实际建模过程中，首先我们会先校验数据的正确性，并检验缺失值、异常值等情况。"
      ]
    },
    {
      "cell_type": "markdown",
      "metadata": {
        "id": "3341fd1d-abb7-46a2-aab2-bc49ded4132e"
      },
      "source": [
        "- 数据正确性校验"
      ]
    },
    {
      "cell_type": "markdown",
      "metadata": {
        "id": "fc9dde8e-e89b-467c-8bf9-e73f71116364"
      },
      "source": [
        "&emsp;&emsp;所谓数据正确性，指的是数据本身是否符合基本逻辑，例如此处信用卡id作为建模分析对象独一无二的标识，我们需要验证其是否确实独一无二，并且训练集和测试集信用卡id无重复。"
      ]
    },
    {
      "cell_type": "code",
      "execution_count": null,
      "metadata": {
        "id": "abaa0897-43ae-4604-9eec-53a517397553",
        "outputId": "20e5729f-1cfa-414a-aa4a-3b2719853387",
        "colab": {
          "base_uri": "https://localhost:8080/"
        }
      },
      "outputs": [
        {
          "output_type": "execute_result",
          "data": {
            "text/plain": [
              "True"
            ]
          },
          "metadata": {},
          "execution_count": 20
        }
      ],
      "source": [
        "# 检验训练集id无重复\n",
        "train['card_id'].nunique() == train.shape[0]"
      ]
    },
    {
      "cell_type": "code",
      "execution_count": null,
      "metadata": {
        "id": "7dcbefec-2a31-488a-9d86-530c23b794d7",
        "outputId": "e9f6e185-c2b5-43d6-f92d-330ee6dfc28f",
        "colab": {
          "base_uri": "https://localhost:8080/"
        }
      },
      "outputs": [
        {
          "output_type": "execute_result",
          "data": {
            "text/plain": [
              "True"
            ]
          },
          "metadata": {},
          "execution_count": 21
        }
      ],
      "source": [
        "# 检验测试集id无重复\n",
        "test['card_id'].nunique() == test.shape[0]"
      ]
    },
    {
      "cell_type": "code",
      "execution_count": null,
      "metadata": {
        "id": "f6c658e6-8aff-44bd-9b6f-0fabb3d87cbb",
        "outputId": "2c85192a-2bcf-4cbc-bbcc-662ebbcb144c",
        "colab": {
          "base_uri": "https://localhost:8080/"
        }
      },
      "outputs": [
        {
          "output_type": "execute_result",
          "data": {
            "text/plain": [
              "True"
            ]
          },
          "metadata": {},
          "execution_count": 22
        }
      ],
      "source": [
        "# 检验训练集和测试集id都是唯一值\n",
        "test['card_id'].nunique()+ train['card_id'].nunique()  == len(set(test['card_id'].values.tolist() + train['card_id'].values.tolist()))"
      ]
    },
    {
      "cell_type": "markdown",
      "metadata": {
        "id": "a5777ba7-05db-4943-bebb-976ba8ec6a6d"
      },
      "source": [
        "- 检验数据缺失情况"
      ]
    },
    {
      "cell_type": "markdown",
      "metadata": {
        "id": "8ef76bb4-ce96-44c2-a94d-bf9d4c324d5e"
      },
      "source": [
        "&emsp;&emsp;接下来，进一步检验数据确实情况："
      ]
    },
    {
      "cell_type": "code",
      "execution_count": null,
      "metadata": {
        "id": "f90c73b3-f672-45a3-b2a0-ae2646e611bb",
        "outputId": "961ee548-96f3-4883-db1d-7ae2783bb66d",
        "colab": {
          "base_uri": "https://localhost:8080/"
        }
      },
      "outputs": [
        {
          "output_type": "execute_result",
          "data": {
            "text/plain": [
              "first_active_month    0\n",
              "card_id               0\n",
              "feature_1             0\n",
              "feature_2             0\n",
              "feature_3             0\n",
              "target                0\n",
              "dtype: int64"
            ]
          },
          "metadata": {},
          "execution_count": 23
        }
      ],
      "source": [
        "# 按列求缺失值并汇总\n",
        "train.isnull().sum()"
      ]
    },
    {
      "cell_type": "code",
      "execution_count": null,
      "metadata": {
        "id": "434796a4-fc17-41b0-89f4-0e690b7b2130",
        "outputId": "49a45f09-8dea-48f8-b368-b86ecc3b1711",
        "colab": {
          "base_uri": "https://localhost:8080/"
        }
      },
      "outputs": [
        {
          "output_type": "execute_result",
          "data": {
            "text/plain": [
              "first_active_month    1\n",
              "card_id               0\n",
              "feature_1             0\n",
              "feature_2             0\n",
              "feature_3             0\n",
              "dtype: int64"
            ]
          },
          "metadata": {},
          "execution_count": 24
        }
      ],
      "source": [
        "test.isnull().sum()"
      ]
    },
    {
      "cell_type": "markdown",
      "metadata": {
        "id": "463552f6-c834-4de1-91a0-7b72b11859dc"
      },
      "source": [
        "能够发现数据集基本无缺失值，测试集中的唯一一个缺失值我们可以通过多种方式来进行填补，整体来说一条缺失值并不会对整体建模造成太大影响。"
      ]
    },
    {
      "cell_type": "markdown",
      "metadata": {
        "id": "e5709b6f-6be2-4ef2-9fc9-e8f3a373534a"
      },
      "source": [
        "- 异常值"
      ]
    },
    {
      "cell_type": "markdown",
      "metadata": {
        "id": "217a96b7-9886-4d0d-a3ef-33908614a92a"
      },
      "source": [
        "&emsp;&emsp;接下来进行异常值检验。由于我们尚未对数据集特征进行预处理，因此我们先查看标签列的异常值情况。首先我们可以用describe()方法查看这一列的基本统计信息："
      ]
    },
    {
      "cell_type": "code",
      "execution_count": null,
      "metadata": {
        "id": "6c668ba9-b210-4955-bfa3-55391c5adeb5",
        "outputId": "54ad5ac1-338a-4b89-81db-60e7d967c96e",
        "colab": {
          "base_uri": "https://localhost:8080/"
        }
      },
      "outputs": [
        {
          "output_type": "execute_result",
          "data": {
            "text/plain": [
              "count    201917.000000\n",
              "mean         -0.393636\n",
              "std           3.850500\n",
              "min         -33.219281\n",
              "25%          -0.883110\n",
              "50%          -0.023437\n",
              "75%           0.765453\n",
              "max          17.965068\n",
              "Name: target, dtype: float64"
            ]
          },
          "metadata": {},
          "execution_count": 25
        }
      ],
      "source": [
        "statistics = train['target'].describe()\n",
        "statistics"
      ]
    },
    {
      "cell_type": "markdown",
      "metadata": {
        "id": "390fee7f-7941-4c6b-8a3f-55f3ea61ad08"
      },
      "source": [
        "由于该列是连续变量，我们可以借助概率密度直方图进行分布的观察："
      ]
    },
    {
      "cell_type": "code",
      "execution_count": null,
      "metadata": {
        "id": "28ef4fa3-da2d-443f-8c97-a4a994ed1803"
      },
      "outputs": [],
      "source": [
        "import seaborn as sns\n",
        "import matplotlib.pyplot as plt"
      ]
    },
    {
      "cell_type": "code",
      "execution_count": null,
      "metadata": {
        "id": "40822179-b1ef-4d29-a419-d650744e2469",
        "outputId": "82144905-e029-43f8-9711-a4fd88cd259a",
        "colab": {
          "base_uri": "https://localhost:8080/",
          "height": 628
        }
      },
      "outputs": [
        {
          "output_type": "execute_result",
          "data": {
            "text/plain": [
              "<matplotlib.axes._subplots.AxesSubplot at 0x7faff09dd950>"
            ]
          },
          "metadata": {},
          "execution_count": 54
        },
        {
          "output_type": "display_data",
          "data": {
            "text/plain": [
              "<Figure size 864x720 with 1 Axes>"
            ],
            "image/png": "[encoded data removed]"
          },
          "metadata": {}
        }
      ],
      "source": [
        "sns.set(rc={'figure.figsize': (12, 10)})  # 设置画板大小\n",
        "\n",
        "sns.histplot(train['target'] , kde=True)"
      ]
    },
    {
      "cell_type": "markdown",
      "metadata": {
        "id": "139664ec-2662-4472-9a2b-c4aea081e36f"
      },
      "source": [
        "能够发现，大部分用户忠诚度评分都集中在[-10,10]之间，并且基本符合正态分布，唯一需要注意的是有个别异常值取值在-30以下，该数据在后续分析中需要额外注意。我们可以简单查看有多少用户的标签数值是小于30的："
      ]
    },
    {
      "cell_type": "code",
      "execution_count": null,
      "metadata": {
        "id": "14ed24b5-f5a8-44af-a664-63b9c5e693ce",
        "outputId": "96e5c6ae-40fd-42ec-e6e6-af29f0b4d988",
        "colab": {
          "base_uri": "https://localhost:8080/"
        }
      },
      "outputs": [
        {
          "output_type": "execute_result",
          "data": {
            "text/plain": [
              "2207"
            ]
          },
          "metadata": {},
          "execution_count": 42
        }
      ],
      "source": [
        "(train['target'] < -30).sum()"
      ]
    },
    {
      "cell_type": "code",
      "source": [
        "( abs(train['target']) < 1).sum()"
      ],
      "metadata": {
        "colab": {
          "base_uri": "https://localhost:8080/"
        },
        "id": "SthRXnc7WFah",
        "outputId": "d003c0ab-b076-44cf-9e4e-9426d3ef75f6"
      },
      "execution_count": null,
      "outputs": [
        {
          "output_type": "execute_result",
          "data": {
            "text/plain": [
              "115158"
            ]
          },
          "metadata": {},
          "execution_count": 49
        }
      ]
    },
    {
      "cell_type": "markdown",
      "metadata": {
        "id": "dff435d0-041f-4c7d-a2df-e7725e7d98f8"
      },
      "source": [
        "约占整体20万数据的1%。"
      ]
    },
    {
      "cell_type": "markdown",
      "metadata": {
        "id": "b2edd6b8-b592-46fd-b869-6b3aff341101"
      },
      "source": [
        "&emsp;&emsp;当然，对于连续变量，一般可以采用$3\\delta$原则进行异常值识别，此处我们也可以简单计算下异常值范围："
      ]
    },
    {
      "cell_type": "code",
      "execution_count": null,
      "metadata": {
        "id": "77f691c7-9c18-4589-9a29-a6f6fd29afd7",
        "outputId": "9c928572-29f1-4924-c5ec-065a63584946",
        "colab": {
          "base_uri": "https://localhost:8080/"
        }
      },
      "outputs": [
        {
          "output_type": "execute_result",
          "data": {
            "text/plain": [
              "-11.945136285536291"
            ]
          },
          "metadata": {},
          "execution_count": 34
        }
      ],
      "source": [
        "statistics.loc['mean'] - 3 * statistics.loc['std']"
      ]
    },
    {
      "cell_type": "markdown",
      "metadata": {
        "id": "40adbbd9-8d43-4584-9edc-ad8a6d2fe56c"
      },
      "source": [
        "即取值大于或小于11.94即可视作异常。"
      ]
    },
    {
      "cell_type": "markdown",
      "metadata": {
        "id": "d1f8fcd5-409f-4b7f-b35a-66559b7cf020"
      },
      "source": [
        "- 异常值分析"
      ]
    },
    {
      "cell_type": "markdown",
      "metadata": {
        "id": "d005d560-c6ff-456f-a195-6daa22d8646f"
      },
      "source": [
        "&emsp;&emsp;需要注意的是，此处我们是围绕标签进行的异常值检测，而本案例中标签并不是自然数值测量或统计的结果（如消费金额、身高体重等），而是通过某种公式人工计算得出（详见赛题分析）。出现如此离群点极有可能是某类特殊用户的标记。因此不宜进行异常值处理，而应该将其单独视作特殊的一类，在后续建模分析时候单独对此类用户进行特征提取与建模分析。"
      ]
    },
    {
      "cell_type": "markdown",
      "metadata": {
        "id": "31779d21-ca6c-401a-ac12-b4bfc53f943c"
      },
      "source": [
        "### 4.规律一致性分析"
      ]
    },
    {
      "cell_type": "markdown",
      "metadata": {
        "id": "71b5b853-809d-4059-ba47-cc2fd432750a"
      },
      "source": [
        "&emsp;&emsp;接下来，进行训练集和测试集的规律一致性分析。        \n",
        "&emsp;&emsp;所谓规律一致性，指的是需要对训练集和测试集特征数据的分布进行简单比对，以“确定”两组数据是否诞生于同一个总体，即两组数据是否都遵循着背后总体的规律，即两组数据是否存在着规律一致性。      \n",
        "&emsp;&emsp;我们知道，尽管机器学习并不强调样本-总体的概念，但在训练集上挖掘到的规律要在测试集上起到预测效果，就必须要求这两部分数据受到相同规律的影响。一般来说，对于标签未知的测试集，我们可以通过特征的分布规律来判断两组数据是否取自同一总体。"
      ]
    },
    {
      "cell_type": "markdown",
      "metadata": {
        "id": "64b4773b-9959-4964-afea-b38157c8b933"
      },
      "source": [
        "- 单变量分析"
      ]
    },
    {
      "cell_type": "markdown",
      "metadata": {
        "id": "23124eeb-a509-4441-87c3-7d57824384f8"
      },
      "source": [
        "&emsp;&emsp;首先我们先进行简单的单变量分布规律的对比。由于数据集中四个变量都是离散型变量，因此其分布规律我们可以通过相对占比分布（某种意义上来说也就是概率分布）来进行比较。        \n",
        "&emsp;&emsp;例如首先我们查看首次激活月份的相对占比分布可以通过如下代码实现："
      ]
    },
    {
      "cell_type": "code",
      "execution_count": null,
      "metadata": {
        "id": "e1f9996e-3787-4439-bb49-1db64a70da04"
      },
      "outputs": [],
      "source": [
        "# 特征列名\n",
        "features = ['first_active_month','feature_1','feature_2','feature_3']\n",
        "\n",
        "# 训练集/测试集样本总数\n",
        "train_count = train.shape[0]\n",
        "test_count = test.shape[0]"
      ]
    },
    {
      "cell_type": "code",
      "execution_count": null,
      "metadata": {
        "id": "506b6d45-b417-4202-8a56-91aec0281e34",
        "outputId": "79f275cb-7a8d-4336-d3fd-14e6296655b9",
        "colab": {
          "base_uri": "https://localhost:8080/"
        }
      },
      "outputs": [
        {
          "output_type": "execute_result",
          "data": {
            "text/plain": [
              "2011-11    0.000040\n",
              "2011-12    0.000010\n",
              "2012-02    0.000035\n",
              "2012-03    0.000050\n",
              "2012-04    0.000089\n",
              "             ...   \n",
              "2017-10    0.067825\n",
              "2017-11    0.064036\n",
              "2017-12    0.050367\n",
              "2018-01    0.000168\n",
              "2018-02    0.000005\n",
              "Name: first_active_month, Length: 75, dtype: float64"
            ]
          },
          "metadata": {},
          "execution_count": 56
        }
      ],
      "source": [
        "# 不同取值水平汇总后排序再除以样本总数\n",
        "# value_counts是对不同值进行统计出现次数\n",
        "train['first_active_month'].value_counts().sort_index()/train_count"
      ]
    },
    {
      "cell_type": "code",
      "execution_count": null,
      "metadata": {
        "id": "030a144b-27a3-47b3-95f3-d16731cf3dab",
        "outputId": "1e35725a-1a68-4fdc-bf77-18aead05b33b",
        "colab": {
          "base_uri": "https://localhost:8080/",
          "height": 611
        }
      },
      "outputs": [
        {
          "output_type": "execute_result",
          "data": {
            "text/plain": [
              "<matplotlib.axes._subplots.AxesSubplot at 0x7faff301acd0>"
            ]
          },
          "metadata": {},
          "execution_count": 57
        },
        {
          "output_type": "display_data",
          "data": {
            "text/plain": [
              "<Figure size 864x720 with 1 Axes>"
            ],
            "image/png": "[encoded data removed]"
          },
          "metadata": {}
        }
      ],
      "source": [
        "# 分布图如下所示：\n",
        "(train['first_active_month'].value_counts().sort_index()/train_count).plot()"
      ]
    },
    {
      "cell_type": "markdown",
      "metadata": {
        "id": "d1596d89-d52c-4be9-b5a0-bf19bba13b0c"
      },
      "source": [
        "当然，我们需要同时对比训练集和测试集的四个特征，可以通过如下代码实现："
      ]
    },
    {
      "cell_type": "code",
      "execution_count": null,
      "metadata": {
        "id": "2bf364cb-e527-4a78-b1eb-91995e2b8f35",
        "outputId": "d935a804-36db-4d6b-e2e0-63c562c066d3",
        "colab": {
          "base_uri": "https://localhost:8080/",
          "height": 1000
        }
      },
      "outputs": [
        {
          "output_type": "display_data",
          "data": {
            "text/plain": [
              "<Figure size 864x720 with 1 Axes>"
            ],
            "image/png": "[encoded data removed]"
          },
          "metadata": {}
        },
        {
          "output_type": "display_data",
          "data": {
            "text/plain": [
              "<Figure size 864x720 with 1 Axes>"
            ],
            "image/png": "[encoded data removed]"
          },
          "metadata": {}
        },
        {
          "output_type": "display_data",
          "data": {
            "text/plain": [
              "<Figure size 864x720 with 1 Axes>"
            ],
            "image/png": "[encoded data removed]"
          },
          "metadata": {}
        },
        {
          "output_type": "display_data",
          "data": {
            "text/plain": [
              "<Figure size 864x720 with 1 Axes>"
            ],
            "image/png": "[encoded data removed]"
          },
          "metadata": {}
        }
      ],
      "source": [
        "for feature in features:\n",
        "    (train[feature].value_counts().sort_index()/train_count).plot()\n",
        "    (test[feature].value_counts().sort_index()/test_count).plot()\n",
        "    plt.legend(['train','test'])\n",
        "    plt.xlabel(feature)\n",
        "    plt.ylabel('ratio')\n",
        "    plt.show()"
      ]
    },
    {
      "cell_type": "markdown",
      "metadata": {
        "id": "58f045e2-9ed0-4d9e-9c30-cf56335c4b41"
      },
      "source": [
        "能够发现，两组数据的单变量分布基本一致。"
      ]
    },
    {
      "cell_type": "markdown",
      "metadata": {
        "id": "980790d9-73e3-4961-b812-7d363ea6c245"
      },
      "source": [
        "- 多变量联合分布"
      ]
    },
    {
      "cell_type": "markdown",
      "metadata": {
        "id": "a4bd14ee-af3f-4a01-9ed4-1f85f33ef016"
      },
      "source": [
        "&emsp;&emsp;接下来，我们进一步查看联合变量分布。所谓联合概率分布，指的是将离散变量两两组合，然后查看这个新变量的相对占比分布。例如特征1有0/1两个取值水平，特征2有A/B两个取值水平，则联合分布中就将存在0A、0B、1A、1B四种不同取值水平，然后进一步查看这四种不同取值水平出现的分布情况。        \n",
        "&emsp;&emsp;首先我们可以创建如下函数以实现两个变量“联合”的目的："
      ]
    },
    {
      "cell_type": "code",
      "execution_count": null,
      "metadata": {
        "id": "0bfa6da6-c93a-4401-beb4-c493b18cf049"
      },
      "outputs": [],
      "source": [
        "def combine_feature(df):\n",
        "    cols = df.columns\n",
        "    feature1 = df[cols[0]].astype(str).values.tolist()\n",
        "    feature2 = df[cols[1]].astype(str).values.tolist()\n",
        "    return pd.Series([feature1[i]+'&'+feature2[i] for i in range(df.shape[0])])"
      ]
    },
    {
      "cell_type": "markdown",
      "metadata": {
        "id": "9ebe1aba-2fdb-4b91-a451-aaa061529893"
      },
      "source": [
        "简单测试函数效果："
      ]
    },
    {
      "cell_type": "code",
      "execution_count": null,
      "metadata": {
        "id": "901d4477-d28b-49dc-99af-f4eaf7e9cbef",
        "outputId": "1e22d598-21a1-49dc-cefe-dd6f0e058da4",
        "colab": {
          "base_uri": "https://localhost:8080/"
        }
      },
      "outputs": [
        {
          "output_type": "execute_result",
          "data": {
            "text/plain": [
              "['first_active_month', 'feature_1']"
            ]
          },
          "metadata": {},
          "execution_count": 60
        }
      ],
      "source": [
        "# 选取两个特征\n",
        "cols = [features[0], features[1]]\n",
        "cols"
      ]
    },
    {
      "cell_type": "code",
      "execution_count": null,
      "metadata": {
        "id": "d61c5f24-6780-48db-b091-ae26306e94d9",
        "outputId": "55a0dcdc-4374-43fd-9efb-29a67a819ba1",
        "colab": {
          "base_uri": "https://localhost:8080/"
        }
      },
      "outputs": [
        {
          "output_type": "execute_result",
          "data": {
            "text/plain": [
              "0         2017-06&5\n",
              "1         2017-01&4\n",
              "2         2016-08&2\n",
              "3         2017-09&4\n",
              "4         2017-11&1\n",
              "            ...    \n",
              "201912    2017-09&3\n",
              "201913    2015-10&3\n",
              "201914    2017-08&4\n",
              "201915    2016-07&3\n",
              "201916    2017-07&3\n",
              "Length: 201917, dtype: object"
            ]
          },
          "metadata": {},
          "execution_count": 61
        }
      ],
      "source": [
        "# 查看合并后结果\n",
        "train_com = combine_feature(train[cols])\n",
        "train_com"
      ]
    },
    {
      "cell_type": "markdown",
      "metadata": {
        "id": "707c5145-74ab-4cfb-9d80-5299531d9cce"
      },
      "source": [
        "进一步计算占比分布："
      ]
    },
    {
      "cell_type": "code",
      "execution_count": null,
      "metadata": {
        "id": "0d47511e-0e03-4d44-be91-ef4f1086613a",
        "outputId": "701905c1-1ea2-4e20-db69-c1f885e6acca",
        "colab": {
          "base_uri": "https://localhost:8080/"
        }
      },
      "outputs": [
        {
          "output_type": "execute_result",
          "data": {
            "text/plain": [
              "2011-11&3    0.000040\n",
              "2011-12&3    0.000010\n",
              "2012-02&3    0.000035\n",
              "2012-03&3    0.000050\n",
              "2012-04&3    0.000089\n",
              "               ...   \n",
              "2018-01&2    0.000054\n",
              "2018-01&3    0.000020\n",
              "2018-01&4    0.000045\n",
              "2018-01&5    0.000015\n",
              "2018-02&1    0.000005\n",
              "Length: 239, dtype: float64"
            ]
          },
          "metadata": {},
          "execution_count": 62
        }
      ],
      "source": [
        "train_dis = train_com.value_counts().sort_index()/train_count\n",
        "train_dis"
      ]
    },
    {
      "cell_type": "markdown",
      "metadata": {
        "id": "4bf8a826-f30d-484a-9338-17cf10fb1284"
      },
      "source": [
        "当然，也可以对测试集进行相同操作："
      ]
    },
    {
      "cell_type": "code",
      "execution_count": null,
      "metadata": {
        "id": "572bcba4-3563-4d48-a33d-f874342e2ed0",
        "outputId": "876f911c-a260-4916-fe14-20e228699a47",
        "colab": {
          "base_uri": "https://localhost:8080/"
        }
      },
      "outputs": [
        {
          "output_type": "execute_result",
          "data": {
            "text/plain": [
              "2011-11&3    0.000040\n",
              "2011-12&3    0.000010\n",
              "2012-02&3    0.000035\n",
              "2012-03&3    0.000050\n",
              "2012-04&3    0.000089\n",
              "               ...   \n",
              "2018-01&2    0.000054\n",
              "2018-01&3    0.000020\n",
              "2018-01&4    0.000045\n",
              "2018-01&5    0.000015\n",
              "2018-02&1    0.000005\n",
              "Length: 239, dtype: float64"
            ]
          },
          "metadata": {},
          "execution_count": 63
        }
      ],
      "source": [
        "test_dis = combine_feature(test[cols]).value_counts().sort_index()/test_count\n",
        "train_dis"
      ]
    },
    {
      "cell_type": "markdown",
      "metadata": {
        "id": "602e5c96-852f-49f5-8b70-367afeca024c"
      },
      "source": [
        "然后对比二者分布："
      ]
    },
    {
      "cell_type": "code",
      "execution_count": null,
      "metadata": {
        "id": "a7fdb836-2118-4b78-af04-b708342905b8",
        "outputId": "73935eef-9e20-4d5d-cce9-ab3699725b0c",
        "colab": {
          "base_uri": "https://localhost:8080/",
          "height": 611
        }
      },
      "outputs": [
        {
          "output_type": "display_data",
          "data": {
            "text/plain": [
              "<Figure size 864x720 with 1 Axes>"
            ],
            "image/png": "[encoded data removed]"
          },
          "metadata": {}
        }
      ],
      "source": [
        "# 创建新的index\n",
        "index_dis = pd.Series(train_dis.index.tolist() + test_dis.index.tolist()).drop_duplicates().sort_values()\n",
        "\n",
        "# 对缺失值填补为0\n",
        "(index_dis.map(train_dis).fillna(0)).plot()\n",
        "(index_dis.map(train_dis).fillna(0)).plot()\n",
        "\n",
        "# 绘图\n",
        "plt.legend(['train','test'])\n",
        "plt.xlabel('&'.join(cols))\n",
        "plt.ylabel('ratio')\n",
        "plt.show()"
      ]
    },
    {
      "cell_type": "markdown",
      "metadata": {
        "id": "ede5faff-8f3a-49e7-9979-3fde8fb50f4f"
      },
      "source": [
        "能够发现其分布基本一致。当然我们可以通过如下代码快速致性所有两两变量联合分布的比较："
      ]
    },
    {
      "cell_type": "code",
      "execution_count": null,
      "metadata": {
        "id": "00359da7-d18d-4a8d-aa76-98c61891008b",
        "outputId": "4b97fd63-9823-4b4a-a108-2fca4e15cbbe",
        "colab": {
          "base_uri": "https://localhost:8080/",
          "height": 1000
        }
      },
      "outputs": [
        {
          "output_type": "stream",
          "name": "stdout",
          "text": [
            "['first_active_month', 'feature_1']\n"
          ]
        },
        {
          "output_type": "display_data",
          "data": {
            "text/plain": [
              "<Figure size 864x720 with 1 Axes>"
            ],
            "image/png": "[encoded data removed]"
          },
          "metadata": {}
        },
        {
          "output_type": "stream",
          "name": "stdout",
          "text": [
            "['first_active_month', 'feature_2']\n"
          ]
        },
        {
          "output_type": "display_data",
          "data": {
            "text/plain": [
              "<Figure size 864x720 with 1 Axes>"
            ],
            "image/png": "[encoded data removed]"
          },
          "metadata": {}
        },
        {
          "output_type": "stream",
          "name": "stdout",
          "text": [
            "['first_active_month', 'feature_3']\n"
          ]
        },
        {
          "output_type": "display_data",
          "data": {
            "text/plain": [
              "<Figure size 864x720 with 1 Axes>"
            ],
            "image/png": "[encoded data removed]"
          },
          "metadata": {}
        },
        {
          "output_type": "stream",
          "name": "stdout",
          "text": [
            "['feature_1', 'feature_2']\n"
          ]
        },
        {
          "output_type": "display_data",
          "data": {
            "text/plain": [
              "<Figure size 864x720 with 1 Axes>"
            ],
            "image/png": "[encoded data removed]"
          },
          "metadata": {}
        },
        {
          "output_type": "stream",
          "name": "stdout",
          "text": [
            "['feature_1', 'feature_3']\n"
          ]
        },
        {
          "output_type": "display_data",
          "data": {
            "text/plain": [
              "<Figure size 864x720 with 1 Axes>"
            ],
            "image/png": "[encoded data removed]"
          },
          "metadata": {}
        },
        {
          "output_type": "stream",
          "name": "stdout",
          "text": [
            "['feature_2', 'feature_3']\n"
          ]
        },
        {
          "output_type": "display_data",
          "data": {
            "text/plain": [
              "<Figure size 864x720 with 1 Axes>"
            ],
            "image/png": "[encoded data removed]"
          },
          "metadata": {}
        }
      ],
      "source": [
        "n = len(features)\n",
        "for i in range(n-1):\n",
        "    for j in range(i+1, n):\n",
        "        cols = [features[i], features[j]]\n",
        "        print(cols)\n",
        "        train_dis = combine_feature(train[cols]).value_counts().sort_index()/train_count\n",
        "        test_dis = combine_feature(test[cols]).value_counts().sort_index()/test_count\n",
        "        index_dis = pd.Series(train_dis.index.tolist() + test_dis.index.tolist()).drop_duplicates().sort_values()\n",
        "        (index_dis.map(train_dis).fillna(0)).plot()\n",
        "        (index_dis.map(train_dis).fillna(0)).plot()\n",
        "        plt.legend(['train','test'])\n",
        "        plt.xlabel('&'.join(cols))\n",
        "        plt.ylabel('ratio')\n",
        "        plt.show()"
      ]
    },
    {
      "cell_type": "markdown",
      "metadata": {
        "id": "8df95c42-5af8-40b8-b9bb-e21ab718892a"
      },
      "source": [
        "能够发现所有联合变量的占比分布基本一致。数据集整体质量较高，且基本可以确认，训练集和测试集取自同一样本总体。"
      ]
    },
    {
      "cell_type": "markdown",
      "metadata": {
        "id": "16064883-d4f5-4308-b08f-ca99a215624a"
      },
      "source": [
        "- 规律一致性分析的实际作用"
      ]
    },
    {
      "cell_type": "markdown",
      "metadata": {
        "id": "6d72e252-b765-4153-b49c-713963ba3d0e"
      },
      "source": [
        "&emsp;&emsp;在实际建模过程中，规律一致性分析是非常重要但又经常容易被忽视的一个环节。通过规律一致性分析，我们可以得出非常多的可用于后续指导后续建模的关键性意见。通常我们可以根据规律一致性分析得出以下基本结论："
      ]
    },
    {
      "cell_type": "markdown",
      "metadata": {
        "id": "2e819a21-b826-486b-86a6-dcbb933cc1f8"
      },
      "source": [
        "&emsp;&emsp;(1).如果分布非常一致，则说明所有特征均取自同一整体，训练集和测试集规律拥有较高一致性，模型效果上限较高，建模过程中应该更加依靠特征工程方法和模型建模技巧提高最终预测效果；"
      ]
    },
    {
      "cell_type": "markdown",
      "metadata": {
        "id": "017da7a8-94a9-4708-b8d9-a1b5172cd2aa"
      },
      "source": [
        "&emsp;&emsp;(2).如果分布不太一致，则说明训练集和测试集规律不太一致，此时模型预测效果上限会受此影响而被限制，并且模型大概率容易过拟合，在实际建模过程中可以多考虑使用交叉验证等方式防止过拟合，并且需要注重除了通用特征工程和建模方法外的trick的使用；"
      ]
    },
    {
      "cell_type": "markdown",
      "metadata": {
        "id": "63896932-f840-4382-bc33-746bca35d15e"
      },
      "source": [
        "&emsp;&emsp;至此，我们就完成了核心数据集的数据探索，接下来，我们还将围绕其他的补充数据进行进一步的数据解读与数据清洗，并为最终的建模工作做好相关准备。"
      ]
    },
    {
      "cell_type": "markdown",
      "metadata": {
        "id": "4f761adc-e849-4b81-ae7b-883200baad7f"
      },
      "source": [
        "## 交易数据和商户数据的数据探索与数据清洗"
      ]
    },
    {
      "cell_type": "markdown",
      "metadata": {
        "id": "9fa2bcc6-3ca1-468e-af59-90a717457117"
      },
      "source": [
        "&emsp;&emsp;在对train和test数据集完成探索性分析之后，接下来我们需要进一步围绕官方给出的商户数据与信用卡交易数据进行解读和分析，并对其进行数据清洗，从而为后续的特征工程和算法建模做准备。"
      ]
    },
    {
      "cell_type": "markdown",
      "metadata": {
        "id": "10645458-d3a7-4d0c-b753-7b64165e88f9"
      },
      "source": [
        "&emsp;&emsp;一般来说，在数据解读、数据探索和初步数据清洗都是同步进行的，都是前期非常重要的工作事项。其中，数据解读的目的是为了快速获取数据集的基本信息，通过比对官方给出的字段解释，快速了解数据集的字段含义，这对于许多复杂数据场景下的建模是非常有必要的。而数据探索，顾名思义，就是快速了解数据集的基本数据情况，主要工作包括数据正确性校验和数据质量分析，核心目的是为了能够快速了解各字段的基本情况，包括默认各字段的数据类型、数据集是否存在数据不一致的情况、数据集重复值情况、缺失值情况等，当然，通过一系列的数据探索，也能够快速加深对数据集的理解。当然，数据探索结束之后，就需要进行数据清洗了，所谓数据清洗，指的是在建模/特征工程之前进行的必要的调整，以确保后续操作可执行，包括数据字段类型调整、重复值处理、缺失值处理等等，当然，有些操作可能在后续会进行些许优化，比如数据清洗阶段我们可以先尝试进行较为简单的缺失值填补，在后续的建模过程中我们还可以根据实际建模结果来调整缺失值填补策略。"
      ]
    },
    {
      "cell_type": "markdown",
      "metadata": {
        "id": "c1648a4d-18ff-4a09-9668-eaac3c46a273"
      },
      "source": [
        "&emsp;&emsp;我们也可将数据探索与数据清洗的过程总结如下："
      ]
    },
    {
      "cell_type": "markdown",
      "metadata": {
        "id": "8f8da495-2ab9-40d9-ba87-1621e891cc32"
      },
      "source": [
        "<center><img src=\"https://i.loli.net/2021/10/22/caGHpfdK8kvSAF7.png\" alt=\"image-20211022154015344\" style=\"zoom:25%;\" />"
      ]
    },
    {
      "cell_type": "markdown",
      "metadata": {
        "id": "943676e8-a99d-48d9-9a07-cec478d20593"
      },
      "source": [
        "&emsp;&emsp;接下来我们将对商户数据、交易数据的三张表进行数据探索和数据清洗。"
      ]
    },
    {
      "cell_type": "markdown",
      "metadata": {
        "id": "28a19d6e-433e-4741-bdb2-a94a4c9d684b"
      },
      "source": [
        "### 一、商户数据解读与探索"
      ]
    },
    {
      "cell_type": "markdown",
      "metadata": {
        "id": "16777476-a06d-401b-b924-4fd5c76611d4"
      },
      "source": [
        "&emsp;&emsp;接下来我们来看主办方给出的拓展信息。也就是信用卡交易记录和商户相关数据，这几张表中同时包含了训练集、测试集中所有信用卡的部分记录，是挖掘有效信息、提高模型建模效果的重要渠道。"
      ]
    },
    {
      "cell_type": "markdown",
      "metadata": {
        "id": "8edbfffb-3f08-4bd2-8bce-9f57be0f9eef"
      },
      "source": [
        "#### 1.数据解读"
      ]
    },
    {
      "cell_type": "markdown",
      "metadata": {
        "id": "161a469f-89da-4af3-9354-3520ab071840"
      },
      "source": [
        "&emsp;&emsp;首先我们先来查看数据量相对较小的商户信息表，也就是merchants.csv中的相关信息。"
      ]
    },
    {
      "cell_type": "code",
      "execution_count": null,
      "metadata": {
        "id": "54e12b92-7872-416e-b89b-cdbdb46739fd"
      },
      "outputs": [],
      "source": [
        "# 导入数据\n",
        "merchant = pd.read_csv('merchants.csv', header=0)"
      ]
    },
    {
      "cell_type": "code",
      "execution_count": null,
      "metadata": {
        "id": "c9d8d16c-b35a-4cc3-88ae-a4790069119e",
        "outputId": "832b9e6f-e7e3-465a-95bb-a9508b33b379",
        "colab": {
          "base_uri": "https://localhost:8080/",
          "height": 488
        }
      },
      "outputs": [
        {
          "output_type": "execute_result",
          "data": {
            "text/plain": [
              "            merchant_id  merchant_group_id  merchant_category_id  \\\n",
              "0       M_ID_838061e48c               8353                   792   \n",
              "1       M_ID_9339d880ad               3184                   840   \n",
              "2       M_ID_e726bbae1e                447                   690   \n",
              "3       M_ID_a70e9c5f81               5026                   792   \n",
              "4       M_ID_64456c37ce               2228                   222   \n",
              "...                 ...                ...                   ...   \n",
              "334691  M_ID_1f4773aa76               1145                   705   \n",
              "334692  M_ID_725a60d404                 35                   544   \n",
              "334693  M_ID_f2045dd267                 35                   561   \n",
              "334694  M_ID_9139332ccc                 35                   511   \n",
              "334695  M_ID_cd2c0b07e9                 35                   606   \n",
              "\n",
              "        subsector_id  numerical_1  numerical_2 category_1  \\\n",
              "0                  9    -0.057471    -0.057471          N   \n",
              "1                 20    -0.057471    -0.057471          N   \n",
              "2                  1    -0.057471    -0.057471          N   \n",
              "3                  9    -0.057471    -0.057471          Y   \n",
              "4                 21    -0.057471    -0.057471          Y   \n",
              "...              ...          ...          ...        ...   \n",
              "334691            33     3.174788    -0.047556          N   \n",
              "334692            29    -0.057471    -0.057471          Y   \n",
              "334693             7    -0.057471    -0.057471          N   \n",
              "334694             7    -0.057471    -0.057471          Y   \n",
              "334695            17    -0.057471    -0.057471          N   \n",
              "\n",
              "       most_recent_sales_range most_recent_purchases_range  avg_sales_lag3  \\\n",
              "0                            E                           E           -0.40   \n",
              "1                            E                           E           -0.72   \n",
              "2                            E                           E          -82.13   \n",
              "3                            E                           E             NaN   \n",
              "4                            E                           E             NaN   \n",
              "...                        ...                         ...             ...   \n",
              "334691                       A                           A            1.00   \n",
              "334692                       A                           A            0.89   \n",
              "334693                       A                           A            0.96   \n",
              "334694                       A                           A            0.94   \n",
              "334695                       A                           A            0.90   \n",
              "\n",
              "        ...  avg_sales_lag6  avg_purchases_lag6  active_months_lag6  \\\n",
              "0       ...           -2.25           18.666667                   6   \n",
              "1       ...           -0.74            1.291667                   6   \n",
              "2       ...          -82.13          260.000000                   2   \n",
              "3       ...             NaN            4.666667                   6   \n",
              "4       ...             NaN            0.361111                   6   \n",
              "...     ...             ...                 ...                 ...   \n",
              "334691  ...            0.99            1.019505                   6   \n",
              "334692  ...            0.78            0.813473                   6   \n",
              "334693  ...            0.90            0.924769                   6   \n",
              "334694  ...            0.82            0.783000                   6   \n",
              "334695  ...            0.73            0.744417                   6   \n",
              "\n",
              "        avg_sales_lag12  avg_purchases_lag12  active_months_lag12  category_4  \\\n",
              "0                 -2.32            13.916667                   12           N   \n",
              "1                 -0.57             1.687500                   12           N   \n",
              "2                -82.13           260.000000                    2           N   \n",
              "3                   NaN             3.833333                   12           Y   \n",
              "4                   NaN             0.347222                   12           Y   \n",
              "...                 ...                  ...                  ...         ...   \n",
              "334691             1.00             1.024796                   12           Y   \n",
              "334692             0.59             0.606765                   12           Y   \n",
              "334693             0.74             0.750763                    8           Y   \n",
              "334694             0.65             0.584000                   12           Y   \n",
              "334695             0.53             0.540334                   10           Y   \n",
              "\n",
              "        city_id state_id  category_2  \n",
              "0           242        9         1.0  \n",
              "1            22       16         1.0  \n",
              "2            -1        5         5.0  \n",
              "3            -1       -1         NaN  \n",
              "4            -1       -1         NaN  \n",
              "...         ...      ...         ...  \n",
              "334691       69        9         1.0  \n",
              "334692       -1       -1         NaN  \n",
              "334693      160       21         5.0  \n",
              "334694       -1       -1         NaN  \n",
              "334695       69        9         1.0  \n",
              "\n",
              "[334696 rows x 22 columns]"
            ],
            "text/html": [
              "\n",
              "  <div id=\"df-db3daac4-f0ea-4a33-89ec-9b4c8aa9242f\">\n",
              "    <div class=\"colab-df-container\">\n",
              "      <div>\n",
              "<style scoped>\n",
              "    .dataframe tbody tr th:only-of-type {\n",
              "        vertical-align: middle;\n",
              "    }\n",
              "\n",
              "    .dataframe tbody tr th {\n",
              "        vertical-align: top;\n",
              "    }\n",
              "\n",
              "    .dataframe thead th {\n",
              "        text-align: right;\n",
              "    }\n",
              "</style>\n",
              "<table border=\"1\" class=\"dataframe\">\n",
              "  <thead>\n",
              "    <tr style=\"text-align: right;\">\n",
              "      <th></th>\n",
              "      <th>merchant_id</th>\n",
              "      <th>merchant_group_id</th>\n",
              "      <th>merchant_category_id</th>\n",
              "      <th>subsector_id</th>\n",
              "      <th>numerical_1</th>\n",
              "      <th>numerical_2</th>\n",
              "      <th>category_1</th>\n",
              "      <th>most_recent_sales_range</th>\n",
              "      <th>most_recent_purchases_range</th>\n",
              "      <th>avg_sales_lag3</th>\n",
              "      <th>...</th>\n",
              "      <th>avg_sales_lag6</th>\n",
              "      <th>avg_purchases_lag6</th>\n",
              "      <th>active_months_lag6</th>\n",
              "      <th>avg_sales_lag12</th>\n",
              "      <th>avg_purchases_lag12</th>\n",
              "      <th>active_months_lag12</th>\n",
              "      <th>category_4</th>\n",
              "      <th>city_id</th>\n",
              "      <th>state_id</th>\n",
              "      <th>category_2</th>\n",
              "    </tr>\n",
              "  </thead>\n",
              "  <tbody>\n",
              "    <tr>\n",
              "      <th>0</th>\n",
              "      <td>M_ID_838061e48c</td>\n",
              "      <td>8353</td>\n",
              "      <td>792</td>\n",
              "      <td>9</td>\n",
              "      <td>-0.057471</td>\n",
              "      <td>-0.057471</td>\n",
              "      <td>N</td>\n",
              "      <td>E</td>\n",
              "      <td>E</td>\n",
              "      <td>-0.40</td>\n",
              "      <td>...</td>\n",
              "      <td>-2.25</td>\n",
              "      <td>18.666667</td>\n",
              "      <td>6</td>\n",
              "      <td>-2.32</td>\n",
              "      <td>13.916667</td>\n",
              "      <td>12</td>\n",
              "      <td>N</td>\n",
              "      <td>242</td>\n",
              "      <td>9</td>\n",
              "      <td>1.0</td>\n",
              "    </tr>\n",
              "    <tr>\n",
              "      <th>1</th>\n",
              "      <td>M_ID_9339d880ad</td>\n",
              "      <td>3184</td>\n",
              "      <td>840</td>\n",
              "      <td>20</td>\n",
              "      <td>-0.057471</td>\n",
              "      <td>-0.057471</td>\n",
              "      <td>N</td>\n",
              "      <td>E</td>\n",
              "      <td>E</td>\n",
              "      <td>-0.72</td>\n",
              "      <td>...</td>\n",
              "      <td>-0.74</td>\n",
              "      <td>1.291667</td>\n",
              "      <td>6</td>\n",
              "      <td>-0.57</td>\n",
              "      <td>1.687500</td>\n",
              "      <td>12</td>\n",
              "      <td>N</td>\n",
              "      <td>22</td>\n",
              "      <td>16</td>\n",
              "      <td>1.0</td>\n",
              "    </tr>\n",
              "    <tr>\n",
              "      <th>2</th>\n",
              "      <td>M_ID_e726bbae1e</td>\n",
              "      <td>447</td>\n",
              "      <td>690</td>\n",
              "      <td>1</td>\n",
              "      <td>-0.057471</td>\n",
              "      <td>-0.057471</td>\n",
              "      <td>N</td>\n",
              "      <td>E</td>\n",
              "      <td>E</td>\n",
              "      <td>-82.13</td>\n",
              "      <td>...</td>\n",
              "      <td>-82.13</td>\n",
              "      <td>260.000000</td>\n",
              "      <td>2</td>\n",
              "      <td>-82.13</td>\n",
              "      <td>260.000000</td>\n",
              "      <td>2</td>\n",
              "      <td>N</td>\n",
              "      <td>-1</td>\n",
              "      <td>5</td>\n",
              "      <td>5.0</td>\n",
              "    </tr>\n",
              "    <tr>\n",
              "      <th>3</th>\n",
              "      <td>M_ID_a70e9c5f81</td>\n",
              "      <td>5026</td>\n",
              "      <td>792</td>\n",
              "      <td>9</td>\n",
              "      <td>-0.057471</td>\n",
              "      <td>-0.057471</td>\n",
              "      <td>Y</td>\n",
              "      <td>E</td>\n",
              "      <td>E</td>\n",
              "      <td>NaN</td>\n",
              "      <td>...</td>\n",
              "      <td>NaN</td>\n",
              "      <td>4.666667</td>\n",
              "      <td>6</td>\n",
              "      <td>NaN</td>\n",
              "      <td>3.833333</td>\n",
              "      <td>12</td>\n",
              "      <td>Y</td>\n",
              "      <td>-1</td>\n",
              "      <td>-1</td>\n",
              "      <td>NaN</td>\n",
              "    </tr>\n",
              "    <tr>\n",
              "      <th>4</th>\n",
              "      <td>M_ID_64456c37ce</td>\n",
              "      <td>2228</td>\n",
              "      <td>222</td>\n",
              "      <td>21</td>\n",
              "      <td>-0.057471</td>\n",
              "      <td>-0.057471</td>\n",
              "      <td>Y</td>\n",
              "      <td>E</td>\n",
              "      <td>E</td>\n",
              "      <td>NaN</td>\n",
              "      <td>...</td>\n",
              "      <td>NaN</td>\n",
              "      <td>0.361111</td>\n",
              "      <td>6</td>\n",
              "      <td>NaN</td>\n",
              "      <td>0.347222</td>\n",
              "      <td>12</td>\n",
              "      <td>Y</td>\n",
              "      <td>-1</td>\n",
              "      <td>-1</td>\n",
              "      <td>NaN</td>\n",
              "    </tr>\n",
              "    <tr>\n",
              "      <th>...</th>\n",
              "      <td>...</td>\n",
              "      <td>...</td>\n",
              "      <td>...</td>\n",
              "      <td>...</td>\n",
              "      <td>...</td>\n",
              "      <td>...</td>\n",
              "      <td>...</td>\n",
              "      <td>...</td>\n",
              "      <td>...</td>\n",
              "      <td>...</td>\n",
              "      <td>...</td>\n",
              "      <td>...</td>\n",
              "      <td>...</td>\n",
              "      <td>...</td>\n",
              "      <td>...</td>\n",
              "      <td>...</td>\n",
              "      <td>...</td>\n",
              "      <td>...</td>\n",
              "      <td>...</td>\n",
              "      <td>...</td>\n",
              "      <td>...</td>\n",
              "    </tr>\n",
              "    <tr>\n",
              "      <th>334691</th>\n",
              "      <td>M_ID_1f4773aa76</td>\n",
              "      <td>1145</td>\n",
              "      <td>705</td>\n",
              "      <td>33</td>\n",
              "      <td>3.174788</td>\n",
              "      <td>-0.047556</td>\n",
              "      <td>N</td>\n",
              "      <td>A</td>\n",
              "      <td>A</td>\n",
              "      <td>1.00</td>\n",
              "      <td>...</td>\n",
              "      <td>0.99</td>\n",
              "      <td>1.019505</td>\n",
              "      <td>6</td>\n",
              "      <td>1.00</td>\n",
              "      <td>1.024796</td>\n",
              "      <td>12</td>\n",
              "      <td>Y</td>\n",
              "      <td>69</td>\n",
              "      <td>9</td>\n",
              "      <td>1.0</td>\n",
              "    </tr>\n",
              "    <tr>\n",
              "      <th>334692</th>\n",
              "      <td>M_ID_725a60d404</td>\n",
              "      <td>35</td>\n",
              "      <td>544</td>\n",
              "      <td>29</td>\n",
              "      <td>-0.057471</td>\n",
              "      <td>-0.057471</td>\n",
              "      <td>Y</td>\n",
              "      <td>A</td>\n",
              "      <td>A</td>\n",
              "      <td>0.89</td>\n",
              "      <td>...</td>\n",
              "      <td>0.78</td>\n",
              "      <td>0.813473</td>\n",
              "      <td>6</td>\n",
              "      <td>0.59</td>\n",
              "      <td>0.606765</td>\n",
              "      <td>12</td>\n",
              "      <td>Y</td>\n",
              "      <td>-1</td>\n",
              "      <td>-1</td>\n",
              "      <td>NaN</td>\n",
              "    </tr>\n",
              "    <tr>\n",
              "      <th>334693</th>\n",
              "      <td>M_ID_f2045dd267</td>\n",
              "      <td>35</td>\n",
              "      <td>561</td>\n",
              "      <td>7</td>\n",
              "      <td>-0.057471</td>\n",
              "      <td>-0.057471</td>\n",
              "      <td>N</td>\n",
              "      <td>A</td>\n",
              "      <td>A</td>\n",
              "      <td>0.96</td>\n",
              "      <td>...</td>\n",
              "      <td>0.90</td>\n",
              "      <td>0.924769</td>\n",
              "      <td>6</td>\n",
              "      <td>0.74</td>\n",
              "      <td>0.750763</td>\n",
              "      <td>8</td>\n",
              "      <td>Y</td>\n",
              "      <td>160</td>\n",
              "      <td>21</td>\n",
              "      <td>5.0</td>\n",
              "    </tr>\n",
              "    <tr>\n",
              "      <th>334694</th>\n",
              "      <td>M_ID_9139332ccc</td>\n",
              "      <td>35</td>\n",
              "      <td>511</td>\n",
              "      <td>7</td>\n",
              "      <td>-0.057471</td>\n",
              "      <td>-0.057471</td>\n",
              "      <td>Y</td>\n",
              "      <td>A</td>\n",
              "      <td>A</td>\n",
              "      <td>0.94</td>\n",
              "      <td>...</td>\n",
              "      <td>0.82</td>\n",
              "      <td>0.783000</td>\n",
              "      <td>6</td>\n",
              "      <td>0.65</td>\n",
              "      <td>0.584000</td>\n",
              "      <td>12</td>\n",
              "      <td>Y</td>\n",
              "      <td>-1</td>\n",
              "      <td>-1</td>\n",
              "      <td>NaN</td>\n",
              "    </tr>\n",
              "    <tr>\n",
              "      <th>334695</th>\n",
              "      <td>M_ID_cd2c0b07e9</td>\n",
              "      <td>35</td>\n",
              "      <td>606</td>\n",
              "      <td>17</td>\n",
              "      <td>-0.057471</td>\n",
              "      <td>-0.057471</td>\n",
              "      <td>N</td>\n",
              "      <td>A</td>\n",
              "      <td>A</td>\n",
              "      <td>0.90</td>\n",
              "      <td>...</td>\n",
              "      <td>0.73</td>\n",
              "      <td>0.744417</td>\n",
              "      <td>6</td>\n",
              "      <td>0.53</td>\n",
              "      <td>0.540334</td>\n",
              "      <td>10</td>\n",
              "      <td>Y</td>\n",
              "      <td>69</td>\n",
              "      <td>9</td>\n",
              "      <td>1.0</td>\n",
              "    </tr>\n",
              "  </tbody>\n",
              "</table>\n",
              "<p>334696 rows × 22 columns</p>\n",
              "</div>\n",
              "      <button class=\"colab-df-convert\" onclick=\"convertToInteractive('df-db3daac4-f0ea-4a33-89ec-9b4c8aa9242f')\"\n",
              "              title=\"Convert this dataframe to an interactive table.\"\n",
              "              style=\"display:none;\">\n",
              "        \n",
              "  <svg xmlns=\"http://www.w3.org/2000/svg\" height=\"24px\"viewBox=\"0 0 24 24\"\n",
              "       width=\"24px\">\n",
              "    <path d=\"M0 0h24v24H0V0z\" fill=\"none\"/>\n",
              "    <path d=\"M18.56 5.44l.94 2.06.94-2.06 2.06-.94-2.06-.94-.94-2.06-.94 2.06-2.06.94zm-11 1L8.5 8.5l.94-2.06 2.06-.94-2.06-.94L8.5 2.5l-.94 2.06-2.06.94zm10 10l.94 2.06.94-2.06 2.06-.94-2.06-.94-.94-2.06-.94 2.06-2.06.94z\"/><path d=\"M17.41 7.96l-1.37-1.37c-.4-.4-.92-.59-1.43-.59-.52 0-1.04.2-1.43.59L10.3 9.45l-7.72 7.72c-.78.78-.78 2.05 0 2.83L4 21.41c.39.39.9.59 1.41.59.51 0 1.02-.2 1.41-.59l7.78-7.78 2.81-2.81c.8-.78.8-2.07 0-2.86zM5.41 20L4 18.59l7.72-7.72 1.47 1.35L5.41 20z\"/>\n",
              "  </svg>\n",
              "      </button>\n",
              "      \n",
              "  <style>\n",
              "    .colab-df-container {\n",
              "      display:flex;\n",
              "      flex-wrap:wrap;\n",
              "      gap: 12px;\n",
              "    }\n",
              "\n",
              "    .colab-df-convert {\n",
              "      background-color: #E8F0FE;\n",
              "      border: none;\n",
              "      border-radius: 50%;\n",
              "      cursor: pointer;\n",
              "      display: none;\n",
              "      fill: #1967D2;\n",
              "      height: 32px;\n",
              "      padding: 0 0 0 0;\n",
              "      width: 32px;\n",
              "    }\n",
              "\n",
              "    .colab-df-convert:hover {\n",
              "      background-color: #E2EBFA;\n",
              "      box-shadow: 0px 1px 2px rgba(60, 64, 67, 0.3), 0px 1px 3px 1px rgba(60, 64, 67, 0.15);\n",
              "      fill: #174EA6;\n",
              "    }\n",
              "\n",
              "    [theme=dark] .colab-df-convert {\n",
              "      background-color: #3B4455;\n",
              "      fill: #D2E3FC;\n",
              "    }\n",
              "\n",
              "    [theme=dark] .colab-df-convert:hover {\n",
              "      background-color: #434B5C;\n",
              "      box-shadow: 0px 1px 3px 1px rgba(0, 0, 0, 0.15);\n",
              "      filter: drop-shadow(0px 1px 2px rgba(0, 0, 0, 0.3));\n",
              "      fill: #FFFFFF;\n",
              "    }\n",
              "  </style>\n",
              "\n",
              "      <script>\n",
              "        const buttonEl =\n",
              "          document.querySelector('#df-db3daac4-f0ea-4a33-89ec-9b4c8aa9242f button.colab-df-convert');\n",
              "        buttonEl.style.display =\n",
              "          google.colab.kernel.accessAllowed ? 'block' : 'none';\n",
              "\n",
              "        async function convertToInteractive(key) {\n",
              "          const element = document.querySelector('#df-db3daac4-f0ea-4a33-89ec-9b4c8aa9242f');\n",
              "          const dataTable =\n",
              "            await google.colab.kernel.invokeFunction('convertToInteractive',\n",
              "                                                     [key], {});\n",
              "          if (!dataTable) return;\n",
              "\n",
              "          const docLinkHtml = 'Like what you see? Visit the ' +\n",
              "            '<a target=\"_blank\" href=https://colab.research.google.com/notebooks/data_table.ipynb>data table notebook</a>'\n",
              "            + ' to learn more about interactive tables.';\n",
              "          element.innerHTML = '';\n",
              "          dataTable['output_type'] = 'display_data';\n",
              "          await google.colab.output.renderOutput(dataTable, element);\n",
              "          const docLink = document.createElement('div');\n",
              "          docLink.innerHTML = docLinkHtml;\n",
              "          element.appendChild(docLink);\n",
              "        }\n",
              "      </script>\n",
              "    </div>\n",
              "  </div>\n",
              "  "
            ]
          },
          "metadata": {},
          "execution_count": 89
        }
      ],
      "source": [
        "merchant"
      ]
    },
    {
      "cell_type": "code",
      "execution_count": null,
      "metadata": {
        "id": "7174ade2-28f1-4f6c-8240-cd14b061a043",
        "outputId": "ffb05581-aa30-4a84-e6a4-cebb68a07410",
        "colab": {
          "base_uri": "https://localhost:8080/"
        }
      },
      "outputs": [
        {
          "output_type": "stream",
          "name": "stdout",
          "text": [
            "<class 'pandas.core.frame.DataFrame'>\n",
            "RangeIndex: 334696 entries, 0 to 334695\n",
            "Data columns (total 22 columns):\n",
            " #   Column                       Non-Null Count   Dtype  \n",
            "---  ------                       --------------   -----  \n",
            " 0   merchant_id                  334696 non-null  object \n",
            " 1   merchant_group_id            334696 non-null  int64  \n",
            " 2   merchant_category_id         334696 non-null  int64  \n",
            " 3   subsector_id                 334696 non-null  int64  \n",
            " 4   numerical_1                  334696 non-null  float64\n",
            " 5   numerical_2                  334696 non-null  float64\n",
            " 6   category_1                   334696 non-null  object \n",
            " 7   most_recent_sales_range      334696 non-null  object \n",
            " 8   most_recent_purchases_range  334696 non-null  object \n",
            " 9   avg_sales_lag3               334683 non-null  float64\n",
            " 10  avg_purchases_lag3           334696 non-null  float64\n",
            " 11  active_months_lag3           334696 non-null  int64  \n",
            " 12  avg_sales_lag6               334683 non-null  float64\n",
            " 13  avg_purchases_lag6           334696 non-null  float64\n",
            " 14  active_months_lag6           334696 non-null  int64  \n",
            " 15  avg_sales_lag12              334683 non-null  float64\n",
            " 16  avg_purchases_lag12          334696 non-null  float64\n",
            " 17  active_months_lag12          334696 non-null  int64  \n",
            " 18  category_4                   334696 non-null  object \n",
            " 19  city_id                      334696 non-null  int64  \n",
            " 20  state_id                     334696 non-null  int64  \n",
            " 21  category_2                   322809 non-null  float64\n",
            "dtypes: float64(9), int64(8), object(5)\n",
            "memory usage: 56.2+ MB\n"
          ]
        }
      ],
      "source": [
        "merchant.info()"
      ]
    },
    {
      "cell_type": "markdown",
      "metadata": {
        "id": "57542e99-d9ff-4d6c-837a-95652573a593"
      },
      "source": [
        "数据集基本字段解释如下："
      ]
    },
    {
      "cell_type": "code",
      "execution_count": null,
      "metadata": {
        "id": "0071c539-ef0f-4e14-9657-f7036ad4bddb",
        "outputId": "32d0b896-07a3-4db9-c8fb-23c37eece3c2",
        "colab": {
          "base_uri": "https://localhost:8080/",
          "height": 739
        }
      },
      "outputs": [
        {
          "output_type": "execute_result",
          "data": {
            "text/plain": [
              "                        Columns  \\\n",
              "0                   merchant_id   \n",
              "1             merchant_group_id   \n",
              "2          merchant_category_id   \n",
              "3                  subsector_id   \n",
              "4                   numerical_1   \n",
              "5                   numerical_2   \n",
              "6                    category_1   \n",
              "7       most_recent_sales_range   \n",
              "8   most_recent_purchases_range   \n",
              "9                avg_sales_lag3   \n",
              "10           avg_purchases_lag3   \n",
              "11           active_months_lag3   \n",
              "12               avg_sales_lag6   \n",
              "13           avg_purchases_lag6   \n",
              "14           active_months_lag6   \n",
              "15              avg_sales_lag12   \n",
              "16          avg_purchases_lag12   \n",
              "17          active_months_lag12   \n",
              "18                   category_4   \n",
              "19                      city_id   \n",
              "20                     state_id   \n",
              "21                   category_2   \n",
              "\n",
              "                                          Description  \n",
              "0                          Unique merchant identifier  \n",
              "1                        Merchant group (anonymized )  \n",
              "2   Unique identifier for merchant category (anony...  \n",
              "3               Merchant category group (anonymized )  \n",
              "4                                  anonymized measure  \n",
              "5                                  anonymized measure  \n",
              "6                                 anonymized category  \n",
              "7   Range of revenue (monetary units) in last acti...  \n",
              "8   Range of quantity of transactions in last acti...  \n",
              "9   Monthly average of revenue in last 3 months di...  \n",
              "10  Monthly average of transactions in last 3 mont...  \n",
              "11     Quantity of active months within last 3 months  \n",
              "12  Monthly average of revenue in last 6 months di...  \n",
              "13  Monthly average of transactions in last 6 mont...  \n",
              "14     Quantity of active months within last 6 months  \n",
              "15  Monthly average of revenue in last 12 months d...  \n",
              "16  Monthly average of transactions in last 12 mon...  \n",
              "17    Quantity of active months within last 12 months  \n",
              "18                                anonymized category  \n",
              "19                      City identifier (anonymized )  \n",
              "20                     State identifier (anonymized )  \n",
              "21                                anonymized category  "
            ],
            "text/html": [
              "\n",
              "  <div id=\"df-6880e6ab-f797-4e7a-bed2-3556fb3552c8\">\n",
              "    <div class=\"colab-df-container\">\n",
              "      <div>\n",
              "<style scoped>\n",
              "    .dataframe tbody tr th:only-of-type {\n",
              "        vertical-align: middle;\n",
              "    }\n",
              "\n",
              "    .dataframe tbody tr th {\n",
              "        vertical-align: top;\n",
              "    }\n",
              "\n",
              "    .dataframe thead th {\n",
              "        text-align: right;\n",
              "    }\n",
              "</style>\n",
              "<table border=\"1\" class=\"dataframe\">\n",
              "  <thead>\n",
              "    <tr style=\"text-align: right;\">\n",
              "      <th></th>\n",
              "      <th>Columns</th>\n",
              "      <th>Description</th>\n",
              "    </tr>\n",
              "  </thead>\n",
              "  <tbody>\n",
              "    <tr>\n",
              "      <th>0</th>\n",
              "      <td>merchant_id</td>\n",
              "      <td>Unique merchant identifier</td>\n",
              "    </tr>\n",
              "    <tr>\n",
              "      <th>1</th>\n",
              "      <td>merchant_group_id</td>\n",
              "      <td>Merchant group (anonymized )</td>\n",
              "    </tr>\n",
              "    <tr>\n",
              "      <th>2</th>\n",
              "      <td>merchant_category_id</td>\n",
              "      <td>Unique identifier for merchant category (anony...</td>\n",
              "    </tr>\n",
              "    <tr>\n",
              "      <th>3</th>\n",
              "      <td>subsector_id</td>\n",
              "      <td>Merchant category group (anonymized )</td>\n",
              "    </tr>\n",
              "    <tr>\n",
              "      <th>4</th>\n",
              "      <td>numerical_1</td>\n",
              "      <td>anonymized measure</td>\n",
              "    </tr>\n",
              "    <tr>\n",
              "      <th>5</th>\n",
              "      <td>numerical_2</td>\n",
              "      <td>anonymized measure</td>\n",
              "    </tr>\n",
              "    <tr>\n",
              "      <th>6</th>\n",
              "      <td>category_1</td>\n",
              "      <td>anonymized category</td>\n",
              "    </tr>\n",
              "    <tr>\n",
              "      <th>7</th>\n",
              "      <td>most_recent_sales_range</td>\n",
              "      <td>Range of revenue (monetary units) in last acti...</td>\n",
              "    </tr>\n",
              "    <tr>\n",
              "      <th>8</th>\n",
              "      <td>most_recent_purchases_range</td>\n",
              "      <td>Range of quantity of transactions in last acti...</td>\n",
              "    </tr>\n",
              "    <tr>\n",
              "      <th>9</th>\n",
              "      <td>avg_sales_lag3</td>\n",
              "      <td>Monthly average of revenue in last 3 months di...</td>\n",
              "    </tr>\n",
              "    <tr>\n",
              "      <th>10</th>\n",
              "      <td>avg_purchases_lag3</td>\n",
              "      <td>Monthly average of transactions in last 3 mont...</td>\n",
              "    </tr>\n",
              "    <tr>\n",
              "      <th>11</th>\n",
              "      <td>active_months_lag3</td>\n",
              "      <td>Quantity of active months within last 3 months</td>\n",
              "    </tr>\n",
              "    <tr>\n",
              "      <th>12</th>\n",
              "      <td>avg_sales_lag6</td>\n",
              "      <td>Monthly average of revenue in last 6 months di...</td>\n",
              "    </tr>\n",
              "    <tr>\n",
              "      <th>13</th>\n",
              "      <td>avg_purchases_lag6</td>\n",
              "      <td>Monthly average of transactions in last 6 mont...</td>\n",
              "    </tr>\n",
              "    <tr>\n",
              "      <th>14</th>\n",
              "      <td>active_months_lag6</td>\n",
              "      <td>Quantity of active months within last 6 months</td>\n",
              "    </tr>\n",
              "    <tr>\n",
              "      <th>15</th>\n",
              "      <td>avg_sales_lag12</td>\n",
              "      <td>Monthly average of revenue in last 12 months d...</td>\n",
              "    </tr>\n",
              "    <tr>\n",
              "      <th>16</th>\n",
              "      <td>avg_purchases_lag12</td>\n",
              "      <td>Monthly average of transactions in last 12 mon...</td>\n",
              "    </tr>\n",
              "    <tr>\n",
              "      <th>17</th>\n",
              "      <td>active_months_lag12</td>\n",
              "      <td>Quantity of active months within last 12 months</td>\n",
              "    </tr>\n",
              "    <tr>\n",
              "      <th>18</th>\n",
              "      <td>category_4</td>\n",
              "      <td>anonymized category</td>\n",
              "    </tr>\n",
              "    <tr>\n",
              "      <th>19</th>\n",
              "      <td>city_id</td>\n",
              "      <td>City identifier (anonymized )</td>\n",
              "    </tr>\n",
              "    <tr>\n",
              "      <th>20</th>\n",
              "      <td>state_id</td>\n",
              "      <td>State identifier (anonymized )</td>\n",
              "    </tr>\n",
              "    <tr>\n",
              "      <th>21</th>\n",
              "      <td>category_2</td>\n",
              "      <td>anonymized category</td>\n",
              "    </tr>\n",
              "  </tbody>\n",
              "</table>\n",
              "</div>\n",
              "      <button class=\"colab-df-convert\" onclick=\"convertToInteractive('df-6880e6ab-f797-4e7a-bed2-3556fb3552c8')\"\n",
              "              title=\"Convert this dataframe to an interactive table.\"\n",
              "              style=\"display:none;\">\n",
              "        \n",
              "  <svg xmlns=\"http://www.w3.org/2000/svg\" height=\"24px\"viewBox=\"0 0 24 24\"\n",
              "       width=\"24px\">\n",
              "    <path d=\"M0 0h24v24H0V0z\" fill=\"none\"/>\n",
              "    <path d=\"M18.56 5.44l.94 2.06.94-2.06 2.06-.94-2.06-.94-.94-2.06-.94 2.06-2.06.94zm-11 1L8.5 8.5l.94-2.06 2.06-.94-2.06-.94L8.5 2.5l-.94 2.06-2.06.94zm10 10l.94 2.06.94-2.06 2.06-.94-2.06-.94-.94-2.06-.94 2.06-2.06.94z\"/><path d=\"M17.41 7.96l-1.37-1.37c-.4-.4-.92-.59-1.43-.59-.52 0-1.04.2-1.43.59L10.3 9.45l-7.72 7.72c-.78.78-.78 2.05 0 2.83L4 21.41c.39.39.9.59 1.41.59.51 0 1.02-.2 1.41-.59l7.78-7.78 2.81-2.81c.8-.78.8-2.07 0-2.86zM5.41 20L4 18.59l7.72-7.72 1.47 1.35L5.41 20z\"/>\n",
              "  </svg>\n",
              "      </button>\n",
              "      \n",
              "  <style>\n",
              "    .colab-df-container {\n",
              "      display:flex;\n",
              "      flex-wrap:wrap;\n",
              "      gap: 12px;\n",
              "    }\n",
              "\n",
              "    .colab-df-convert {\n",
              "      background-color: #E8F0FE;\n",
              "      border: none;\n",
              "      border-radius: 50%;\n",
              "      cursor: pointer;\n",
              "      display: none;\n",
              "      fill: #1967D2;\n",
              "      height: 32px;\n",
              "      padding: 0 0 0 0;\n",
              "      width: 32px;\n",
              "    }\n",
              "\n",
              "    .colab-df-convert:hover {\n",
              "      background-color: #E2EBFA;\n",
              "      box-shadow: 0px 1px 2px rgba(60, 64, 67, 0.3), 0px 1px 3px 1px rgba(60, 64, 67, 0.15);\n",
              "      fill: #174EA6;\n",
              "    }\n",
              "\n",
              "    [theme=dark] .colab-df-convert {\n",
              "      background-color: #3B4455;\n",
              "      fill: #D2E3FC;\n",
              "    }\n",
              "\n",
              "    [theme=dark] .colab-df-convert:hover {\n",
              "      background-color: #434B5C;\n",
              "      box-shadow: 0px 1px 3px 1px rgba(0, 0, 0, 0.15);\n",
              "      filter: drop-shadow(0px 1px 2px rgba(0, 0, 0, 0.3));\n",
              "      fill: #FFFFFF;\n",
              "    }\n",
              "  </style>\n",
              "\n",
              "      <script>\n",
              "        const buttonEl =\n",
              "          document.querySelector('#df-6880e6ab-f797-4e7a-bed2-3556fb3552c8 button.colab-df-convert');\n",
              "        buttonEl.style.display =\n",
              "          google.colab.kernel.accessAllowed ? 'block' : 'none';\n",
              "\n",
              "        async function convertToInteractive(key) {\n",
              "          const element = document.querySelector('#df-6880e6ab-f797-4e7a-bed2-3556fb3552c8');\n",
              "          const dataTable =\n",
              "            await google.colab.kernel.invokeFunction('convertToInteractive',\n",
              "                                                     [key], {});\n",
              "          if (!dataTable) return;\n",
              "\n",
              "          const docLinkHtml = 'Like what you see? Visit the ' +\n",
              "            '<a target=\"_blank\" href=https://colab.research.google.com/notebooks/data_table.ipynb>data table notebook</a>'\n",
              "            + ' to learn more about interactive tables.';\n",
              "          element.innerHTML = '';\n",
              "          dataTable['output_type'] = 'display_data';\n",
              "          await google.colab.output.renderOutput(dataTable, element);\n",
              "          const docLink = document.createElement('div');\n",
              "          docLink.innerHTML = docLinkHtml;\n",
              "          element.appendChild(docLink);\n",
              "        }\n",
              "      </script>\n",
              "    </div>\n",
              "  </div>\n",
              "  "
            ]
          },
          "metadata": {},
          "execution_count": 91
        }
      ],
      "source": [
        "# 在数据字典中查看各字段的解释\n",
        "df = pd.read_excel('Data_Dictionary.xlsx', header=2, sheet_name='merchant')\n",
        "df"
      ]
    },
    {
      "cell_type": "markdown",
      "metadata": {
        "id": "c953bcb8-c1f5-4f2b-bc6f-08d43a5c66a0"
      },
      "source": [
        "实际含义如下："
      ]
    },
    {
      "cell_type": "markdown",
      "metadata": {
        "id": "40d8c581-d253-4a33-8264-a145880087f4"
      },
      "source": [
        "| 字段 | 解释 |\n",
        "| ------ | ------ |\n",
        "| merchant_id | 商户id |\n",
        "| merchant_group_id | 商户组id |\n",
        "| merchant_category_id | 商户类别id |\n",
        "| subsector_id | 商品种类群id |\n",
        "| numerical_1 | 匿名数值特征1 |\n",
        "| numerical_2 | 匿名数值特征2 |\n",
        "| category_1 | 匿名离散特征1 |\n",
        "| most_recent_sales_range | 上个活跃月份收入等级，有序分类变量A>B>...>E |\n",
        "| most_recent_purchases_range | 上个活跃月份交易数量等级，有序分类变量A>B>...>E |\n",
        "| avg_sales_lag3/6/12 | 过去3、6、12个月的月平均收入除以上一个活跃月份的收入 |\n",
        "| avg_purchases_lag3/6/12 | 过去3、6、12个月的月平均交易量除以上一个活跃月份的交易量 |\n",
        "| active_months_lag3/6/12 | 过去3、6、12个月的活跃月份数量 |\n",
        "| category_2 | 匿名离散特征2 |"
      ]
    },
    {
      "cell_type": "markdown",
      "metadata": {
        "id": "4856d924-6eb0-4dfc-9c14-adf427139cce"
      },
      "source": [
        "能够发现，数据表中提供不仅提供了商户的基本属性字段（如类别和商品种群等），同时也提供了商户近期的交易数据。不过和此前一样，仍然存在大量的匿名特征。"
      ]
    },
    {
      "cell_type": "markdown",
      "metadata": {
        "id": "aa1da235-c6d0-46f6-a150-a2c7be92ba52"
      },
      "source": [
        "#### 2.数据探索"
      ]
    },
    {
      "cell_type": "markdown",
      "metadata": {
        "id": "8e168eec-e1b9-4fb9-9f28-3562126b449c"
      },
      "source": [
        "&emsp;&emsp;在理解数据字段的基本含义后，接下来我们进一步进行数据探索："
      ]
    },
    {
      "cell_type": "markdown",
      "metadata": {
        "id": "470e84e2-3029-4e7e-a6e2-5024a93c734f"
      },
      "source": [
        "- 正确性校验"
      ]
    },
    {
      "cell_type": "markdown",
      "metadata": {
        "id": "58393987-24d9-405f-a40f-a106e3db554b"
      },
      "source": [
        "&emsp;&emsp;接下来简单对数据集的基本情况进行验证。首先是商户id出现次数的计算："
      ]
    },
    {
      "cell_type": "code",
      "execution_count": null,
      "metadata": {
        "id": "f6ea4e4b-d00c-4b83-94e0-313d05619d29",
        "outputId": "ba851165-e3a3-485d-c32f-e30e0dd4565e",
        "colab": {
          "base_uri": "https://localhost:8080/"
        }
      },
      "outputs": [
        {
          "output_type": "stream",
          "name": "stdout",
          "text": [
            "(334696, 22) 334633\n"
          ]
        }
      ],
      "source": [
        "print(merchant.shape, merchant['merchant_id'].nunique())"
      ]
    },
    {
      "cell_type": "markdown",
      "metadata": {
        "id": "3167b794-0ef9-4bcf-b034-20199f0fc26b"
      },
      "source": [
        "能够看出，该表并不是一个id对应一条数据，存在一个商户有多条记录的情况。此外，由于商户特征较多，此处我们也可以简单验证商户数据特征是否和数据字典中特征一致："
      ]
    },
    {
      "cell_type": "code",
      "execution_count": null,
      "metadata": {
        "id": "645998da-8beb-447e-a54e-50a9749aa12f",
        "outputId": "eb52ce6d-e065-4fe2-c9e0-ecc069a34368",
        "colab": {
          "base_uri": "https://localhost:8080/"
        }
      },
      "outputs": [
        {
          "output_type": "stream",
          "name": "stdout",
          "text": [
            "[ True  True  True  True  True  True  True  True  True  True  True  True\n",
            "  True  True  True  True  True  True  True  True  True  True]\n"
          ]
        }
      ],
      "source": [
        "print(pd.Series(merchant.columns.tolist()).sort_values().values ==  pd.Series([va[0] for va in df.values]).sort_values().values)"
      ]
    },
    {
      "cell_type": "markdown",
      "metadata": {
        "id": "41d06196-7510-4c9a-a704-308920b7f630"
      },
      "source": [
        "能够看出商户特征完全一致。"
      ]
    },
    {
      "cell_type": "markdown",
      "metadata": {
        "id": "36f213da-e21b-4e9f-9555-9b7534a270b8"
      },
      "source": [
        "- 缺失值分析"
      ]
    },
    {
      "cell_type": "markdown",
      "metadata": {
        "id": "294dbceb-6cfd-43f5-a833-f3bd548f0ba2"
      },
      "source": [
        "&emsp;&emsp;进一步，查看商户数据缺失值情况："
      ]
    },
    {
      "cell_type": "code",
      "execution_count": null,
      "metadata": {
        "id": "805690c4-cf4b-4be7-b8ad-e1772d9c41e9",
        "outputId": "750bba73-3a72-4f71-e472-fe80102cd2a2",
        "colab": {
          "base_uri": "https://localhost:8080/"
        }
      },
      "outputs": [
        {
          "output_type": "execute_result",
          "data": {
            "text/plain": [
              "merchant_id                        0\n",
              "merchant_group_id                  0\n",
              "merchant_category_id               0\n",
              "subsector_id                       0\n",
              "numerical_1                        0\n",
              "numerical_2                        0\n",
              "category_1                         0\n",
              "most_recent_sales_range            0\n",
              "most_recent_purchases_range        0\n",
              "avg_sales_lag3                    13\n",
              "avg_purchases_lag3                 0\n",
              "active_months_lag3                 0\n",
              "avg_sales_lag6                    13\n",
              "avg_purchases_lag6                 0\n",
              "active_months_lag6                 0\n",
              "avg_sales_lag12                   13\n",
              "avg_purchases_lag12                0\n",
              "active_months_lag12                0\n",
              "category_4                         0\n",
              "city_id                            0\n",
              "state_id                           0\n",
              "category_2                     11887\n",
              "dtype: int64"
            ]
          },
          "metadata": {},
          "execution_count": 94
        }
      ],
      "source": [
        "merchant.isnull().sum()"
      ]
    },
    {
      "cell_type": "markdown",
      "metadata": {
        "id": "7c97861b-9916-4214-8120-a662e50ba7f3"
      },
      "source": [
        "能够发现，第二个匿名分类变量存在较多缺失值，而avg_sales_lag3/6/12缺失值数量一致，则很有可能是存在13个商户同时确实了这三方面信息。其他数据没有缺失，数据整体来看较为完整。"
      ]
    },
    {
      "cell_type": "markdown",
      "metadata": {
        "id": "c1c0be4b-a51e-4d76-8072-ad740943ee1d"
      },
      "source": [
        "#### 3.数据预处理"
      ]
    },
    {
      "cell_type": "markdown",
      "metadata": {
        "id": "0a792cfc-e3a1-45af-b144-b0fcc12a3adb"
      },
      "source": [
        "&emsp;&emsp;接下来对商户数据进行数据预处理。由于还未进行特征工程，此处预处理只是一些不影响后续特征工程、建模或多表关联的、较为初步但又是必须要做的预处理。        "
      ]
    },
    {
      "cell_type": "markdown",
      "source": [
        "  统计学中的变量（variables）大致可以分为数值变量（numrical）和分类变量（categorical）。\n",
        "\n",
        "  数值型变量是值可以取一些列的数，这些值对于 加法、减法、求平均值等操作是有意义的。而分类变量对于上述的操作是没有意义的。\n",
        "\n",
        "  数值变量又可以分为下面两类：\n",
        "  - 离散型变量（discrete）：值只能用自然数或整数单位计算，其数值是间断的，相邻两个数值之间不再有其他数值，这种变量的取值一般使用计数方法取得。\n",
        "\n",
        "  - 连续型变量（continuous）：在一定区间内可以任意取值，其数值是连续不断的，相邻两个数值可作无限分割，即可取无限个数值。如身高、绳子的长度等。 \n",
        "  和离散型变量相比，连续型变量有“真零点”的概念，所以可以进行乘除操作。\n",
        "\n",
        "  分类变量又可以分为下面两类：\n",
        "  - 有序分类变量（ordinal）：描述事物等级或顺序，变量值可以是数值型或字符型，可以进而比较优劣，如喜欢的程度：很喜欢、一般、不喜欢 。\n",
        "  - 无序分类变量（nominal）：取值之间没有顺序差别，仅做分类，又可分为二分类变量和多分类变量 二分类变量是指将全部数据分成两个类别，如男、女，对、错，阴、阳等，二分类变量是一种特殊的分类变量，有其特有的分析方法。 多分类变量是指两个以上类别，如血型分为A、B、AB、O。\n",
        "\n",
        "  有序分类变量和无需分类变量的区别是：前者对于“比较”操作是有意义的，而后者对于“比较”操作是没有意义的。\n",
        "\n",
        " \n",
        "\n",
        "  这四种数据的等级从低到高依次为：无序分类变量(nominal) <有序分类变量(ordinal)< 离散型数值变量(discrete)< 连续型数值变量(continuous)。\n",
        "\n",
        " 下面的一张图描述了它们之间的关系：\n",
        " \n",
        " ![](https://images2018.cnblogs.com/blog/890640/201804/890640-20180426101342369-890443318.png)\n"
      ],
      "metadata": {
        "id": "72y_L0ubnDJQ"
      }
    },
    {
      "cell_type": "markdown",
      "metadata": {
        "id": "9968175e-5113-4e1f-8811-7085adba3d2c"
      },
      "source": [
        "- 离散/连续字段标注"
      ]
    },
    {
      "cell_type": "markdown",
      "metadata": {
        "id": "969f0368-0aa6-4248-a9d8-5c8867f28bfa"
      },
      "source": [
        "&emsp;&emsp;由于商户数据集中特征同时存在分类变量和离散变量，因此我们首先可以根据字段的说明对不同属性特征进行统一的划分："
      ]
    },
    {
      "cell_type": "code",
      "execution_count": null,
      "metadata": {
        "id": "b84eb74b-1695-43a2-9586-d7395ca2f71c"
      },
      "outputs": [],
      "source": [
        "category_cols = ['merchant_id', 'merchant_group_id', 'merchant_category_id',\n",
        "       'subsector_id', 'category_1',\n",
        "       'most_recent_sales_range', 'most_recent_purchases_range',\n",
        "       'category_4', 'city_id', 'state_id', 'category_2']\n",
        "numeric_cols = ['numerical_1', 'numerical_2',\n",
        "     'avg_sales_lag3', 'avg_purchases_lag3', 'active_months_lag3',\n",
        "       'avg_sales_lag6', 'avg_purchases_lag6', 'active_months_lag6',\n",
        "       'avg_sales_lag12', 'avg_purchases_lag12', 'active_months_lag12']\n",
        "\n",
        "# 检验特征是否划分完全\n",
        "assert len(category_cols) + len(numeric_cols) == merchant.shape[1]"
      ]
    },
    {
      "cell_type": "markdown",
      "metadata": {
        "id": "202ce461-db9a-46d4-9698-a9e2498032b8"
      },
      "source": [
        "- 离散变量数据情况"
      ]
    },
    {
      "cell_type": "markdown",
      "metadata": {
        "id": "a6e9be58-229d-4ea6-8ed2-46b07ef5c79a"
      },
      "source": [
        "&emsp;&emsp;然后简单查看离散变量当前数据情况："
      ]
    },
    {
      "cell_type": "code",
      "execution_count": null,
      "metadata": {
        "id": "ff2d5b1c-cafa-456f-bdb6-1fa689341105",
        "outputId": "8d0306da-c3a7-4dc9-eefc-60a889b643fd",
        "colab": {
          "base_uri": "https://localhost:8080/"
        }
      },
      "outputs": [
        {
          "output_type": "execute_result",
          "data": {
            "text/plain": [
              "merchant_id                    334633\n",
              "merchant_group_id              109391\n",
              "merchant_category_id              324\n",
              "subsector_id                       41\n",
              "category_1                          2\n",
              "most_recent_sales_range             5\n",
              "most_recent_purchases_range         5\n",
              "category_4                          2\n",
              "city_id                           271\n",
              "state_id                           25\n",
              "category_2                          5\n",
              "dtype: int64"
            ]
          },
          "metadata": {},
          "execution_count": 96
        }
      ],
      "source": [
        "# 查看分类变量的取值水平\n",
        "merchant[category_cols].nunique()"
      ]
    },
    {
      "cell_type": "code",
      "execution_count": null,
      "metadata": {
        "id": "377e51cb-d048-4473-aabe-7607fe713848",
        "outputId": "36dbe8e3-63ca-4660-d6a9-6f4410b9602f",
        "colab": {
          "base_uri": "https://localhost:8080/"
        }
      },
      "outputs": [
        {
          "output_type": "execute_result",
          "data": {
            "text/plain": [
              "merchant_id                     object\n",
              "merchant_group_id                int64\n",
              "merchant_category_id             int64\n",
              "subsector_id                     int64\n",
              "category_1                      object\n",
              "most_recent_sales_range         object\n",
              "most_recent_purchases_range     object\n",
              "category_4                      object\n",
              "city_id                          int64\n",
              "state_id                         int64\n",
              "category_2                     float64\n",
              "dtype: object"
            ]
          },
          "metadata": {},
          "execution_count": 97
        }
      ],
      "source": [
        "# 查看分类变量目前的类别\n",
        "merchant[category_cols].dtypes"
      ]
    },
    {
      "cell_type": "code",
      "execution_count": null,
      "metadata": {
        "id": "7d5dfaf6-6550-4246-8d86-cb3ea5bb1179",
        "outputId": "05f7a1cd-b150-4231-f1a6-5748997a8829",
        "colab": {
          "base_uri": "https://localhost:8080/"
        }
      },
      "outputs": [
        {
          "output_type": "execute_result",
          "data": {
            "text/plain": [
              "merchant_id                        0\n",
              "merchant_group_id                  0\n",
              "merchant_category_id               0\n",
              "subsector_id                       0\n",
              "category_1                         0\n",
              "most_recent_sales_range            0\n",
              "most_recent_purchases_range        0\n",
              "category_4                         0\n",
              "city_id                            0\n",
              "state_id                           0\n",
              "category_2                     11887\n",
              "dtype: int64"
            ]
          },
          "metadata": {},
          "execution_count": 98
        }
      ],
      "source": [
        "# 查看离散变量的缺失值情况\n",
        "merchant[category_cols].isnull().sum()"
      ]
    },
    {
      "cell_type": "markdown",
      "metadata": {
        "id": "7fafcdbe-8f6a-449f-bac4-80c15e7ca4e4"
      },
      "source": [
        "- 离散变量的缺失值标注"
      ]
    },
    {
      "cell_type": "markdown",
      "metadata": {
        "id": "6a69ceb6-9315-4fd4-b2e0-b7f0e35a7949"
      },
      "source": [
        "&emsp;&emsp;注意到离散变量中的category_2存在较多缺失值，由于该分类变量取值水平为1-5，因此可以将缺失值先标注为-1，方便后续进行数据探索："
      ]
    },
    {
      "cell_type": "code",
      "execution_count": null,
      "metadata": {
        "id": "dc16442c-20f9-48c2-972a-8acc81228983",
        "outputId": "b9ff8a17-e6a6-4320-eb50-d4f799c12d80",
        "colab": {
          "base_uri": "https://localhost:8080/"
        }
      },
      "outputs": [
        {
          "output_type": "execute_result",
          "data": {
            "text/plain": [
              "array([ 1.,  5., nan,  2.,  3.,  4.])"
            ]
          },
          "metadata": {},
          "execution_count": 99
        }
      ],
      "source": [
        "merchant['category_2'].unique()"
      ]
    },
    {
      "cell_type": "code",
      "execution_count": null,
      "metadata": {
        "id": "eb055378-751c-48d7-8e12-648c98966066"
      },
      "outputs": [],
      "source": [
        "merchant['category_2'] = merchant['category_2'].fillna(-1)"
      ]
    },
    {
      "cell_type": "markdown",
      "metadata": {
        "id": "feddd7c1-8e5c-44aa-a4ca-204a127bd0a5"
      },
      "source": [
        "- 离散变量字典编码"
      ]
    },
    {
      "cell_type": "markdown",
      "metadata": {
        "id": "5e549f8d-2ba9-442f-bafb-43ce3aa80212"
      },
      "source": [
        "&emsp;&emsp;接下来对离散变量进行字典编码，即将object对象类型按照sort顺序进行数值化（整数）编码。例如原始category_1取值为Y/N，通过sort排序后N在Y之前，因此在重新编码时N取值会重编码为0、Y取值会重编码为1。以此类推。"
      ]
    },
    {
      "cell_type": "markdown",
      "metadata": {
        "id": "26a59fd4-9a6f-4983-a89d-b39b1c1ea86c"
      },
      "source": [
        "&emsp;&emsp;需要注意的是，从严格角度来说，变量类型应该是有三类，分别是连续性变量、名义型变量以及有序变量。连续变量较好理解，所谓名义变量，指的是没有数值大小意义的分类变量，例如用1表示女、0表示男，0、1只是作为性别的指代，而没有1>0的含义。而所有有序变量，其也是离散型变量，但却有数值大小含义，如上述most_recent_purchases_range字段，销售等级中A>B>C>D>E，该离散变量的5个取值水平是有严格大小意义的，该变量就被称为有序变量。"
      ]
    },
    {
      "cell_type": "markdown",
      "metadata": {
        "id": "e31864b6-2d63-4ab9-9f9b-0c721e74e768"
      },
      "source": [
        "&emsp;&emsp;在实际建模过程中，如果不需要提取有序变量的数值大小信息的话，可以考虑将其和名义变量一样进行独热编码。但本阶段初级预处理时暂时不考虑这些问题，先统一将object类型转化为数值型。"
      ]
    },
    {
      "cell_type": "code",
      "execution_count": null,
      "metadata": {
        "id": "b226d1b0-f27a-46c3-95e5-96a1c7a9b570"
      },
      "outputs": [],
      "source": [
        "# 字典编码函数\n",
        "def change_object_cols(se):\n",
        "    value = se.unique().tolist()\n",
        "    value.sort()\n",
        "    return se.map(pd.Series(range(len(value)), index=value)).values"
      ]
    },
    {
      "cell_type": "markdown",
      "metadata": {
        "id": "ac0b41ee-42e5-4481-8912-b5656831b437"
      },
      "source": [
        "简单测试函数效果："
      ]
    },
    {
      "cell_type": "code",
      "execution_count": null,
      "metadata": {
        "id": "77d42b37-0adf-4210-97a4-55593391f516",
        "outputId": "08d93c7f-3645-4a53-b250-b6f9c1d49159",
        "colab": {
          "base_uri": "https://localhost:8080/"
        }
      },
      "outputs": [
        {
          "output_type": "execute_result",
          "data": {
            "text/plain": [
              "0         N\n",
              "1         N\n",
              "2         N\n",
              "3         Y\n",
              "4         Y\n",
              "         ..\n",
              "334691    N\n",
              "334692    Y\n",
              "334693    N\n",
              "334694    Y\n",
              "334695    N\n",
              "Name: category_1, Length: 334696, dtype: object"
            ]
          },
          "metadata": {},
          "execution_count": 102
        }
      ],
      "source": [
        "merchant['category_1']"
      ]
    },
    {
      "cell_type": "code",
      "execution_count": null,
      "metadata": {
        "id": "c782ed4a-bc4b-4e02-bba8-77879b629f71",
        "outputId": "f5e4a4d7-8c87-46f7-e675-f7b4402bf3f6",
        "colab": {
          "base_uri": "https://localhost:8080/"
        }
      },
      "outputs": [
        {
          "output_type": "execute_result",
          "data": {
            "text/plain": [
              "array([0, 0, 0, ..., 0, 1, 0])"
            ]
          },
          "metadata": {},
          "execution_count": 103
        }
      ],
      "source": [
        "change_object_cols(merchant['category_1'])"
      ]
    },
    {
      "cell_type": "markdown",
      "metadata": {
        "id": "d158f4c4-225e-4723-919b-5a74eb716700"
      },
      "source": [
        "接下来，对merchant对象中的四个object类型列进行类别转化："
      ]
    },
    {
      "cell_type": "code",
      "execution_count": null,
      "metadata": {
        "id": "4d8137b8-d079-418c-9e45-e40a657b2aa7"
      },
      "outputs": [],
      "source": [
        "for col in ['category_1', 'most_recent_sales_range', 'most_recent_purchases_range', 'category_4']:\n",
        "    merchant[col] = change_object_cols(merchant[col])"
      ]
    },
    {
      "cell_type": "code",
      "source": [
        "merchant['most_recent_sales_range']"
      ],
      "metadata": {
        "colab": {
          "base_uri": "https://localhost:8080/"
        },
        "id": "w9J1UHMbcp3j",
        "outputId": "1574449c-7576-4c44-c559-613946e32ee9"
      },
      "execution_count": null,
      "outputs": [
        {
          "output_type": "execute_result",
          "data": {
            "text/plain": [
              "0         4\n",
              "1         4\n",
              "2         4\n",
              "3         4\n",
              "4         4\n",
              "         ..\n",
              "334691    0\n",
              "334692    0\n",
              "334693    0\n",
              "334694    0\n",
              "334695    0\n",
              "Name: most_recent_sales_range, Length: 334696, dtype: int64"
            ]
          },
          "metadata": {},
          "execution_count": 105
        }
      ]
    },
    {
      "cell_type": "markdown",
      "metadata": {
        "id": "b75c31d8-4da8-46a0-92d7-354565feb7b3"
      },
      "source": [
        "- 连续变量的数据探索"
      ]
    },
    {
      "cell_type": "markdown",
      "metadata": {
        "id": "61bf8d00-4ac9-4cf5-9dfd-8f68faf97a71"
      },
      "source": [
        "&emsp;&emsp;接下来，我们继续探索连续变量"
      ]
    },
    {
      "cell_type": "code",
      "execution_count": null,
      "metadata": {
        "id": "60e297da-715c-4f87-a128-7853d9baf22b",
        "outputId": "43f5d240-c7f2-4908-9e4f-d23353548d25",
        "colab": {
          "base_uri": "https://localhost:8080/"
        }
      },
      "outputs": [
        {
          "output_type": "execute_result",
          "data": {
            "text/plain": [
              "numerical_1            float64\n",
              "numerical_2            float64\n",
              "avg_sales_lag3         float64\n",
              "avg_purchases_lag3     float64\n",
              "active_months_lag3       int64\n",
              "avg_sales_lag6         float64\n",
              "avg_purchases_lag6     float64\n",
              "active_months_lag6       int64\n",
              "avg_sales_lag12        float64\n",
              "avg_purchases_lag12    float64\n",
              "active_months_lag12      int64\n",
              "dtype: object"
            ]
          },
          "metadata": {},
          "execution_count": 106
        }
      ],
      "source": [
        "# 查看连续变量的类别\n",
        "merchant[numeric_cols].dtypes"
      ]
    },
    {
      "cell_type": "code",
      "execution_count": null,
      "metadata": {
        "id": "33516fa2-e820-4706-bee4-7212b2348876",
        "outputId": "4e1121e1-baee-4401-f3cc-7cf79183587f",
        "colab": {
          "base_uri": "https://localhost:8080/"
        }
      },
      "outputs": [
        {
          "output_type": "execute_result",
          "data": {
            "text/plain": [
              "numerical_1             0\n",
              "numerical_2             0\n",
              "avg_sales_lag3         13\n",
              "avg_purchases_lag3      0\n",
              "active_months_lag3      0\n",
              "avg_sales_lag6         13\n",
              "avg_purchases_lag6      0\n",
              "active_months_lag6      0\n",
              "avg_sales_lag12        13\n",
              "avg_purchases_lag12     0\n",
              "active_months_lag12     0\n",
              "dtype: int64"
            ]
          },
          "metadata": {},
          "execution_count": 107
        }
      ],
      "source": [
        "# 连续变量的缺失值情况\n",
        "merchant[numeric_cols].isnull().sum()"
      ]
    },
    {
      "cell_type": "code",
      "execution_count": null,
      "metadata": {
        "id": "c669b86f-88e6-4209-9f24-5e4f50014876",
        "outputId": "e5b06a00-5906-44a9-eebc-8199df00fe29",
        "colab": {
          "base_uri": "https://localhost:8080/",
          "height": 364
        }
      },
      "outputs": [
        {
          "output_type": "execute_result",
          "data": {
            "text/plain": [
              "         numerical_1    numerical_2  avg_sales_lag3  avg_purchases_lag3  \\\n",
              "count  334696.000000  334696.000000   334683.000000        3.346960e+05   \n",
              "mean        0.011476       0.008103       13.832993                 inf   \n",
              "std         1.098154       1.070497     2395.489999                 NaN   \n",
              "min        -0.057471      -0.057471      -82.130000        3.334953e-01   \n",
              "25%        -0.057471      -0.057471        0.880000        9.236499e-01   \n",
              "50%        -0.057471      -0.057471        1.000000        1.016667e+00   \n",
              "75%        -0.047556      -0.047556        1.160000        1.146522e+00   \n",
              "max       183.735111     182.079322   851844.640000                 inf   \n",
              "\n",
              "       active_months_lag3  avg_sales_lag6  avg_purchases_lag6  \\\n",
              "count       334696.000000    3.346830e+05        3.346960e+05   \n",
              "mean             2.994108    2.165079e+01                 inf   \n",
              "std              0.095247    3.947108e+03                 NaN   \n",
              "min              1.000000   -8.213000e+01        1.670447e-01   \n",
              "25%              3.000000    8.500000e-01        9.022475e-01   \n",
              "50%              3.000000    1.010000e+00        1.026961e+00   \n",
              "75%              3.000000    1.230000e+00        1.215575e+00   \n",
              "max              3.000000    1.513959e+06                 inf   \n",
              "\n",
              "       active_months_lag6  avg_sales_lag12  avg_purchases_lag12  \\\n",
              "count       334696.000000     3.346830e+05         3.346960e+05   \n",
              "mean             5.947397     2.522771e+01                  inf   \n",
              "std              0.394936     5.251842e+03                  NaN   \n",
              "min              1.000000    -8.213000e+01         9.832954e-02   \n",
              "25%              6.000000     8.500000e-01         8.983333e-01   \n",
              "50%              6.000000     1.020000e+00         1.043361e+00   \n",
              "75%              6.000000     1.290000e+00         1.266480e+00   \n",
              "max              6.000000     2.567408e+06                  inf   \n",
              "\n",
              "       active_months_lag12  \n",
              "count        334696.000000  \n",
              "mean             11.599335  \n",
              "std               1.520138  \n",
              "min               1.000000  \n",
              "25%              12.000000  \n",
              "50%              12.000000  \n",
              "75%              12.000000  \n",
              "max              12.000000  "
            ],
            "text/html": [
              "\n",
              "  <div id=\"df-1bcfbd67-f3f7-4011-a7da-7984cb605785\">\n",
              "    <div class=\"colab-df-container\">\n",
              "      <div>\n",
              "<style scoped>\n",
              "    .dataframe tbody tr th:only-of-type {\n",
              "        vertical-align: middle;\n",
              "    }\n",
              "\n",
              "    .dataframe tbody tr th {\n",
              "        vertical-align: top;\n",
              "    }\n",
              "\n",
              "    .dataframe thead th {\n",
              "        text-align: right;\n",
              "    }\n",
              "</style>\n",
              "<table border=\"1\" class=\"dataframe\">\n",
              "  <thead>\n",
              "    <tr style=\"text-align: right;\">\n",
              "      <th></th>\n",
              "      <th>numerical_1</th>\n",
              "      <th>numerical_2</th>\n",
              "      <th>avg_sales_lag3</th>\n",
              "      <th>avg_purchases_lag3</th>\n",
              "      <th>active_months_lag3</th>\n",
              "      <th>avg_sales_lag6</th>\n",
              "      <th>avg_purchases_lag6</th>\n",
              "      <th>active_months_lag6</th>\n",
              "      <th>avg_sales_lag12</th>\n",
              "      <th>avg_purchases_lag12</th>\n",
              "      <th>active_months_lag12</th>\n",
              "    </tr>\n",
              "  </thead>\n",
              "  <tbody>\n",
              "    <tr>\n",
              "      <th>count</th>\n",
              "      <td>334696.000000</td>\n",
              "      <td>334696.000000</td>\n",
              "      <td>334683.000000</td>\n",
              "      <td>3.346960e+05</td>\n",
              "      <td>334696.000000</td>\n",
              "      <td>3.346830e+05</td>\n",
              "      <td>3.346960e+05</td>\n",
              "      <td>334696.000000</td>\n",
              "      <td>3.346830e+05</td>\n",
              "      <td>3.346960e+05</td>\n",
              "      <td>334696.000000</td>\n",
              "    </tr>\n",
              "    <tr>\n",
              "      <th>mean</th>\n",
              "      <td>0.011476</td>\n",
              "      <td>0.008103</td>\n",
              "      <td>13.832993</td>\n",
              "      <td>inf</td>\n",
              "      <td>2.994108</td>\n",
              "      <td>2.165079e+01</td>\n",
              "      <td>inf</td>\n",
              "      <td>5.947397</td>\n",
              "      <td>2.522771e+01</td>\n",
              "      <td>inf</td>\n",
              "      <td>11.599335</td>\n",
              "    </tr>\n",
              "    <tr>\n",
              "      <th>std</th>\n",
              "      <td>1.098154</td>\n",
              "      <td>1.070497</td>\n",
              "      <td>2395.489999</td>\n",
              "      <td>NaN</td>\n",
              "      <td>0.095247</td>\n",
              "      <td>3.947108e+03</td>\n",
              "      <td>NaN</td>\n",
              "      <td>0.394936</td>\n",
              "      <td>5.251842e+03</td>\n",
              "      <td>NaN</td>\n",
              "      <td>1.520138</td>\n",
              "    </tr>\n",
              "    <tr>\n",
              "      <th>min</th>\n",
              "      <td>-0.057471</td>\n",
              "      <td>-0.057471</td>\n",
              "      <td>-82.130000</td>\n",
              "      <td>3.334953e-01</td>\n",
              "      <td>1.000000</td>\n",
              "      <td>-8.213000e+01</td>\n",
              "      <td>1.670447e-01</td>\n",
              "      <td>1.000000</td>\n",
              "      <td>-8.213000e+01</td>\n",
              "      <td>9.832954e-02</td>\n",
              "      <td>1.000000</td>\n",
              "    </tr>\n",
              "    <tr>\n",
              "      <th>25%</th>\n",
              "      <td>-0.057471</td>\n",
              "      <td>-0.057471</td>\n",
              "      <td>0.880000</td>\n",
              "      <td>9.236499e-01</td>\n",
              "      <td>3.000000</td>\n",
              "      <td>8.500000e-01</td>\n",
              "      <td>9.022475e-01</td>\n",
              "      <td>6.000000</td>\n",
              "      <td>8.500000e-01</td>\n",
              "      <td>8.983333e-01</td>\n",
              "      <td>12.000000</td>\n",
              "    </tr>\n",
              "    <tr>\n",
              "      <th>50%</th>\n",
              "      <td>-0.057471</td>\n",
              "      <td>-0.057471</td>\n",
              "      <td>1.000000</td>\n",
              "      <td>1.016667e+00</td>\n",
              "      <td>3.000000</td>\n",
              "      <td>1.010000e+00</td>\n",
              "      <td>1.026961e+00</td>\n",
              "      <td>6.000000</td>\n",
              "      <td>1.020000e+00</td>\n",
              "      <td>1.043361e+00</td>\n",
              "      <td>12.000000</td>\n",
              "    </tr>\n",
              "    <tr>\n",
              "      <th>75%</th>\n",
              "      <td>-0.047556</td>\n",
              "      <td>-0.047556</td>\n",
              "      <td>1.160000</td>\n",
              "      <td>1.146522e+00</td>\n",
              "      <td>3.000000</td>\n",
              "      <td>1.230000e+00</td>\n",
              "      <td>1.215575e+00</td>\n",
              "      <td>6.000000</td>\n",
              "      <td>1.290000e+00</td>\n",
              "      <td>1.266480e+00</td>\n",
              "      <td>12.000000</td>\n",
              "    </tr>\n",
              "    <tr>\n",
              "      <th>max</th>\n",
              "      <td>183.735111</td>\n",
              "      <td>182.079322</td>\n",
              "      <td>851844.640000</td>\n",
              "      <td>inf</td>\n",
              "      <td>3.000000</td>\n",
              "      <td>1.513959e+06</td>\n",
              "      <td>inf</td>\n",
              "      <td>6.000000</td>\n",
              "      <td>2.567408e+06</td>\n",
              "      <td>inf</td>\n",
              "      <td>12.000000</td>\n",
              "    </tr>\n",
              "  </tbody>\n",
              "</table>\n",
              "</div>\n",
              "      <button class=\"colab-df-convert\" onclick=\"convertToInteractive('df-1bcfbd67-f3f7-4011-a7da-7984cb605785')\"\n",
              "              title=\"Convert this dataframe to an interactive table.\"\n",
              "              style=\"display:none;\">\n",
              "        \n",
              "  <svg xmlns=\"http://www.w3.org/2000/svg\" height=\"24px\"viewBox=\"0 0 24 24\"\n",
              "       width=\"24px\">\n",
              "    <path d=\"M0 0h24v24H0V0z\" fill=\"none\"/>\n",
              "    <path d=\"M18.56 5.44l.94 2.06.94-2.06 2.06-.94-2.06-.94-.94-2.06-.94 2.06-2.06.94zm-11 1L8.5 8.5l.94-2.06 2.06-.94-2.06-.94L8.5 2.5l-.94 2.06-2.06.94zm10 10l.94 2.06.94-2.06 2.06-.94-2.06-.94-.94-2.06-.94 2.06-2.06.94z\"/><path d=\"M17.41 7.96l-1.37-1.37c-.4-.4-.92-.59-1.43-.59-.52 0-1.04.2-1.43.59L10.3 9.45l-7.72 7.72c-.78.78-.78 2.05 0 2.83L4 21.41c.39.39.9.59 1.41.59.51 0 1.02-.2 1.41-.59l7.78-7.78 2.81-2.81c.8-.78.8-2.07 0-2.86zM5.41 20L4 18.59l7.72-7.72 1.47 1.35L5.41 20z\"/>\n",
              "  </svg>\n",
              "      </button>\n",
              "      \n",
              "  <style>\n",
              "    .colab-df-container {\n",
              "      display:flex;\n",
              "      flex-wrap:wrap;\n",
              "      gap: 12px;\n",
              "    }\n",
              "\n",
              "    .colab-df-convert {\n",
              "      background-color: #E8F0FE;\n",
              "      border: none;\n",
              "      border-radius: 50%;\n",
              "      cursor: pointer;\n",
              "      display: none;\n",
              "      fill: #1967D2;\n",
              "      height: 32px;\n",
              "      padding: 0 0 0 0;\n",
              "      width: 32px;\n",
              "    }\n",
              "\n",
              "    .colab-df-convert:hover {\n",
              "      background-color: #E2EBFA;\n",
              "      box-shadow: 0px 1px 2px rgba(60, 64, 67, 0.3), 0px 1px 3px 1px rgba(60, 64, 67, 0.15);\n",
              "      fill: #174EA6;\n",
              "    }\n",
              "\n",
              "    [theme=dark] .colab-df-convert {\n",
              "      background-color: #3B4455;\n",
              "      fill: #D2E3FC;\n",
              "    }\n",
              "\n",
              "    [theme=dark] .colab-df-convert:hover {\n",
              "      background-color: #434B5C;\n",
              "      box-shadow: 0px 1px 3px 1px rgba(0, 0, 0, 0.15);\n",
              "      filter: drop-shadow(0px 1px 2px rgba(0, 0, 0, 0.3));\n",
              "      fill: #FFFFFF;\n",
              "    }\n",
              "  </style>\n",
              "\n",
              "      <script>\n",
              "        const buttonEl =\n",
              "          document.querySelector('#df-1bcfbd67-f3f7-4011-a7da-7984cb605785 button.colab-df-convert');\n",
              "        buttonEl.style.display =\n",
              "          google.colab.kernel.accessAllowed ? 'block' : 'none';\n",
              "\n",
              "        async function convertToInteractive(key) {\n",
              "          const element = document.querySelector('#df-1bcfbd67-f3f7-4011-a7da-7984cb605785');\n",
              "          const dataTable =\n",
              "            await google.colab.kernel.invokeFunction('convertToInteractive',\n",
              "                                                     [key], {});\n",
              "          if (!dataTable) return;\n",
              "\n",
              "          const docLinkHtml = 'Like what you see? Visit the ' +\n",
              "            '<a target=\"_blank\" href=https://colab.research.google.com/notebooks/data_table.ipynb>data table notebook</a>'\n",
              "            + ' to learn more about interactive tables.';\n",
              "          element.innerHTML = '';\n",
              "          dataTable['output_type'] = 'display_data';\n",
              "          await google.colab.output.renderOutput(dataTable, element);\n",
              "          const docLink = document.createElement('div');\n",
              "          docLink.innerHTML = docLinkHtml;\n",
              "          element.appendChild(docLink);\n",
              "        }\n",
              "      </script>\n",
              "    </div>\n",
              "  </div>\n",
              "  "
            ]
          },
          "metadata": {},
          "execution_count": 108
        }
      ],
      "source": [
        "# 查看连续变量整体情况\n",
        "merchant[numeric_cols].describe()"
      ]
    },
    {
      "cell_type": "markdown",
      "metadata": {
        "id": "4c721b5b-e605-4606-82eb-5b5f0c0578ea"
      },
      "source": [
        "据此我们发现连续型变量中存在部分缺失值，并且部分连续变量还存在无穷值inf，需要对其进行简单处理。"
      ]
    },
    {
      "cell_type": "markdown",
      "metadata": {
        "id": "f6ccbd22-382d-4cb0-bafb-ec70272910aa"
      },
      "source": [
        "- 无穷值处理"
      ]
    },
    {
      "cell_type": "markdown",
      "metadata": {
        "id": "2fdf8e41-3c73-48db-96b1-24e0579d38c1"
      },
      "source": [
        "&emsp;&emsp;此处我们首先需要对无穷值进行处理。此处我们采用类似天花板盖帽法的方式对其进行修改，即将inf改为最大的显式数值。代码实现流程如下："
      ]
    },
    {
      "cell_type": "code",
      "execution_count": null,
      "metadata": {
        "id": "bbe2ee28-f252-4130-8fc6-9cce4620a623"
      },
      "outputs": [],
      "source": [
        "inf_cols = ['avg_purchases_lag3', 'avg_purchases_lag6', 'avg_purchases_lag12']\n",
        "merchant[inf_cols] = merchant[inf_cols].replace(np.inf, merchant[inf_cols].replace(np.inf, -99).max().max()) # 这三列中所出现最大数作为inf的填充"
      ]
    },
    {
      "cell_type": "code",
      "execution_count": null,
      "metadata": {
        "id": "55ca2a74-950f-40a5-bea4-a8f47d8a96e7",
        "outputId": "ac8818c9-0262-4529-b67f-6582e43780d5",
        "colab": {
          "base_uri": "https://localhost:8080/",
          "height": 364
        }
      },
      "outputs": [
        {
          "output_type": "execute_result",
          "data": {
            "text/plain": [
              "         numerical_1    numerical_2  avg_sales_lag3  avg_purchases_lag3  \\\n",
              "count  334696.000000  334696.000000   334683.000000       334696.000000   \n",
              "mean        0.011476       0.008103       13.832993            2.145143   \n",
              "std         1.098154       1.070497     2395.489999          213.955844   \n",
              "min        -0.057471      -0.057471      -82.130000            0.333495   \n",
              "25%        -0.057471      -0.057471        0.880000            0.923650   \n",
              "50%        -0.057471      -0.057471        1.000000            1.016667   \n",
              "75%        -0.047556      -0.047556        1.160000            1.146522   \n",
              "max       183.735111     182.079322   851844.640000        61851.333333   \n",
              "\n",
              "       active_months_lag3  avg_sales_lag6  avg_purchases_lag6  \\\n",
              "count       334696.000000    3.346830e+05       334696.000000   \n",
              "mean             2.994108    2.165079e+01            2.441947   \n",
              "std              0.095247    3.947108e+03          209.439373   \n",
              "min              1.000000   -8.213000e+01            0.167045   \n",
              "25%              3.000000    8.500000e-01            0.902247   \n",
              "50%              3.000000    1.010000e+00            1.026961   \n",
              "75%              3.000000    1.230000e+00            1.215575   \n",
              "max              3.000000    1.513959e+06        61851.333333   \n",
              "\n",
              "       active_months_lag6  avg_sales_lag12  avg_purchases_lag12  \\\n",
              "count       334696.000000     3.346830e+05        334696.000000   \n",
              "mean             5.947397     2.522771e+01             2.633572   \n",
              "std              0.394936     5.251842e+03           205.206198   \n",
              "min              1.000000    -8.213000e+01             0.098330   \n",
              "25%              6.000000     8.500000e-01             0.898333   \n",
              "50%              6.000000     1.020000e+00             1.043361   \n",
              "75%              6.000000     1.290000e+00             1.266480   \n",
              "max              6.000000     2.567408e+06         61851.333333   \n",
              "\n",
              "       active_months_lag12  \n",
              "count        334696.000000  \n",
              "mean             11.599335  \n",
              "std               1.520138  \n",
              "min               1.000000  \n",
              "25%              12.000000  \n",
              "50%              12.000000  \n",
              "75%              12.000000  \n",
              "max              12.000000  "
            ],
            "text/html": [
              "\n",
              "  <div id=\"df-fdb3f08d-b0d0-4a15-83ed-8cf4ba0660b1\">\n",
              "    <div class=\"colab-df-container\">\n",
              "      <div>\n",
              "<style scoped>\n",
              "    .dataframe tbody tr th:only-of-type {\n",
              "        vertical-align: middle;\n",
              "    }\n",
              "\n",
              "    .dataframe tbody tr th {\n",
              "        vertical-align: top;\n",
              "    }\n",
              "\n",
              "    .dataframe thead th {\n",
              "        text-align: right;\n",
              "    }\n",
              "</style>\n",
              "<table border=\"1\" class=\"dataframe\">\n",
              "  <thead>\n",
              "    <tr style=\"text-align: right;\">\n",
              "      <th></th>\n",
              "      <th>numerical_1</th>\n",
              "      <th>numerical_2</th>\n",
              "      <th>avg_sales_lag3</th>\n",
              "      <th>avg_purchases_lag3</th>\n",
              "      <th>active_months_lag3</th>\n",
              "      <th>avg_sales_lag6</th>\n",
              "      <th>avg_purchases_lag6</th>\n",
              "      <th>active_months_lag6</th>\n",
              "      <th>avg_sales_lag12</th>\n",
              "      <th>avg_purchases_lag12</th>\n",
              "      <th>active_months_lag12</th>\n",
              "    </tr>\n",
              "  </thead>\n",
              "  <tbody>\n",
              "    <tr>\n",
              "      <th>count</th>\n",
              "      <td>334696.000000</td>\n",
              "      <td>334696.000000</td>\n",
              "      <td>334683.000000</td>\n",
              "      <td>334696.000000</td>\n",
              "      <td>334696.000000</td>\n",
              "      <td>3.346830e+05</td>\n",
              "      <td>334696.000000</td>\n",
              "      <td>334696.000000</td>\n",
              "      <td>3.346830e+05</td>\n",
              "      <td>334696.000000</td>\n",
              "      <td>334696.000000</td>\n",
              "    </tr>\n",
              "    <tr>\n",
              "      <th>mean</th>\n",
              "      <td>0.011476</td>\n",
              "      <td>0.008103</td>\n",
              "      <td>13.832993</td>\n",
              "      <td>2.145143</td>\n",
              "      <td>2.994108</td>\n",
              "      <td>2.165079e+01</td>\n",
              "      <td>2.441947</td>\n",
              "      <td>5.947397</td>\n",
              "      <td>2.522771e+01</td>\n",
              "      <td>2.633572</td>\n",
              "      <td>11.599335</td>\n",
              "    </tr>\n",
              "    <tr>\n",
              "      <th>std</th>\n",
              "      <td>1.098154</td>\n",
              "      <td>1.070497</td>\n",
              "      <td>2395.489999</td>\n",
              "      <td>213.955844</td>\n",
              "      <td>0.095247</td>\n",
              "      <td>3.947108e+03</td>\n",
              "      <td>209.439373</td>\n",
              "      <td>0.394936</td>\n",
              "      <td>5.251842e+03</td>\n",
              "      <td>205.206198</td>\n",
              "      <td>1.520138</td>\n",
              "    </tr>\n",
              "    <tr>\n",
              "      <th>min</th>\n",
              "      <td>-0.057471</td>\n",
              "      <td>-0.057471</td>\n",
              "      <td>-82.130000</td>\n",
              "      <td>0.333495</td>\n",
              "      <td>1.000000</td>\n",
              "      <td>-8.213000e+01</td>\n",
              "      <td>0.167045</td>\n",
              "      <td>1.000000</td>\n",
              "      <td>-8.213000e+01</td>\n",
              "      <td>0.098330</td>\n",
              "      <td>1.000000</td>\n",
              "    </tr>\n",
              "    <tr>\n",
              "      <th>25%</th>\n",
              "      <td>-0.057471</td>\n",
              "      <td>-0.057471</td>\n",
              "      <td>0.880000</td>\n",
              "      <td>0.923650</td>\n",
              "      <td>3.000000</td>\n",
              "      <td>8.500000e-01</td>\n",
              "      <td>0.902247</td>\n",
              "      <td>6.000000</td>\n",
              "      <td>8.500000e-01</td>\n",
              "      <td>0.898333</td>\n",
              "      <td>12.000000</td>\n",
              "    </tr>\n",
              "    <tr>\n",
              "      <th>50%</th>\n",
              "      <td>-0.057471</td>\n",
              "      <td>-0.057471</td>\n",
              "      <td>1.000000</td>\n",
              "      <td>1.016667</td>\n",
              "      <td>3.000000</td>\n",
              "      <td>1.010000e+00</td>\n",
              "      <td>1.026961</td>\n",
              "      <td>6.000000</td>\n",
              "      <td>1.020000e+00</td>\n",
              "      <td>1.043361</td>\n",
              "      <td>12.000000</td>\n",
              "    </tr>\n",
              "    <tr>\n",
              "      <th>75%</th>\n",
              "      <td>-0.047556</td>\n",
              "      <td>-0.047556</td>\n",
              "      <td>1.160000</td>\n",
              "      <td>1.146522</td>\n",
              "      <td>3.000000</td>\n",
              "      <td>1.230000e+00</td>\n",
              "      <td>1.215575</td>\n",
              "      <td>6.000000</td>\n",
              "      <td>1.290000e+00</td>\n",
              "      <td>1.266480</td>\n",
              "      <td>12.000000</td>\n",
              "    </tr>\n",
              "    <tr>\n",
              "      <th>max</th>\n",
              "      <td>183.735111</td>\n",
              "      <td>182.079322</td>\n",
              "      <td>851844.640000</td>\n",
              "      <td>61851.333333</td>\n",
              "      <td>3.000000</td>\n",
              "      <td>1.513959e+06</td>\n",
              "      <td>61851.333333</td>\n",
              "      <td>6.000000</td>\n",
              "      <td>2.567408e+06</td>\n",
              "      <td>61851.333333</td>\n",
              "      <td>12.000000</td>\n",
              "    </tr>\n",
              "  </tbody>\n",
              "</table>\n",
              "</div>\n",
              "      <button class=\"colab-df-convert\" onclick=\"convertToInteractive('df-fdb3f08d-b0d0-4a15-83ed-8cf4ba0660b1')\"\n",
              "              title=\"Convert this dataframe to an interactive table.\"\n",
              "              style=\"display:none;\">\n",
              "        \n",
              "  <svg xmlns=\"http://www.w3.org/2000/svg\" height=\"24px\"viewBox=\"0 0 24 24\"\n",
              "       width=\"24px\">\n",
              "    <path d=\"M0 0h24v24H0V0z\" fill=\"none\"/>\n",
              "    <path d=\"M18.56 5.44l.94 2.06.94-2.06 2.06-.94-2.06-.94-.94-2.06-.94 2.06-2.06.94zm-11 1L8.5 8.5l.94-2.06 2.06-.94-2.06-.94L8.5 2.5l-.94 2.06-2.06.94zm10 10l.94 2.06.94-2.06 2.06-.94-2.06-.94-.94-2.06-.94 2.06-2.06.94z\"/><path d=\"M17.41 7.96l-1.37-1.37c-.4-.4-.92-.59-1.43-.59-.52 0-1.04.2-1.43.59L10.3 9.45l-7.72 7.72c-.78.78-.78 2.05 0 2.83L4 21.41c.39.39.9.59 1.41.59.51 0 1.02-.2 1.41-.59l7.78-7.78 2.81-2.81c.8-.78.8-2.07 0-2.86zM5.41 20L4 18.59l7.72-7.72 1.47 1.35L5.41 20z\"/>\n",
              "  </svg>\n",
              "      </button>\n",
              "      \n",
              "  <style>\n",
              "    .colab-df-container {\n",
              "      display:flex;\n",
              "      flex-wrap:wrap;\n",
              "      gap: 12px;\n",
              "    }\n",
              "\n",
              "    .colab-df-convert {\n",
              "      background-color: #E8F0FE;\n",
              "      border: none;\n",
              "      border-radius: 50%;\n",
              "      cursor: pointer;\n",
              "      display: none;\n",
              "      fill: #1967D2;\n",
              "      height: 32px;\n",
              "      padding: 0 0 0 0;\n",
              "      width: 32px;\n",
              "    }\n",
              "\n",
              "    .colab-df-convert:hover {\n",
              "      background-color: #E2EBFA;\n",
              "      box-shadow: 0px 1px 2px rgba(60, 64, 67, 0.3), 0px 1px 3px 1px rgba(60, 64, 67, 0.15);\n",
              "      fill: #174EA6;\n",
              "    }\n",
              "\n",
              "    [theme=dark] .colab-df-convert {\n",
              "      background-color: #3B4455;\n",
              "      fill: #D2E3FC;\n",
              "    }\n",
              "\n",
              "    [theme=dark] .colab-df-convert:hover {\n",
              "      background-color: #434B5C;\n",
              "      box-shadow: 0px 1px 3px 1px rgba(0, 0, 0, 0.15);\n",
              "      filter: drop-shadow(0px 1px 2px rgba(0, 0, 0, 0.3));\n",
              "      fill: #FFFFFF;\n",
              "    }\n",
              "  </style>\n",
              "\n",
              "      <script>\n",
              "        const buttonEl =\n",
              "          document.querySelector('#df-fdb3f08d-b0d0-4a15-83ed-8cf4ba0660b1 button.colab-df-convert');\n",
              "        buttonEl.style.display =\n",
              "          google.colab.kernel.accessAllowed ? 'block' : 'none';\n",
              "\n",
              "        async function convertToInteractive(key) {\n",
              "          const element = document.querySelector('#df-fdb3f08d-b0d0-4a15-83ed-8cf4ba0660b1');\n",
              "          const dataTable =\n",
              "            await google.colab.kernel.invokeFunction('convertToInteractive',\n",
              "                                                     [key], {});\n",
              "          if (!dataTable) return;\n",
              "\n",
              "          const docLinkHtml = 'Like what you see? Visit the ' +\n",
              "            '<a target=\"_blank\" href=https://colab.research.google.com/notebooks/data_table.ipynb>data table notebook</a>'\n",
              "            + ' to learn more about interactive tables.';\n",
              "          element.innerHTML = '';\n",
              "          dataTable['output_type'] = 'display_data';\n",
              "          await google.colab.output.renderOutput(dataTable, element);\n",
              "          const docLink = document.createElement('div');\n",
              "          docLink.innerHTML = docLinkHtml;\n",
              "          element.appendChild(docLink);\n",
              "        }\n",
              "      </script>\n",
              "    </div>\n",
              "  </div>\n",
              "  "
            ]
          },
          "metadata": {},
          "execution_count": 110
        }
      ],
      "source": [
        "merchant[numeric_cols].describe()"
      ]
    },
    {
      "cell_type": "markdown",
      "metadata": {
        "id": "092db48b-9d53-4969-a193-9dec672c8ae4"
      },
      "source": [
        "- 缺失值处理"
      ]
    },
    {
      "cell_type": "markdown",
      "metadata": {
        "id": "ded36a33-3b8f-4906-9561-3b735c726c9f"
      },
      "source": [
        "&emsp;&emsp;不同于无穷值的处理，缺失值处理方法有很多。但该数据集缺失数据较少，33万条数据中只有13条连续特征缺失值，此处我们先简单采用均值进行填补处理，后续若有需要再进行优化处理。"
      ]
    },
    {
      "cell_type": "code",
      "execution_count": null,
      "metadata": {
        "id": "126b8385-3d01-46ce-a465-2d617e3a39a4"
      },
      "outputs": [],
      "source": [
        "for col in numeric_cols:\n",
        "    merchant[col] = merchant[col].fillna(merchant[col].mean())"
      ]
    },
    {
      "cell_type": "code",
      "execution_count": null,
      "metadata": {
        "id": "0454e356-4dd7-4f29-b8c9-23aab1329992",
        "outputId": "bff4b1f8-7dee-4f6b-fe94-08563a246525",
        "colab": {
          "base_uri": "https://localhost:8080/",
          "height": 364
        }
      },
      "outputs": [
        {
          "output_type": "execute_result",
          "data": {
            "text/plain": [
              "         numerical_1    numerical_2  avg_sales_lag3  avg_purchases_lag3  \\\n",
              "count  334696.000000  334696.000000   334696.000000       334696.000000   \n",
              "mean        0.011476       0.008103       13.832993            2.145143   \n",
              "std         1.098154       1.070497     2395.443476          213.955844   \n",
              "min        -0.057471      -0.057471      -82.130000            0.333495   \n",
              "25%        -0.057471      -0.057471        0.880000            0.923650   \n",
              "50%        -0.057471      -0.057471        1.000000            1.016667   \n",
              "75%        -0.047556      -0.047556        1.160000            1.146522   \n",
              "max       183.735111     182.079322   851844.640000        61851.333333   \n",
              "\n",
              "       active_months_lag3  avg_sales_lag6  avg_purchases_lag6  \\\n",
              "count       334696.000000    3.346960e+05       334696.000000   \n",
              "mean             2.994108    2.165079e+01            2.441947   \n",
              "std              0.095247    3.947031e+03          209.439373   \n",
              "min              1.000000   -8.213000e+01            0.167045   \n",
              "25%              3.000000    8.500000e-01            0.902247   \n",
              "50%              3.000000    1.010000e+00            1.026961   \n",
              "75%              3.000000    1.230000e+00            1.215575   \n",
              "max              3.000000    1.513959e+06        61851.333333   \n",
              "\n",
              "       active_months_lag6  avg_sales_lag12  avg_purchases_lag12  \\\n",
              "count       334696.000000     3.346960e+05        334696.000000   \n",
              "mean             5.947397     2.522771e+01             2.633572   \n",
              "std              0.394936     5.251740e+03           205.206198   \n",
              "min              1.000000    -8.213000e+01             0.098330   \n",
              "25%              6.000000     8.500000e-01             0.898333   \n",
              "50%              6.000000     1.020000e+00             1.043361   \n",
              "75%              6.000000     1.290000e+00             1.266480   \n",
              "max              6.000000     2.567408e+06         61851.333333   \n",
              "\n",
              "       active_months_lag12  \n",
              "count        334696.000000  \n",
              "mean             11.599335  \n",
              "std               1.520138  \n",
              "min               1.000000  \n",
              "25%              12.000000  \n",
              "50%              12.000000  \n",
              "75%              12.000000  \n",
              "max              12.000000  "
            ],
            "text/html": [
              "\n",
              "  <div id=\"df-9cc2e4fb-ed40-4241-9dbf-e8c82bc8af42\">\n",
              "    <div class=\"colab-df-container\">\n",
              "      <div>\n",
              "<style scoped>\n",
              "    .dataframe tbody tr th:only-of-type {\n",
              "        vertical-align: middle;\n",
              "    }\n",
              "\n",
              "    .dataframe tbody tr th {\n",
              "        vertical-align: top;\n",
              "    }\n",
              "\n",
              "    .dataframe thead th {\n",
              "        text-align: right;\n",
              "    }\n",
              "</style>\n",
              "<table border=\"1\" class=\"dataframe\">\n",
              "  <thead>\n",
              "    <tr style=\"text-align: right;\">\n",
              "      <th></th>\n",
              "      <th>numerical_1</th>\n",
              "      <th>numerical_2</th>\n",
              "      <th>avg_sales_lag3</th>\n",
              "      <th>avg_purchases_lag3</th>\n",
              "      <th>active_months_lag3</th>\n",
              "      <th>avg_sales_lag6</th>\n",
              "      <th>avg_purchases_lag6</th>\n",
              "      <th>active_months_lag6</th>\n",
              "      <th>avg_sales_lag12</th>\n",
              "      <th>avg_purchases_lag12</th>\n",
              "      <th>active_months_lag12</th>\n",
              "    </tr>\n",
              "  </thead>\n",
              "  <tbody>\n",
              "    <tr>\n",
              "      <th>count</th>\n",
              "      <td>334696.000000</td>\n",
              "      <td>334696.000000</td>\n",
              "      <td>334696.000000</td>\n",
              "      <td>334696.000000</td>\n",
              "      <td>334696.000000</td>\n",
              "      <td>3.346960e+05</td>\n",
              "      <td>334696.000000</td>\n",
              "      <td>334696.000000</td>\n",
              "      <td>3.346960e+05</td>\n",
              "      <td>334696.000000</td>\n",
              "      <td>334696.000000</td>\n",
              "    </tr>\n",
              "    <tr>\n",
              "      <th>mean</th>\n",
              "      <td>0.011476</td>\n",
              "      <td>0.008103</td>\n",
              "      <td>13.832993</td>\n",
              "      <td>2.145143</td>\n",
              "      <td>2.994108</td>\n",
              "      <td>2.165079e+01</td>\n",
              "      <td>2.441947</td>\n",
              "      <td>5.947397</td>\n",
              "      <td>2.522771e+01</td>\n",
              "      <td>2.633572</td>\n",
              "      <td>11.599335</td>\n",
              "    </tr>\n",
              "    <tr>\n",
              "      <th>std</th>\n",
              "      <td>1.098154</td>\n",
              "      <td>1.070497</td>\n",
              "      <td>2395.443476</td>\n",
              "      <td>213.955844</td>\n",
              "      <td>0.095247</td>\n",
              "      <td>3.947031e+03</td>\n",
              "      <td>209.439373</td>\n",
              "      <td>0.394936</td>\n",
              "      <td>5.251740e+03</td>\n",
              "      <td>205.206198</td>\n",
              "      <td>1.520138</td>\n",
              "    </tr>\n",
              "    <tr>\n",
              "      <th>min</th>\n",
              "      <td>-0.057471</td>\n",
              "      <td>-0.057471</td>\n",
              "      <td>-82.130000</td>\n",
              "      <td>0.333495</td>\n",
              "      <td>1.000000</td>\n",
              "      <td>-8.213000e+01</td>\n",
              "      <td>0.167045</td>\n",
              "      <td>1.000000</td>\n",
              "      <td>-8.213000e+01</td>\n",
              "      <td>0.098330</td>\n",
              "      <td>1.000000</td>\n",
              "    </tr>\n",
              "    <tr>\n",
              "      <th>25%</th>\n",
              "      <td>-0.057471</td>\n",
              "      <td>-0.057471</td>\n",
              "      <td>0.880000</td>\n",
              "      <td>0.923650</td>\n",
              "      <td>3.000000</td>\n",
              "      <td>8.500000e-01</td>\n",
              "      <td>0.902247</td>\n",
              "      <td>6.000000</td>\n",
              "      <td>8.500000e-01</td>\n",
              "      <td>0.898333</td>\n",
              "      <td>12.000000</td>\n",
              "    </tr>\n",
              "    <tr>\n",
              "      <th>50%</th>\n",
              "      <td>-0.057471</td>\n",
              "      <td>-0.057471</td>\n",
              "      <td>1.000000</td>\n",
              "      <td>1.016667</td>\n",
              "      <td>3.000000</td>\n",
              "      <td>1.010000e+00</td>\n",
              "      <td>1.026961</td>\n",
              "      <td>6.000000</td>\n",
              "      <td>1.020000e+00</td>\n",
              "      <td>1.043361</td>\n",
              "      <td>12.000000</td>\n",
              "    </tr>\n",
              "    <tr>\n",
              "      <th>75%</th>\n",
              "      <td>-0.047556</td>\n",
              "      <td>-0.047556</td>\n",
              "      <td>1.160000</td>\n",
              "      <td>1.146522</td>\n",
              "      <td>3.000000</td>\n",
              "      <td>1.230000e+00</td>\n",
              "      <td>1.215575</td>\n",
              "      <td>6.000000</td>\n",
              "      <td>1.290000e+00</td>\n",
              "      <td>1.266480</td>\n",
              "      <td>12.000000</td>\n",
              "    </tr>\n",
              "    <tr>\n",
              "      <th>max</th>\n",
              "      <td>183.735111</td>\n",
              "      <td>182.079322</td>\n",
              "      <td>851844.640000</td>\n",
              "      <td>61851.333333</td>\n",
              "      <td>3.000000</td>\n",
              "      <td>1.513959e+06</td>\n",
              "      <td>61851.333333</td>\n",
              "      <td>6.000000</td>\n",
              "      <td>2.567408e+06</td>\n",
              "      <td>61851.333333</td>\n",
              "      <td>12.000000</td>\n",
              "    </tr>\n",
              "  </tbody>\n",
              "</table>\n",
              "</div>\n",
              "      <button class=\"colab-df-convert\" onclick=\"convertToInteractive('df-9cc2e4fb-ed40-4241-9dbf-e8c82bc8af42')\"\n",
              "              title=\"Convert this dataframe to an interactive table.\"\n",
              "              style=\"display:none;\">\n",
              "        \n",
              "  <svg xmlns=\"http://www.w3.org/2000/svg\" height=\"24px\"viewBox=\"0 0 24 24\"\n",
              "       width=\"24px\">\n",
              "    <path d=\"M0 0h24v24H0V0z\" fill=\"none\"/>\n",
              "    <path d=\"M18.56 5.44l.94 2.06.94-2.06 2.06-.94-2.06-.94-.94-2.06-.94 2.06-2.06.94zm-11 1L8.5 8.5l.94-2.06 2.06-.94-2.06-.94L8.5 2.5l-.94 2.06-2.06.94zm10 10l.94 2.06.94-2.06 2.06-.94-2.06-.94-.94-2.06-.94 2.06-2.06.94z\"/><path d=\"M17.41 7.96l-1.37-1.37c-.4-.4-.92-.59-1.43-.59-.52 0-1.04.2-1.43.59L10.3 9.45l-7.72 7.72c-.78.78-.78 2.05 0 2.83L4 21.41c.39.39.9.59 1.41.59.51 0 1.02-.2 1.41-.59l7.78-7.78 2.81-2.81c.8-.78.8-2.07 0-2.86zM5.41 20L4 18.59l7.72-7.72 1.47 1.35L5.41 20z\"/>\n",
              "  </svg>\n",
              "      </button>\n",
              "      \n",
              "  <style>\n",
              "    .colab-df-container {\n",
              "      display:flex;\n",
              "      flex-wrap:wrap;\n",
              "      gap: 12px;\n",
              "    }\n",
              "\n",
              "    .colab-df-convert {\n",
              "      background-color: #E8F0FE;\n",
              "      border: none;\n",
              "      border-radius: 50%;\n",
              "      cursor: pointer;\n",
              "      display: none;\n",
              "      fill: #1967D2;\n",
              "      height: 32px;\n",
              "      padding: 0 0 0 0;\n",
              "      width: 32px;\n",
              "    }\n",
              "\n",
              "    .colab-df-convert:hover {\n",
              "      background-color: #E2EBFA;\n",
              "      box-shadow: 0px 1px 2px rgba(60, 64, 67, 0.3), 0px 1px 3px 1px rgba(60, 64, 67, 0.15);\n",
              "      fill: #174EA6;\n",
              "    }\n",
              "\n",
              "    [theme=dark] .colab-df-convert {\n",
              "      background-color: #3B4455;\n",
              "      fill: #D2E3FC;\n",
              "    }\n",
              "\n",
              "    [theme=dark] .colab-df-convert:hover {\n",
              "      background-color: #434B5C;\n",
              "      box-shadow: 0px 1px 3px 1px rgba(0, 0, 0, 0.15);\n",
              "      filter: drop-shadow(0px 1px 2px rgba(0, 0, 0, 0.3));\n",
              "      fill: #FFFFFF;\n",
              "    }\n",
              "  </style>\n",
              "\n",
              "      <script>\n",
              "        const buttonEl =\n",
              "          document.querySelector('#df-9cc2e4fb-ed40-4241-9dbf-e8c82bc8af42 button.colab-df-convert');\n",
              "        buttonEl.style.display =\n",
              "          google.colab.kernel.accessAllowed ? 'block' : 'none';\n",
              "\n",
              "        async function convertToInteractive(key) {\n",
              "          const element = document.querySelector('#df-9cc2e4fb-ed40-4241-9dbf-e8c82bc8af42');\n",
              "          const dataTable =\n",
              "            await google.colab.kernel.invokeFunction('convertToInteractive',\n",
              "                                                     [key], {});\n",
              "          if (!dataTable) return;\n",
              "\n",
              "          const docLinkHtml = 'Like what you see? Visit the ' +\n",
              "            '<a target=\"_blank\" href=https://colab.research.google.com/notebooks/data_table.ipynb>data table notebook</a>'\n",
              "            + ' to learn more about interactive tables.';\n",
              "          element.innerHTML = '';\n",
              "          dataTable['output_type'] = 'display_data';\n",
              "          await google.colab.output.renderOutput(dataTable, element);\n",
              "          const docLink = document.createElement('div');\n",
              "          docLink.innerHTML = docLinkHtml;\n",
              "          element.appendChild(docLink);\n",
              "        }\n",
              "      </script>\n",
              "    </div>\n",
              "  </div>\n",
              "  "
            ]
          },
          "metadata": {},
          "execution_count": 112
        }
      ],
      "source": [
        "merchant[numeric_cols].describe()"
      ]
    },
    {
      "cell_type": "markdown",
      "metadata": {
        "id": "4381b7d0-0728-4fe7-ab30-72378d767681"
      },
      "source": [
        "至此我们就完成了商户数据的预处理工作。"
      ]
    },
    {
      "cell_type": "markdown",
      "metadata": {
        "id": "a5cb3e0d-b796-4644-85d8-f914e4ea1372"
      },
      "source": [
        "### 二、信用卡交易数据解读与探索"
      ]
    },
    {
      "cell_type": "markdown",
      "metadata": {
        "id": "a91a21ed-24d7-4e27-affb-0411ae210743"
      },
      "source": [
        "&emsp;&emsp;接下来对信用卡交易数据进行解读与探索。交易数据是本次竞赛中给出的规模最大、同时也是信息量最大的数据集，在后续建模过程中将发挥至关重要的作用。"
      ]
    },
    {
      "cell_type": "markdown",
      "metadata": {
        "id": "f3b82897-d95e-44a3-a538-e17e5b114260"
      },
      "source": [
        "#### 1.数据解读与验证"
      ]
    },
    {
      "cell_type": "markdown",
      "metadata": {
        "id": "54391bcd-29b6-4311-9621-6fb5d2c55d1b"
      },
      "source": [
        "&emsp;&emsp;首先还是对数据集进行解释，以及简单验证数据集的正确性。信用卡交易记录包括了两个数据集，分别是historical_transactions和new_merchant_transactions。两个数据集字段类似，只是记录了不同时间区间的信用卡消费情况："
      ]
    },
    {
      "cell_type": "markdown",
      "metadata": {
        "id": "7b68f268-5de7-4bda-8ffd-d012ea06857d"
      },
      "source": [
        "- historical_transactions：信用卡消费记录"
      ]
    },
    {
      "cell_type": "markdown",
      "metadata": {
        "id": "2986fbf7-dad3-4136-bae0-81b9d9e7b666"
      },
      "source": [
        "&emsp;&emsp;该数据集记录了每张信用卡在特定商户中、三个月间的消费记录。该数据集数据规模较大，文件约有2.6G，并非必要建模字段，但若能从中提取有效信息，则能够更好的辅助建模。"
      ]
    },
    {
      "cell_type": "code",
      "execution_count": null,
      "metadata": {
        "id": "b1b67369-8754-4f9f-a9cf-0a7e0e2d6075"
      },
      "outputs": [],
      "source": [
        "history_transaction = pd.read_csv('historical_transactions.csv', header=0)"
      ]
    },
    {
      "cell_type": "code",
      "execution_count": null,
      "metadata": {
        "id": "169907fd-5807-41ff-97ca-fc454d8045d7",
        "outputId": "485a1b17-bb75-483b-d22b-19d926970290",
        "colab": {
          "base_uri": "https://localhost:8080/",
          "height": 357
        }
      },
      "outputs": [
        {
          "output_type": "execute_result",
          "data": {
            "text/plain": [
              "  authorized_flag          card_id  city_id category_1  installments  \\\n",
              "0               Y  C_ID_4e6213e9bc       88          N             0   \n",
              "1               Y  C_ID_4e6213e9bc       88          N             0   \n",
              "2               Y  C_ID_4e6213e9bc       88          N             0   \n",
              "3               Y  C_ID_4e6213e9bc       88          N             0   \n",
              "4               Y  C_ID_4e6213e9bc       88          N             0   \n",
              "\n",
              "  category_3  merchant_category_id      merchant_id  month_lag  \\\n",
              "0          A                    80  M_ID_e020e9b302         -8   \n",
              "1          A                   367  M_ID_86ec983688         -7   \n",
              "2          A                    80  M_ID_979ed661fc         -6   \n",
              "3          A                   560  M_ID_e6d5ae8ea6         -5   \n",
              "4          A                    80  M_ID_e020e9b302        -11   \n",
              "\n",
              "   purchase_amount        purchase_date  category_2  state_id  subsector_id  \n",
              "0        -0.703331  2017-06-25 15:33:07         1.0        16            37  \n",
              "1        -0.733128  2017-07-15 12:10:45         1.0        16            16  \n",
              "2        -0.720386  2017-08-09 22:04:29         1.0        16            37  \n",
              "3        -0.735352  2017-09-02 10:06:26         1.0        16            34  \n",
              "4        -0.722865  2017-03-10 01:14:19         1.0        16            37  "
            ],
            "text/html": [
              "\n",
              "  <div id=\"df-ca4c68f0-467c-433e-b852-1516f2047e0a\">\n",
              "    <div class=\"colab-df-container\">\n",
              "      <div>\n",
              "<style scoped>\n",
              "    .dataframe tbody tr th:only-of-type {\n",
              "        vertical-align: middle;\n",
              "    }\n",
              "\n",
              "    .dataframe tbody tr th {\n",
              "        vertical-align: top;\n",
              "    }\n",
              "\n",
              "    .dataframe thead th {\n",
              "        text-align: right;\n",
              "    }\n",
              "</style>\n",
              "<table border=\"1\" class=\"dataframe\">\n",
              "  <thead>\n",
              "    <tr style=\"text-align: right;\">\n",
              "      <th></th>\n",
              "      <th>authorized_flag</th>\n",
              "      <th>card_id</th>\n",
              "      <th>city_id</th>\n",
              "      <th>category_1</th>\n",
              "      <th>installments</th>\n",
              "      <th>category_3</th>\n",
              "      <th>merchant_category_id</th>\n",
              "      <th>merchant_id</th>\n",
              "      <th>month_lag</th>\n",
              "      <th>purchase_amount</th>\n",
              "      <th>purchase_date</th>\n",
              "      <th>category_2</th>\n",
              "      <th>state_id</th>\n",
              "      <th>subsector_id</th>\n",
              "    </tr>\n",
              "  </thead>\n",
              "  <tbody>\n",
              "    <tr>\n",
              "      <th>0</th>\n",
              "      <td>Y</td>\n",
              "      <td>C_ID_4e6213e9bc</td>\n",
              "      <td>88</td>\n",
              "      <td>N</td>\n",
              "      <td>0</td>\n",
              "      <td>A</td>\n",
              "      <td>80</td>\n",
              "      <td>M_ID_e020e9b302</td>\n",
              "      <td>-8</td>\n",
              "      <td>-0.703331</td>\n",
              "      <td>2017-06-25 15:33:07</td>\n",
              "      <td>1.0</td>\n",
              "      <td>16</td>\n",
              "      <td>37</td>\n",
              "    </tr>\n",
              "    <tr>\n",
              "      <th>1</th>\n",
              "      <td>Y</td>\n",
              "      <td>C_ID_4e6213e9bc</td>\n",
              "      <td>88</td>\n",
              "      <td>N</td>\n",
              "      <td>0</td>\n",
              "      <td>A</td>\n",
              "      <td>367</td>\n",
              "      <td>M_ID_86ec983688</td>\n",
              "      <td>-7</td>\n",
              "      <td>-0.733128</td>\n",
              "      <td>2017-07-15 12:10:45</td>\n",
              "      <td>1.0</td>\n",
              "      <td>16</td>\n",
              "      <td>16</td>\n",
              "    </tr>\n",
              "    <tr>\n",
              "      <th>2</th>\n",
              "      <td>Y</td>\n",
              "      <td>C_ID_4e6213e9bc</td>\n",
              "      <td>88</td>\n",
              "      <td>N</td>\n",
              "      <td>0</td>\n",
              "      <td>A</td>\n",
              "      <td>80</td>\n",
              "      <td>M_ID_979ed661fc</td>\n",
              "      <td>-6</td>\n",
              "      <td>-0.720386</td>\n",
              "      <td>2017-08-09 22:04:29</td>\n",
              "      <td>1.0</td>\n",
              "      <td>16</td>\n",
              "      <td>37</td>\n",
              "    </tr>\n",
              "    <tr>\n",
              "      <th>3</th>\n",
              "      <td>Y</td>\n",
              "      <td>C_ID_4e6213e9bc</td>\n",
              "      <td>88</td>\n",
              "      <td>N</td>\n",
              "      <td>0</td>\n",
              "      <td>A</td>\n",
              "      <td>560</td>\n",
              "      <td>M_ID_e6d5ae8ea6</td>\n",
              "      <td>-5</td>\n",
              "      <td>-0.735352</td>\n",
              "      <td>2017-09-02 10:06:26</td>\n",
              "      <td>1.0</td>\n",
              "      <td>16</td>\n",
              "      <td>34</td>\n",
              "    </tr>\n",
              "    <tr>\n",
              "      <th>4</th>\n",
              "      <td>Y</td>\n",
              "      <td>C_ID_4e6213e9bc</td>\n",
              "      <td>88</td>\n",
              "      <td>N</td>\n",
              "      <td>0</td>\n",
              "      <td>A</td>\n",
              "      <td>80</td>\n",
              "      <td>M_ID_e020e9b302</td>\n",
              "      <td>-11</td>\n",
              "      <td>-0.722865</td>\n",
              "      <td>2017-03-10 01:14:19</td>\n",
              "      <td>1.0</td>\n",
              "      <td>16</td>\n",
              "      <td>37</td>\n",
              "    </tr>\n",
              "  </tbody>\n",
              "</table>\n",
              "</div>\n",
              "      <button class=\"colab-df-convert\" onclick=\"convertToInteractive('df-ca4c68f0-467c-433e-b852-1516f2047e0a')\"\n",
              "              title=\"Convert this dataframe to an interactive table.\"\n",
              "              style=\"display:none;\">\n",
              "        \n",
              "  <svg xmlns=\"http://www.w3.org/2000/svg\" height=\"24px\"viewBox=\"0 0 24 24\"\n",
              "       width=\"24px\">\n",
              "    <path d=\"M0 0h24v24H0V0z\" fill=\"none\"/>\n",
              "    <path d=\"M18.56 5.44l.94 2.06.94-2.06 2.06-.94-2.06-.94-.94-2.06-.94 2.06-2.06.94zm-11 1L8.5 8.5l.94-2.06 2.06-.94-2.06-.94L8.5 2.5l-.94 2.06-2.06.94zm10 10l.94 2.06.94-2.06 2.06-.94-2.06-.94-.94-2.06-.94 2.06-2.06.94z\"/><path d=\"M17.41 7.96l-1.37-1.37c-.4-.4-.92-.59-1.43-.59-.52 0-1.04.2-1.43.59L10.3 9.45l-7.72 7.72c-.78.78-.78 2.05 0 2.83L4 21.41c.39.39.9.59 1.41.59.51 0 1.02-.2 1.41-.59l7.78-7.78 2.81-2.81c.8-.78.8-2.07 0-2.86zM5.41 20L4 18.59l7.72-7.72 1.47 1.35L5.41 20z\"/>\n",
              "  </svg>\n",
              "      </button>\n",
              "      \n",
              "  <style>\n",
              "    .colab-df-container {\n",
              "      display:flex;\n",
              "      flex-wrap:wrap;\n",
              "      gap: 12px;\n",
              "    }\n",
              "\n",
              "    .colab-df-convert {\n",
              "      background-color: #E8F0FE;\n",
              "      border: none;\n",
              "      border-radius: 50%;\n",
              "      cursor: pointer;\n",
              "      display: none;\n",
              "      fill: #1967D2;\n",
              "      height: 32px;\n",
              "      padding: 0 0 0 0;\n",
              "      width: 32px;\n",
              "    }\n",
              "\n",
              "    .colab-df-convert:hover {\n",
              "      background-color: #E2EBFA;\n",
              "      box-shadow: 0px 1px 2px rgba(60, 64, 67, 0.3), 0px 1px 3px 1px rgba(60, 64, 67, 0.15);\n",
              "      fill: #174EA6;\n",
              "    }\n",
              "\n",
              "    [theme=dark] .colab-df-convert {\n",
              "      background-color: #3B4455;\n",
              "      fill: #D2E3FC;\n",
              "    }\n",
              "\n",
              "    [theme=dark] .colab-df-convert:hover {\n",
              "      background-color: #434B5C;\n",
              "      box-shadow: 0px 1px 3px 1px rgba(0, 0, 0, 0.15);\n",
              "      filter: drop-shadow(0px 1px 2px rgba(0, 0, 0, 0.3));\n",
              "      fill: #FFFFFF;\n",
              "    }\n",
              "  </style>\n",
              "\n",
              "      <script>\n",
              "        const buttonEl =\n",
              "          document.querySelector('#df-ca4c68f0-467c-433e-b852-1516f2047e0a button.colab-df-convert');\n",
              "        buttonEl.style.display =\n",
              "          google.colab.kernel.accessAllowed ? 'block' : 'none';\n",
              "\n",
              "        async function convertToInteractive(key) {\n",
              "          const element = document.querySelector('#df-ca4c68f0-467c-433e-b852-1516f2047e0a');\n",
              "          const dataTable =\n",
              "            await google.colab.kernel.invokeFunction('convertToInteractive',\n",
              "                                                     [key], {});\n",
              "          if (!dataTable) return;\n",
              "\n",
              "          const docLinkHtml = 'Like what you see? Visit the ' +\n",
              "            '<a target=\"_blank\" href=https://colab.research.google.com/notebooks/data_table.ipynb>data table notebook</a>'\n",
              "            + ' to learn more about interactive tables.';\n",
              "          element.innerHTML = '';\n",
              "          dataTable['output_type'] = 'display_data';\n",
              "          await google.colab.output.renderOutput(dataTable, element);\n",
              "          const docLink = document.createElement('div');\n",
              "          docLink.innerHTML = docLinkHtml;\n",
              "          element.appendChild(docLink);\n",
              "        }\n",
              "      </script>\n",
              "    </div>\n",
              "  </div>\n",
              "  "
            ]
          },
          "metadata": {},
          "execution_count": 115
        }
      ],
      "source": [
        "history_transaction.head(5)"
      ]
    },
    {
      "cell_type": "code",
      "execution_count": null,
      "metadata": {
        "id": "f6e0dd9f-0758-438b-966a-752f2f647bba",
        "outputId": "38df90c6-e8cb-4bd5-d19d-9d1dbd1bef11",
        "colab": {
          "base_uri": "https://localhost:8080/"
        }
      },
      "outputs": [
        {
          "output_type": "stream",
          "name": "stdout",
          "text": [
            "<class 'pandas.core.frame.DataFrame'>\n",
            "RangeIndex: 29112361 entries, 0 to 29112360\n",
            "Data columns (total 14 columns):\n",
            " #   Column                Dtype  \n",
            "---  ------                -----  \n",
            " 0   authorized_flag       object \n",
            " 1   card_id               object \n",
            " 2   city_id               int64  \n",
            " 3   category_1            object \n",
            " 4   installments          int64  \n",
            " 5   category_3            object \n",
            " 6   merchant_category_id  int64  \n",
            " 7   merchant_id           object \n",
            " 8   month_lag             int64  \n",
            " 9   purchase_amount       float64\n",
            " 10  purchase_date         object \n",
            " 11  category_2            float64\n",
            " 12  state_id              int64  \n",
            " 13  subsector_id          int64  \n",
            "dtypes: float64(2), int64(6), object(6)\n",
            "memory usage: 3.0+ GB\n"
          ]
        }
      ],
      "source": [
        "history_transaction.info()"
      ]
    },
    {
      "cell_type": "markdown",
      "metadata": {
        "id": "38c50118-b7ea-4c6e-8a77-9c586f636e4a"
      },
      "source": [
        "能够看到，数据集总共包括将近三千万条数据，总共有十四个字段，每个字段在数据字典中的解释如下："
      ]
    },
    {
      "cell_type": "code",
      "execution_count": null,
      "metadata": {
        "id": "630ed0b0-8883-4aa3-8731-f1e12b4cc16c",
        "outputId": "d2fe23bd-0118-462b-fcb9-1007f9c716f2",
        "colab": {
          "base_uri": "https://localhost:8080/",
          "height": 488
        }
      },
      "outputs": [
        {
          "output_type": "execute_result",
          "data": {
            "text/plain": [
              "                 Columns                                       Description\n",
              "0                card_id                                   Card identifier\n",
              "1              month_lag                       month lag to reference date\n",
              "2          purchase_date                                     Purchase date\n",
              "3        authorized_flag                     Y' if approved, 'N' if denied\n",
              "4             category_3                               anonymized category\n",
              "5           installments                number of installments of purchase\n",
              "6             category_1                               anonymized category\n",
              "7   merchant_category_id        Merchant category identifier (anonymized )\n",
              "8           subsector_id  Merchant category group identifier (anonymized )\n",
              "9            merchant_id                  Merchant identifier (anonymized)\n",
              "10       purchase_amount                        Normalized purchase amount\n",
              "11               city_id                     City identifier (anonymized )\n",
              "12              state_id                    State identifier (anonymized )\n",
              "13            category_2                               anonymized category"
            ],
            "text/html": [
              "\n",
              "  <div id=\"df-6f1c42d1-5b5a-44ef-a181-b2ad02793eb7\">\n",
              "    <div class=\"colab-df-container\">\n",
              "      <div>\n",
              "<style scoped>\n",
              "    .dataframe tbody tr th:only-of-type {\n",
              "        vertical-align: middle;\n",
              "    }\n",
              "\n",
              "    .dataframe tbody tr th {\n",
              "        vertical-align: top;\n",
              "    }\n",
              "\n",
              "    .dataframe thead th {\n",
              "        text-align: right;\n",
              "    }\n",
              "</style>\n",
              "<table border=\"1\" class=\"dataframe\">\n",
              "  <thead>\n",
              "    <tr style=\"text-align: right;\">\n",
              "      <th></th>\n",
              "      <th>Columns</th>\n",
              "      <th>Description</th>\n",
              "    </tr>\n",
              "  </thead>\n",
              "  <tbody>\n",
              "    <tr>\n",
              "      <th>0</th>\n",
              "      <td>card_id</td>\n",
              "      <td>Card identifier</td>\n",
              "    </tr>\n",
              "    <tr>\n",
              "      <th>1</th>\n",
              "      <td>month_lag</td>\n",
              "      <td>month lag to reference date</td>\n",
              "    </tr>\n",
              "    <tr>\n",
              "      <th>2</th>\n",
              "      <td>purchase_date</td>\n",
              "      <td>Purchase date</td>\n",
              "    </tr>\n",
              "    <tr>\n",
              "      <th>3</th>\n",
              "      <td>authorized_flag</td>\n",
              "      <td>Y' if approved, 'N' if denied</td>\n",
              "    </tr>\n",
              "    <tr>\n",
              "      <th>4</th>\n",
              "      <td>category_3</td>\n",
              "      <td>anonymized category</td>\n",
              "    </tr>\n",
              "    <tr>\n",
              "      <th>5</th>\n",
              "      <td>installments</td>\n",
              "      <td>number of installments of purchase</td>\n",
              "    </tr>\n",
              "    <tr>\n",
              "      <th>6</th>\n",
              "      <td>category_1</td>\n",
              "      <td>anonymized category</td>\n",
              "    </tr>\n",
              "    <tr>\n",
              "      <th>7</th>\n",
              "      <td>merchant_category_id</td>\n",
              "      <td>Merchant category identifier (anonymized )</td>\n",
              "    </tr>\n",
              "    <tr>\n",
              "      <th>8</th>\n",
              "      <td>subsector_id</td>\n",
              "      <td>Merchant category group identifier (anonymized )</td>\n",
              "    </tr>\n",
              "    <tr>\n",
              "      <th>9</th>\n",
              "      <td>merchant_id</td>\n",
              "      <td>Merchant identifier (anonymized)</td>\n",
              "    </tr>\n",
              "    <tr>\n",
              "      <th>10</th>\n",
              "      <td>purchase_amount</td>\n",
              "      <td>Normalized purchase amount</td>\n",
              "    </tr>\n",
              "    <tr>\n",
              "      <th>11</th>\n",
              "      <td>city_id</td>\n",
              "      <td>City identifier (anonymized )</td>\n",
              "    </tr>\n",
              "    <tr>\n",
              "      <th>12</th>\n",
              "      <td>state_id</td>\n",
              "      <td>State identifier (anonymized )</td>\n",
              "    </tr>\n",
              "    <tr>\n",
              "      <th>13</th>\n",
              "      <td>category_2</td>\n",
              "      <td>anonymized category</td>\n",
              "    </tr>\n",
              "  </tbody>\n",
              "</table>\n",
              "</div>\n",
              "      <button class=\"colab-df-convert\" onclick=\"convertToInteractive('df-6f1c42d1-5b5a-44ef-a181-b2ad02793eb7')\"\n",
              "              title=\"Convert this dataframe to an interactive table.\"\n",
              "              style=\"display:none;\">\n",
              "        \n",
              "  <svg xmlns=\"http://www.w3.org/2000/svg\" height=\"24px\"viewBox=\"0 0 24 24\"\n",
              "       width=\"24px\">\n",
              "    <path d=\"M0 0h24v24H0V0z\" fill=\"none\"/>\n",
              "    <path d=\"M18.56 5.44l.94 2.06.94-2.06 2.06-.94-2.06-.94-.94-2.06-.94 2.06-2.06.94zm-11 1L8.5 8.5l.94-2.06 2.06-.94-2.06-.94L8.5 2.5l-.94 2.06-2.06.94zm10 10l.94 2.06.94-2.06 2.06-.94-2.06-.94-.94-2.06-.94 2.06-2.06.94z\"/><path d=\"M17.41 7.96l-1.37-1.37c-.4-.4-.92-.59-1.43-.59-.52 0-1.04.2-1.43.59L10.3 9.45l-7.72 7.72c-.78.78-.78 2.05 0 2.83L4 21.41c.39.39.9.59 1.41.59.51 0 1.02-.2 1.41-.59l7.78-7.78 2.81-2.81c.8-.78.8-2.07 0-2.86zM5.41 20L4 18.59l7.72-7.72 1.47 1.35L5.41 20z\"/>\n",
              "  </svg>\n",
              "      </button>\n",
              "      \n",
              "  <style>\n",
              "    .colab-df-container {\n",
              "      display:flex;\n",
              "      flex-wrap:wrap;\n",
              "      gap: 12px;\n",
              "    }\n",
              "\n",
              "    .colab-df-convert {\n",
              "      background-color: #E8F0FE;\n",
              "      border: none;\n",
              "      border-radius: 50%;\n",
              "      cursor: pointer;\n",
              "      display: none;\n",
              "      fill: #1967D2;\n",
              "      height: 32px;\n",
              "      padding: 0 0 0 0;\n",
              "      width: 32px;\n",
              "    }\n",
              "\n",
              "    .colab-df-convert:hover {\n",
              "      background-color: #E2EBFA;\n",
              "      box-shadow: 0px 1px 2px rgba(60, 64, 67, 0.3), 0px 1px 3px 1px rgba(60, 64, 67, 0.15);\n",
              "      fill: #174EA6;\n",
              "    }\n",
              "\n",
              "    [theme=dark] .colab-df-convert {\n",
              "      background-color: #3B4455;\n",
              "      fill: #D2E3FC;\n",
              "    }\n",
              "\n",
              "    [theme=dark] .colab-df-convert:hover {\n",
              "      background-color: #434B5C;\n",
              "      box-shadow: 0px 1px 3px 1px rgba(0, 0, 0, 0.15);\n",
              "      filter: drop-shadow(0px 1px 2px rgba(0, 0, 0, 0.3));\n",
              "      fill: #FFFFFF;\n",
              "    }\n",
              "  </style>\n",
              "\n",
              "      <script>\n",
              "        const buttonEl =\n",
              "          document.querySelector('#df-6f1c42d1-5b5a-44ef-a181-b2ad02793eb7 button.colab-df-convert');\n",
              "        buttonEl.style.display =\n",
              "          google.colab.kernel.accessAllowed ? 'block' : 'none';\n",
              "\n",
              "        async function convertToInteractive(key) {\n",
              "          const element = document.querySelector('#df-6f1c42d1-5b5a-44ef-a181-b2ad02793eb7');\n",
              "          const dataTable =\n",
              "            await google.colab.kernel.invokeFunction('convertToInteractive',\n",
              "                                                     [key], {});\n",
              "          if (!dataTable) return;\n",
              "\n",
              "          const docLinkHtml = 'Like what you see? Visit the ' +\n",
              "            '<a target=\"_blank\" href=https://colab.research.google.com/notebooks/data_table.ipynb>data table notebook</a>'\n",
              "            + ' to learn more about interactive tables.';\n",
              "          element.innerHTML = '';\n",
              "          dataTable['output_type'] = 'display_data';\n",
              "          await google.colab.output.renderOutput(dataTable, element);\n",
              "          const docLink = document.createElement('div');\n",
              "          docLink.innerHTML = docLinkHtml;\n",
              "          element.appendChild(docLink);\n",
              "        }\n",
              "      </script>\n",
              "    </div>\n",
              "  </div>\n",
              "  "
            ]
          },
          "metadata": {},
          "execution_count": 117
        }
      ],
      "source": [
        "pd.read_excel('Data Dictionary.xlsx', header=2, sheet_name='history')"
      ]
    },
    {
      "cell_type": "markdown",
      "metadata": {
        "id": "0e2375a4-49b4-4a57-8aeb-d3bcaa40c0ed"
      },
      "source": [
        "实际含义如下："
      ]
    },
    {
      "cell_type": "markdown",
      "metadata": {
        "id": "fd53f4cc-fcaf-41f6-afa4-4b02da9ca94b"
      },
      "source": [
        "| 字段 | 解释 |\n",
        "| ------ | ------ |\n",
        "| card_id | 第一无二的信用卡标志 |\n",
        "| authorized_flag | 是否授权，Y/N |\n",
        "| city_id | 城市id，经过匿名处理 |\n",
        "| category_1 | 匿名特征，Y/N |\n",
        "| installments | 分期付款的次数 |\n",
        "| category_3 | 匿名类别特征，A/.../E |\n",
        "| merchant_category_id | 商户类别，匿名特征 |\n",
        "| merchant_id | 商户id |\n",
        "| month_lag\t | 距离2018年月的2月数差 |\n",
        "| purchase_amount | 标准化后的付款金额 |\n",
        "| purchase_date | 付款时间 |\n",
        "| category_2 | 匿名类别特征2 |\n",
        "| state_id | 州id，经过匿名处理 |\n",
        "| subsector_id | 商户类别特征 |"
      ]
    },
    {
      "cell_type": "markdown",
      "metadata": {
        "id": "13ad3f9a-6a70-472b-8092-3e28059b46af"
      },
      "source": [
        "- new_merchant_transactions：信用卡近期的交易信息"
      ]
    },
    {
      "cell_type": "markdown",
      "metadata": {
        "id": "207f7dca-2b5e-4575-8b86-03707d76e24c"
      },
      "source": [
        "&emsp;&emsp;信用卡在2018年2月之后的交易信息，和historical_transactions字段完全一致。"
      ]
    },
    {
      "cell_type": "code",
      "execution_count": null,
      "metadata": {
        "id": "4c93515f-0354-4ebb-b539-8c5b096611ed"
      },
      "outputs": [],
      "source": [
        "new_transaction = pd.read_csv('new_merchant_transactions.csv', header=0)"
      ]
    },
    {
      "cell_type": "code",
      "execution_count": null,
      "metadata": {
        "id": "7a734954-8240-4c2a-9376-c6196df5c4c6",
        "outputId": "68c0060a-203a-42ca-a86a-52087f3bb883",
        "colab": {
          "base_uri": "https://localhost:8080/",
          "height": 357
        }
      },
      "outputs": [
        {
          "output_type": "execute_result",
          "data": {
            "text/plain": [
              "  authorized_flag          card_id  city_id category_1  installments  \\\n",
              "0               Y  C_ID_415bb3a509      107          N             1   \n",
              "1               Y  C_ID_415bb3a509      140          N             1   \n",
              "2               Y  C_ID_415bb3a509      330          N             1   \n",
              "3               Y  C_ID_415bb3a509       -1          Y             1   \n",
              "4               Y  C_ID_ef55cf8d4b       -1          Y             1   \n",
              "\n",
              "  category_3  merchant_category_id      merchant_id  month_lag  \\\n",
              "0          B                   307  M_ID_b0c793002c          1   \n",
              "1          B                   307  M_ID_88920c89e8          1   \n",
              "2          B                   507  M_ID_ad5237ef6b          2   \n",
              "3          B                   661  M_ID_9e84cda3b1          1   \n",
              "4          B                   166  M_ID_3c86fa3831          1   \n",
              "\n",
              "   purchase_amount        purchase_date  category_2  state_id  subsector_id  \n",
              "0        -0.557574  2018-03-11 14:57:36         1.0         9            19  \n",
              "1        -0.569580  2018-03-19 18:53:37         1.0         9            19  \n",
              "2        -0.551037  2018-04-26 14:08:44         1.0         9            14  \n",
              "3        -0.671925  2018-03-07 09:43:21         NaN        -1             8  \n",
              "4        -0.659904  2018-03-22 21:07:53         NaN        -1            29  "
            ],
            "text/html": [
              "\n",
              "  <div id=\"df-226f646e-0138-4412-97cc-b0ba377b3d2b\">\n",
              "    <div class=\"colab-df-container\">\n",
              "      <div>\n",
              "<style scoped>\n",
              "    .dataframe tbody tr th:only-of-type {\n",
              "        vertical-align: middle;\n",
              "    }\n",
              "\n",
              "    .dataframe tbody tr th {\n",
              "        vertical-align: top;\n",
              "    }\n",
              "\n",
              "    .dataframe thead th {\n",
              "        text-align: right;\n",
              "    }\n",
              "</style>\n",
              "<table border=\"1\" class=\"dataframe\">\n",
              "  <thead>\n",
              "    <tr style=\"text-align: right;\">\n",
              "      <th></th>\n",
              "      <th>authorized_flag</th>\n",
              "      <th>card_id</th>\n",
              "      <th>city_id</th>\n",
              "      <th>category_1</th>\n",
              "      <th>installments</th>\n",
              "      <th>category_3</th>\n",
              "      <th>merchant_category_id</th>\n",
              "      <th>merchant_id</th>\n",
              "      <th>month_lag</th>\n",
              "      <th>purchase_amount</th>\n",
              "      <th>purchase_date</th>\n",
              "      <th>category_2</th>\n",
              "      <th>state_id</th>\n",
              "      <th>subsector_id</th>\n",
              "    </tr>\n",
              "  </thead>\n",
              "  <tbody>\n",
              "    <tr>\n",
              "      <th>0</th>\n",
              "      <td>Y</td>\n",
              "      <td>C_ID_415bb3a509</td>\n",
              "      <td>107</td>\n",
              "      <td>N</td>\n",
              "      <td>1</td>\n",
              "      <td>B</td>\n",
              "      <td>307</td>\n",
              "      <td>M_ID_b0c793002c</td>\n",
              "      <td>1</td>\n",
              "      <td>-0.557574</td>\n",
              "      <td>2018-03-11 14:57:36</td>\n",
              "      <td>1.0</td>\n",
              "      <td>9</td>\n",
              "      <td>19</td>\n",
              "    </tr>\n",
              "    <tr>\n",
              "      <th>1</th>\n",
              "      <td>Y</td>\n",
              "      <td>C_ID_415bb3a509</td>\n",
              "      <td>140</td>\n",
              "      <td>N</td>\n",
              "      <td>1</td>\n",
              "      <td>B</td>\n",
              "      <td>307</td>\n",
              "      <td>M_ID_88920c89e8</td>\n",
              "      <td>1</td>\n",
              "      <td>-0.569580</td>\n",
              "      <td>2018-03-19 18:53:37</td>\n",
              "      <td>1.0</td>\n",
              "      <td>9</td>\n",
              "      <td>19</td>\n",
              "    </tr>\n",
              "    <tr>\n",
              "      <th>2</th>\n",
              "      <td>Y</td>\n",
              "      <td>C_ID_415bb3a509</td>\n",
              "      <td>330</td>\n",
              "      <td>N</td>\n",
              "      <td>1</td>\n",
              "      <td>B</td>\n",
              "      <td>507</td>\n",
              "      <td>M_ID_ad5237ef6b</td>\n",
              "      <td>2</td>\n",
              "      <td>-0.551037</td>\n",
              "      <td>2018-04-26 14:08:44</td>\n",
              "      <td>1.0</td>\n",
              "      <td>9</td>\n",
              "      <td>14</td>\n",
              "    </tr>\n",
              "    <tr>\n",
              "      <th>3</th>\n",
              "      <td>Y</td>\n",
              "      <td>C_ID_415bb3a509</td>\n",
              "      <td>-1</td>\n",
              "      <td>Y</td>\n",
              "      <td>1</td>\n",
              "      <td>B</td>\n",
              "      <td>661</td>\n",
              "      <td>M_ID_9e84cda3b1</td>\n",
              "      <td>1</td>\n",
              "      <td>-0.671925</td>\n",
              "      <td>2018-03-07 09:43:21</td>\n",
              "      <td>NaN</td>\n",
              "      <td>-1</td>\n",
              "      <td>8</td>\n",
              "    </tr>\n",
              "    <tr>\n",
              "      <th>4</th>\n",
              "      <td>Y</td>\n",
              "      <td>C_ID_ef55cf8d4b</td>\n",
              "      <td>-1</td>\n",
              "      <td>Y</td>\n",
              "      <td>1</td>\n",
              "      <td>B</td>\n",
              "      <td>166</td>\n",
              "      <td>M_ID_3c86fa3831</td>\n",
              "      <td>1</td>\n",
              "      <td>-0.659904</td>\n",
              "      <td>2018-03-22 21:07:53</td>\n",
              "      <td>NaN</td>\n",
              "      <td>-1</td>\n",
              "      <td>29</td>\n",
              "    </tr>\n",
              "  </tbody>\n",
              "</table>\n",
              "</div>\n",
              "      <button class=\"colab-df-convert\" onclick=\"convertToInteractive('df-226f646e-0138-4412-97cc-b0ba377b3d2b')\"\n",
              "              title=\"Convert this dataframe to an interactive table.\"\n",
              "              style=\"display:none;\">\n",
              "        \n",
              "  <svg xmlns=\"http://www.w3.org/2000/svg\" height=\"24px\"viewBox=\"0 0 24 24\"\n",
              "       width=\"24px\">\n",
              "    <path d=\"M0 0h24v24H0V0z\" fill=\"none\"/>\n",
              "    <path d=\"M18.56 5.44l.94 2.06.94-2.06 2.06-.94-2.06-.94-.94-2.06-.94 2.06-2.06.94zm-11 1L8.5 8.5l.94-2.06 2.06-.94-2.06-.94L8.5 2.5l-.94 2.06-2.06.94zm10 10l.94 2.06.94-2.06 2.06-.94-2.06-.94-.94-2.06-.94 2.06-2.06.94z\"/><path d=\"M17.41 7.96l-1.37-1.37c-.4-.4-.92-.59-1.43-.59-.52 0-1.04.2-1.43.59L10.3 9.45l-7.72 7.72c-.78.78-.78 2.05 0 2.83L4 21.41c.39.39.9.59 1.41.59.51 0 1.02-.2 1.41-.59l7.78-7.78 2.81-2.81c.8-.78.8-2.07 0-2.86zM5.41 20L4 18.59l7.72-7.72 1.47 1.35L5.41 20z\"/>\n",
              "  </svg>\n",
              "      </button>\n",
              "      \n",
              "  <style>\n",
              "    .colab-df-container {\n",
              "      display:flex;\n",
              "      flex-wrap:wrap;\n",
              "      gap: 12px;\n",
              "    }\n",
              "\n",
              "    .colab-df-convert {\n",
              "      background-color: #E8F0FE;\n",
              "      border: none;\n",
              "      border-radius: 50%;\n",
              "      cursor: pointer;\n",
              "      display: none;\n",
              "      fill: #1967D2;\n",
              "      height: 32px;\n",
              "      padding: 0 0 0 0;\n",
              "      width: 32px;\n",
              "    }\n",
              "\n",
              "    .colab-df-convert:hover {\n",
              "      background-color: #E2EBFA;\n",
              "      box-shadow: 0px 1px 2px rgba(60, 64, 67, 0.3), 0px 1px 3px 1px rgba(60, 64, 67, 0.15);\n",
              "      fill: #174EA6;\n",
              "    }\n",
              "\n",
              "    [theme=dark] .colab-df-convert {\n",
              "      background-color: #3B4455;\n",
              "      fill: #D2E3FC;\n",
              "    }\n",
              "\n",
              "    [theme=dark] .colab-df-convert:hover {\n",
              "      background-color: #434B5C;\n",
              "      box-shadow: 0px 1px 3px 1px rgba(0, 0, 0, 0.15);\n",
              "      filter: drop-shadow(0px 1px 2px rgba(0, 0, 0, 0.3));\n",
              "      fill: #FFFFFF;\n",
              "    }\n",
              "  </style>\n",
              "\n",
              "      <script>\n",
              "        const buttonEl =\n",
              "          document.querySelector('#df-226f646e-0138-4412-97cc-b0ba377b3d2b button.colab-df-convert');\n",
              "        buttonEl.style.display =\n",
              "          google.colab.kernel.accessAllowed ? 'block' : 'none';\n",
              "\n",
              "        async function convertToInteractive(key) {\n",
              "          const element = document.querySelector('#df-226f646e-0138-4412-97cc-b0ba377b3d2b');\n",
              "          const dataTable =\n",
              "            await google.colab.kernel.invokeFunction('convertToInteractive',\n",
              "                                                     [key], {});\n",
              "          if (!dataTable) return;\n",
              "\n",
              "          const docLinkHtml = 'Like what you see? Visit the ' +\n",
              "            '<a target=\"_blank\" href=https://colab.research.google.com/notebooks/data_table.ipynb>data table notebook</a>'\n",
              "            + ' to learn more about interactive tables.';\n",
              "          element.innerHTML = '';\n",
              "          dataTable['output_type'] = 'display_data';\n",
              "          await google.colab.output.renderOutput(dataTable, element);\n",
              "          const docLink = document.createElement('div');\n",
              "          docLink.innerHTML = docLinkHtml;\n",
              "          element.appendChild(docLink);\n",
              "        }\n",
              "      </script>\n",
              "    </div>\n",
              "  </div>\n",
              "  "
            ]
          },
          "metadata": {},
          "execution_count": 119
        }
      ],
      "source": [
        "new_transaction.head(5)"
      ]
    },
    {
      "cell_type": "code",
      "execution_count": null,
      "metadata": {
        "id": "6b406e55-0afa-40a4-b12c-f0f62bc17252",
        "outputId": "18c20407-36d9-4b67-a7e8-4d1b63fe2232",
        "colab": {
          "base_uri": "https://localhost:8080/"
        }
      },
      "outputs": [
        {
          "output_type": "stream",
          "name": "stdout",
          "text": [
            "<class 'pandas.core.frame.DataFrame'>\n",
            "RangeIndex: 1963031 entries, 0 to 1963030\n",
            "Data columns (total 14 columns):\n",
            " #   Column                Dtype  \n",
            "---  ------                -----  \n",
            " 0   authorized_flag       object \n",
            " 1   card_id               object \n",
            " 2   city_id               int64  \n",
            " 3   category_1            object \n",
            " 4   installments          int64  \n",
            " 5   category_3            object \n",
            " 6   merchant_category_id  int64  \n",
            " 7   merchant_id           object \n",
            " 8   month_lag             int64  \n",
            " 9   purchase_amount       float64\n",
            " 10  purchase_date         object \n",
            " 11  category_2            float64\n",
            " 12  state_id              int64  \n",
            " 13  subsector_id          int64  \n",
            "dtypes: float64(2), int64(6), object(6)\n",
            "memory usage: 209.7+ MB\n"
          ]
        }
      ],
      "source": [
        "pd.read_csv('new_merchant_transactions.csv', header=0).info()"
      ]
    },
    {
      "cell_type": "markdown",
      "metadata": {
        "id": "68dc55d9-6abe-40c7-b26c-1fa2572d27cd"
      },
      "source": [
        "该数据中总共有将近200万条数据。并且我们发现，该数据集中有较多字段和商家数据merchant重复，我们可以对其进行简单检验。"
      ]
    },
    {
      "cell_type": "markdown",
      "metadata": {
        "id": "b9dc4c1e-63b2-4933-ac8d-86d02854166f"
      },
      "source": [
        "- 对比merchant数据集"
      ]
    },
    {
      "cell_type": "markdown",
      "metadata": {
        "id": "3f4de92c-0905-4427-8745-d4b3a21f22df"
      },
      "source": [
        "首先简单查看有哪些字段一致："
      ]
    },
    {
      "cell_type": "code",
      "execution_count": null,
      "metadata": {
        "id": "b55c9326-f6bf-475d-a0dc-da162a40bc19",
        "outputId": "827bc636-c90f-4e54-dc93-a411163ec195",
        "colab": {
          "base_uri": "https://localhost:8080/"
        }
      },
      "outputs": [
        {
          "output_type": "stream",
          "name": "stdout",
          "text": [
            "['merchant_id', 'merchant_category_id', 'subsector_id', 'category_1', 'city_id', 'state_id', 'category_2']\n"
          ]
        }
      ],
      "source": [
        "duplicate_cols = []\n",
        "\n",
        "for col in merchant.columns:\n",
        "    if col in new_transaction.columns:\n",
        "        duplicate_cols.append(col)\n",
        "        \n",
        "print(duplicate_cols)"
      ]
    },
    {
      "cell_type": "markdown",
      "metadata": {
        "id": "a48b87b5-bb57-4535-b348-30c7fd1ca4d9"
      },
      "source": [
        "并且我们进一步发现，交易记录中的merhcant_id信息并不唯一："
      ]
    },
    {
      "cell_type": "code",
      "execution_count": null,
      "metadata": {
        "id": "06d08ae1-fcd5-4089-8b1b-ef193d7ea190",
        "outputId": "27f1de50-c99a-4202-dde3-87a0d58f84c8",
        "colab": {
          "base_uri": "https://localhost:8080/"
        }
      },
      "outputs": [
        {
          "output_type": "execute_result",
          "data": {
            "text/plain": [
              "(291242, 7)"
            ]
          },
          "metadata": {},
          "execution_count": 122
        }
      ],
      "source": [
        "# 取出和商户数据表重复字段并去重\n",
        "new_transaction[duplicate_cols].drop_duplicates().shape"
      ]
    },
    {
      "cell_type": "code",
      "execution_count": null,
      "metadata": {
        "id": "4a8bd2f6-4025-4d2a-b198-0f51b9a79a29",
        "outputId": "f1d1aaf8-3bcd-4891-fe38-816a4db05779",
        "colab": {
          "base_uri": "https://localhost:8080/"
        }
      },
      "outputs": [
        {
          "output_type": "execute_result",
          "data": {
            "text/plain": [
              "226129"
            ]
          },
          "metadata": {},
          "execution_count": 123
        }
      ],
      "source": [
        "# 商户id去重\n",
        "new_transaction['merchant_id'].nunique()"
      ]
    },
    {
      "cell_type": "markdown",
      "metadata": {
        "id": "66ea20dd-a609-436c-8282-c3a2d29babaa"
      },
      "source": [
        "造成该现象的原因可能是商铺在逐渐经营过程动态变化，而基于此，在后续的建模过程中，我们将优先使用交易记录中表中的相应记录。"
      ]
    },
    {
      "cell_type": "markdown",
      "metadata": {
        "id": "194403aa-27e6-4076-9f52-73bd53e8c6d1"
      },
      "source": [
        "#### 2.数据预处理"
      ]
    },
    {
      "cell_type": "markdown",
      "metadata": {
        "id": "6598041c-9fbe-4339-b017-f0702db221a8"
      },
      "source": [
        "&emsp;&emsp;接下来对交易数据进行预处理。"
      ]
    },
    {
      "cell_type": "markdown",
      "metadata": {
        "id": "1056bda5-9a80-41b0-872e-45810d19d6eb"
      },
      "source": [
        "- 连续/离散字段标注"
      ]
    },
    {
      "cell_type": "markdown",
      "metadata": {
        "id": "4b192864-ca97-4bc8-a7ee-15fc8410515e"
      },
      "source": [
        "&emsp;&emsp;首先也是一样，需要对其连续/离散变量进行标注。当然该数据集中比较特殊的一点，是存在一个时间列，我们将其单独归为一类："
      ]
    },
    {
      "cell_type": "code",
      "execution_count": null,
      "metadata": {
        "id": "12350f17-5e1d-4de9-bcd8-1ac1b26b4b99"
      },
      "outputs": [],
      "source": [
        "numeric_cols = ['installments', 'month_lag', 'purchase_amount']\n",
        "category_cols = ['authorized_flag', 'card_id', 'city_id', 'category_1',\n",
        "       'category_3', 'merchant_category_id', 'merchant_id', 'category_2', 'state_id',\n",
        "       'subsector_id']\n",
        "time_cols = ['purchase_date']\n",
        "\n",
        "assert len(numeric_cols) + len(category_cols) + len(time_cols) == new_transaction.shape[1]"
      ]
    },
    {
      "cell_type": "markdown",
      "metadata": {
        "id": "4686c7f1-1b60-4670-91c4-bbdc7175ed54"
      },
      "source": [
        "- 字段类型转化/缺失值填补"
      ]
    },
    {
      "cell_type": "markdown",
      "metadata": {
        "id": "4ad882e0-c35c-4873-bbed-ee41a9210e6c"
      },
      "source": [
        "&emsp;&emsp;然后简单查看离散变量当前数据情况："
      ]
    },
    {
      "cell_type": "code",
      "execution_count": null,
      "metadata": {
        "id": "b94a2bfe-7291-474a-bd92-a060aa669e11",
        "outputId": "874cbcda-7d3b-46cd-c66e-5acd17dcaa24",
        "colab": {
          "base_uri": "https://localhost:8080/"
        }
      },
      "outputs": [
        {
          "output_type": "execute_result",
          "data": {
            "text/plain": [
              "authorized_flag          object\n",
              "card_id                  object\n",
              "city_id                   int64\n",
              "category_1               object\n",
              "category_3               object\n",
              "merchant_category_id      int64\n",
              "merchant_id              object\n",
              "category_2              float64\n",
              "state_id                  int64\n",
              "subsector_id              int64\n",
              "dtype: object"
            ]
          },
          "metadata": {},
          "execution_count": 125
        }
      ],
      "source": [
        "# 查看分类变量的类别\n",
        "new_transaction[category_cols].dtypes"
      ]
    },
    {
      "cell_type": "code",
      "execution_count": null,
      "metadata": {
        "id": "6ca58296-24b5-4af3-a735-63671aa3bc0d",
        "outputId": "d45f3828-61af-4228-c225-c368b5eff16a",
        "colab": {
          "base_uri": "https://localhost:8080/"
        }
      },
      "outputs": [
        {
          "output_type": "execute_result",
          "data": {
            "text/plain": [
              "authorized_flag              0\n",
              "card_id                      0\n",
              "city_id                      0\n",
              "category_1                   0\n",
              "category_3               55922\n",
              "merchant_category_id         0\n",
              "merchant_id              26216\n",
              "category_2              111745\n",
              "state_id                     0\n",
              "subsector_id                 0\n",
              "dtype: int64"
            ]
          },
          "metadata": {},
          "execution_count": 126
        }
      ],
      "source": [
        "new_transaction[category_cols].isnull().sum()"
      ]
    },
    {
      "cell_type": "markdown",
      "metadata": {
        "id": "b506873e-ee11-44e3-9fcc-c85d20537495"
      },
      "source": [
        "和此前的merchant处理类似，我们对其object类型对象进行字典编码（id除外），并对利用-1对缺失值进行填补："
      ]
    },
    {
      "cell_type": "code",
      "execution_count": null,
      "metadata": {
        "id": "1d8e1730-3fdb-4d19-a37b-7afbede5e7c3"
      },
      "outputs": [],
      "source": [
        "for col in ['authorized_flag', 'category_1', 'category_3']:\n",
        "    new_transaction[col] = change_object_cols(new_transaction[col].fillna(-1).astype(str))\n",
        "    \n",
        "new_transaction[category_cols] = new_transaction[category_cols].fillna(-1)"
      ]
    },
    {
      "cell_type": "code",
      "execution_count": null,
      "metadata": {
        "id": "d819f2ba-4ebe-4b25-ac32-f6ec741d89fb",
        "outputId": "bf491555-1b24-4d47-d8cf-dd22658116ba",
        "colab": {
          "base_uri": "https://localhost:8080/"
        }
      },
      "outputs": [
        {
          "output_type": "execute_result",
          "data": {
            "text/plain": [
              "authorized_flag           int64\n",
              "card_id                  object\n",
              "city_id                   int64\n",
              "category_1                int64\n",
              "category_3                int64\n",
              "merchant_category_id      int64\n",
              "merchant_id              object\n",
              "category_2              float64\n",
              "state_id                  int64\n",
              "subsector_id              int64\n",
              "dtype: object"
            ]
          },
          "metadata": {},
          "execution_count": 128
        }
      ],
      "source": [
        "new_transaction[category_cols].dtypes"
      ]
    },
    {
      "cell_type": "markdown",
      "metadata": {
        "id": "79e0ac3a-8a64-432c-9d1c-91589ae98243"
      },
      "source": [
        "&emsp;&emsp;至此，我们就完成了几张表的数据预处理工作。"
      ]
    },
    {
      "cell_type": "markdown",
      "metadata": {
        "id": "d9f5c8de-4b1b-4138-b82c-20dfe93a5472"
      },
      "source": [
        "### 三、数据清洗后数据生成"
      ]
    },
    {
      "cell_type": "markdown",
      "metadata": {
        "id": "2d113a0e-fa0f-4ce2-a525-294dd620164a"
      },
      "source": [
        "#### 1.回顾商户数据、交易数据清洗流程"
      ]
    },
    {
      "cell_type": "markdown",
      "metadata": {
        "id": "56c53e08-5dde-45dd-a28e-9c3675f9ea54"
      },
      "source": [
        "&emsp;&emsp;当然，由于上述工作较为繁琐，我们简单总结上述针对商户数据和交易数据的完整步骤如下："
      ]
    },
    {
      "cell_type": "markdown",
      "metadata": {
        "id": "ed0b385c-1883-402a-998c-5b51f1b0af3f"
      },
      "source": [
        "#### 商户数据merchants.csv"
      ]
    },
    {
      "cell_type": "markdown",
      "metadata": {
        "id": "38d6d25c-17c4-4450-8139-47ea016086f9"
      },
      "source": [
        "- 划分连续字段和离散字段；      \n",
        "- 对字符型离散字段进行字典排序编码；      \n",
        "- 对缺失值处理，此处统一使用-1进行缺失值填充，本质上是一种标注；      \n",
        "- 对连续性字段的无穷值进行处理，用该列的最大值进行替换；       \n",
        "- 去除重复数据；"
      ]
    },
    {
      "cell_type": "markdown",
      "metadata": {
        "id": "d4b91081-04f9-4c94-aa5c-13af667b253c"
      },
      "source": [
        "#### 交易数据new_merchant_transactions.csv和historical_transactions.csv"
      ]
    },
    {
      "cell_type": "markdown",
      "metadata": {
        "id": "433ef592-e48f-4b82-b3a3-5fe4413f3a61"
      },
      "source": [
        "- 划分字段类型，分为离散字段、连续字段和时间字段；      \n",
        "- 和商户数据的处理方法一样，对字符型离散字段进行字典排序，对缺失值进行统一填充；      \n",
        "- 对新生成的购买欲分离散字段进行字典排序编码；      \n",
        "- 最后对多表进行拼接，并且通过month_lag字段是否大于0来进行区分。"
      ]
    },
    {
      "cell_type": "markdown",
      "metadata": {
        "id": "56caef7d-3c5a-4f13-99dc-5fe9979f37c2"
      },
      "source": [
        "#### 2.创建清洗后数据"
      ]
    },
    {
      "cell_type": "markdown",
      "metadata": {
        "id": "f8451956-7518-46a6-9213-b8032c57e872"
      },
      "source": [
        "&emsp;&emsp;结合训练集和测试集的清洗流程，我们可以在此统一执行所有数据的数据清洗工作，并将其最终保存为本地文件，方便后续特征工程及算法建模过程使用，其流程如下："
      ]
    },
    {
      "cell_type": "markdown",
      "metadata": {
        "id": "22f79e1b-69e7-420d-b543-52e94fae66ec"
      },
      "source": [
        "- 读取数据"
      ]
    },
    {
      "cell_type": "code",
      "execution_count": 136,
      "metadata": {
        "id": "5a8444ba-aa1d-4e9a-a769-c608bccfd1f5"
      },
      "outputs": [],
      "source": [
        "import gc\n",
        "import time\n",
        "import numpy as np\n",
        "import pandas as pd\n",
        "from datetime import datetime"
      ]
    },
    {
      "cell_type": "code",
      "execution_count": 137,
      "metadata": {
        "id": "33a7cd99-1668-48c2-8b74-f98a26e5fa8e"
      },
      "outputs": [],
      "source": [
        "train = pd.read_csv('train.csv')\n",
        "test =  pd.read_csv('test.csv')\n",
        "merchant = pd.read_csv('merchants.csv')\n",
        "new_transaction = pd.read_csv('new_merchant_transactions.csv')\n",
        "history_transaction = pd.read_csv('historical_transactions.csv')"
      ]
    },
    {
      "cell_type": "code",
      "execution_count": 138,
      "metadata": {
        "id": "f2656797-991c-4b72-a1c3-712b63af49e8"
      },
      "outputs": [],
      "source": [
        "# 字典编码函数\n",
        "def change_object_cols(se):\n",
        "    value = se.unique().tolist()\n",
        "    value.sort()\n",
        "    return se.map(pd.Series(range(len(value)), index=value)).values"
      ]
    },
    {
      "cell_type": "markdown",
      "metadata": {
        "id": "2efbd0dd-5ad7-4945-bd0f-e9177da06f1d"
      },
      "source": [
        "- 训练集/测试集的数据预处理"
      ]
    },
    {
      "cell_type": "code",
      "execution_count": 139,
      "metadata": {
        "id": "2763fce5-0c56-457d-872b-80c1e117f231"
      },
      "outputs": [],
      "source": [
        "# 对首次活跃月份进行编码\n",
        "se_map = change_object_cols(train['first_active_month'].append(test['first_active_month']).astype(str))\n",
        "train['first_active_month'] = se_map[:train.shape[0]]\n",
        "test['first_active_month'] = se_map[train.shape[0]:]"
      ]
    },
    {
      "cell_type": "markdown",
      "metadata": {
        "id": "5da53d7a-4165-41a9-8e0c-66b13d611540"
      },
      "source": [
        "- 测试集/训练集导出与内存清理"
      ]
    },
    {
      "cell_type": "code",
      "execution_count": 144,
      "metadata": {
        "id": "fcf596a0-e5a2-4cea-96f1-bbb2a75690f9"
      },
      "outputs": [],
      "source": [
        "train.to_csv(\"preprocess/train_pre.csv\", index=False)\n",
        "test.to_csv(\"preprocess/test_pre.csv\", index=False)"
      ]
    },
    {
      "cell_type": "code",
      "execution_count": 145,
      "metadata": {
        "id": "c37564b1-d77e-4799-88c2-7e6294d89745",
        "colab": {
          "base_uri": "https://localhost:8080/"
        },
        "outputId": "59dce220-b028-4b81-d784-fd4a89d0a79f"
      },
      "outputs": [
        {
          "output_type": "execute_result",
          "data": {
            "text/plain": [
              "1116"
            ]
          },
          "metadata": {},
          "execution_count": 145
        }
      ],
      "source": [
        "del train\n",
        "del test\n",
        "gc.collect()"
      ]
    },
    {
      "cell_type": "markdown",
      "metadata": {
        "id": "39c6e3d6-b432-44fc-a82b-49eda3faddec"
      },
      "source": [
        "- 商户信息预处理"
      ]
    },
    {
      "cell_type": "code",
      "execution_count": 146,
      "metadata": {
        "id": "7f05b65f-1e25-4432-ac53-69861df9ead3"
      },
      "outputs": [],
      "source": [
        "# 1、根据业务含义划分离散字段category_cols与连续字段numeric_cols。\n",
        "category_cols = ['merchant_id', 'merchant_group_id', 'merchant_category_id',\n",
        "       'subsector_id', 'category_1',\n",
        "       'most_recent_sales_range', 'most_recent_purchases_range',\n",
        "       'category_4', 'city_id', 'state_id', 'category_2']\n",
        "numeric_cols = ['numerical_1', 'numerical_2',\n",
        "     'avg_sales_lag3', 'avg_purchases_lag3', 'active_months_lag3',\n",
        "       'avg_sales_lag6', 'avg_purchases_lag6', 'active_months_lag6',\n",
        "       'avg_sales_lag12', 'avg_purchases_lag12', 'active_months_lag12']\n",
        "\n",
        "# 2、对非数值型的离散字段进行字典排序编码。\n",
        "for col in ['category_1', 'most_recent_sales_range', 'most_recent_purchases_range', 'category_4']:\n",
        "    merchant[col] = change_object_cols(merchant[col])\n",
        "    \n",
        "# 3、为了能够更方便统计，进行缺失值的处理，对离散字段统一用-1进行填充。\n",
        "merchant[category_cols] = merchant[category_cols].fillna(-1)\n",
        "\n",
        "\n",
        "# 4、对离散型字段探查发现有正无穷值，这是特征提取以及模型所不能接受的，因此需要对无限值进行处理，此处采用最大值进行替换。\n",
        "inf_cols = ['avg_purchases_lag3', 'avg_purchases_lag6', 'avg_purchases_lag12']\n",
        "merchant[inf_cols] = merchant[inf_cols].replace(np.inf, merchant[inf_cols].replace(np.inf, -99).max().max())\n",
        "\n",
        "# 5、平均值进行填充，后续有需要再进行优化处理。\n",
        "for col in numeric_cols:\n",
        "    merchant[col] = merchant[col].fillna(merchant[col].mean())\n",
        "    \n",
        "# 6、去除与transaction交易记录表格重复的列，以及merchant_id的重复记录。\n",
        "duplicate_cols = ['merchant_id', 'merchant_category_id', 'subsector_id', 'category_1', 'city_id', 'state_id', 'category_2']\n",
        "merchant = merchant.drop(duplicate_cols[1:], axis=1)\n",
        "merchant = merchant.loc[merchant['merchant_id'].drop_duplicates().index.tolist()].reset_index(drop=True)"
      ]
    },
    {
      "cell_type": "markdown",
      "metadata": {
        "id": "367a4394-bc73-4e6f-80e1-e7d6fc0de112"
      },
      "source": [
        "与处理完后先不着急导出或删除，后续需要和交易数据进行拼接。"
      ]
    },
    {
      "cell_type": "markdown",
      "metadata": {
        "id": "5c0700ef-e52a-44e0-80fe-570ee5fc09f8"
      },
      "source": [
        "- 交易数据预处理"
      ]
    },
    {
      "cell_type": "code",
      "execution_count": 147,
      "metadata": {
        "id": "b2157c34-2a2d-4fc6-a6e5-7b597b449f5f"
      },
      "outputs": [],
      "source": [
        "# 1、为了统一处理，首先拼接new和history两张表格，后续可以month_lag>=0进行区分。\n",
        "transaction = pd.concat([new_transaction, history_transaction], axis=0, ignore_index=True)\n",
        "del new_transaction\n",
        "del history_transaction\n",
        "gc.collect()\n",
        "\n",
        "# 2、同样划分离散字段、连续字段以及时间字段。\n",
        "numeric_cols = [ 'installments', 'month_lag', 'purchase_amount']\n",
        "category_cols = ['authorized_flag', 'card_id', 'city_id', 'category_1',\n",
        "       'category_3', 'merchant_category_id', 'merchant_id', 'category_2', 'state_id',\n",
        "       'subsector_id']\n",
        "time_cols = ['purchase_date']\n",
        "\n",
        "# 3、可仿照merchant的处理方式对字符型的离散特征进行字典序编码以及缺失值填充。\n",
        "for col in ['authorized_flag', 'category_1', 'category_3']:\n",
        "    transaction[col] = change_object_cols(transaction[col].fillna(-1).astype(str))\n",
        "transaction[category_cols] = transaction[category_cols].fillna(-1)\n",
        "transaction['category_2'] = transaction['category_2'].astype(int)\n",
        "\n",
        "# 4、进行时间段的处理，简单起见进行月份、日期的星期数（工作日与周末）、以及\n",
        "# 时间段（上午、下午、晚上、凌晨）的信息提取。\n",
        "transaction['purchase_month'] = transaction['purchase_date'].apply(lambda x:'-'.join(x.split(' ')[0].split('-')[:2]))\n",
        "transaction['purchase_hour_section'] = transaction['purchase_date'].apply(lambda x: x.split(' ')[1].split(':')[0]).astype(int)//6\n",
        "transaction['purchase_day'] = transaction['purchase_date'].apply(lambda x: datetime.strptime(x.split(\" \")[0], \"%Y-%m-%d\").weekday())//5                                                                    \n",
        "del transaction['purchase_date']\n",
        "\n",
        "\n",
        "# 5、对新生成的购买月份离散字段进行字典序编码。\n",
        "transaction['purchase_month'] = change_object_cols(transaction['purchase_month'].fillna(-1).astype(str))"
      ]
    },
    {
      "cell_type": "markdown",
      "metadata": {
        "id": "e0bb3c8b-5287-415f-8b0e-b33132979699"
      },
      "source": [
        "完成交易数据预处理后，即可进行交易数据和商铺数据的表格合并。"
      ]
    },
    {
      "cell_type": "markdown",
      "metadata": {
        "id": "9a3a2091-6fd1-408c-a4af-94b895d682c8"
      },
      "source": [
        "- 表格合并"
      ]
    },
    {
      "cell_type": "markdown",
      "metadata": {
        "id": "e330db73-4b6d-4438-b516-ee31e8dc4508"
      },
      "source": [
        "&emsp;&emsp;在合并的过程中，有两种处理方案，其一是对缺失值进行-1填补，然后将所有离散型字段化为字符串类型（为了后续字典合并做准备），其二则是新增两列，分别是purchase_day_diff和purchase_month_diff，其数据为交易数据以card_id进行groupby并最终提取出purchase_day/month并进行差分的结果。"
      ]
    },
    {
      "cell_type": "markdown",
      "metadata": {
        "id": "25420930-2867-47c2-a88f-de0867649c1e"
      },
      "source": [
        "方案一代码如下："
      ]
    },
    {
      "cell_type": "code",
      "execution_count": null,
      "metadata": {
        "id": "6bca4f03-5778-4a3d-9eaf-76b2250b2f0a"
      },
      "outputs": [],
      "source": [
        "# 为了方便特征的统一计算将其merge合并，重新划分相应字段种类。\n",
        "cols = ['merchant_id', 'most_recent_sales_range', 'most_recent_purchases_range', 'category_4']\n",
        "transaction = pd.merge(transaction, merchant[cols], how='left', on='merchant_id')\n",
        "\n",
        "numeric_cols = ['purchase_amount', 'installments']\n",
        "\n",
        "category_cols = ['authorized_flag', 'city_id', 'category_1',\n",
        "       'category_3', 'merchant_category_id','month_lag','most_recent_sales_range',\n",
        "                 'most_recent_purchases_range', 'category_4',\n",
        "                 'purchase_month', 'purchase_hour_section', 'purchase_day']\n",
        "\n",
        "id_cols = ['card_id', 'merchant_id']\n",
        "\n",
        "transaction[cols[1:]] = transaction[cols[1:]].fillna(-1).astype(int)\n",
        "transaction[category_cols] =transaction[category_cols].fillna(-1).astype(str)"
      ]
    },
    {
      "cell_type": "markdown",
      "metadata": {
        "id": "f8b54a4d-8e77-47af-a49a-24f854b7091e"
      },
      "source": [
        "&emsp;&emsp;随后将其导出为transaction_d_pre.csv"
      ]
    },
    {
      "cell_type": "code",
      "execution_count": null,
      "metadata": {
        "id": "6ffce566-1158-4f2f-9416-a01f25f342a9"
      },
      "outputs": [],
      "source": [
        "transaction.to_csv(\"preprocess/transaction_d_pre.csv\", index=False)"
      ]
    },
    {
      "cell_type": "code",
      "execution_count": null,
      "metadata": {
        "id": "7975ea09-642b-41e7-ada5-2ea792b08b4f"
      },
      "outputs": [],
      "source": [
        "del transaction\n",
        "gc.collect()"
      ]
    },
    {
      "cell_type": "markdown",
      "metadata": {
        "id": "da3cc197-a5da-40b1-9c84-ca8a1def2bb5"
      },
      "source": [
        "方案二代码如下："
      ]
    },
    {
      "cell_type": "code",
      "execution_count": null,
      "metadata": {
        "id": "1e818f50-9a29-40ba-9ad0-ef0c89c76c66"
      },
      "outputs": [],
      "source": [
        "merchant = pd.read_csv('data/merchants.csv')\n",
        "new_transaction = pd.read_csv('data/new_merchant_transactions.csv')\n",
        "history_transaction = pd.read_csv('data/historical_transactions.csv')"
      ]
    },
    {
      "cell_type": "code",
      "execution_count": null,
      "metadata": {
        "id": "6eacd68a-3c74-445a-98a0-eabfdc1447d7"
      },
      "outputs": [],
      "source": [
        "# 1、根据业务含义划分离散字段category_cols与连续字段numeric_cols。\n",
        "category_cols = ['merchant_id', 'merchant_group_id', 'merchant_category_id',\n",
        "       'subsector_id', 'category_1',\n",
        "       'most_recent_sales_range', 'most_recent_purchases_range',\n",
        "       'category_4', 'city_id', 'state_id', 'category_2']\n",
        "numeric_cols = ['numerical_1', 'numerical_2',\n",
        "     'avg_sales_lag3', 'avg_purchases_lag3', 'active_months_lag3',\n",
        "       'avg_sales_lag6', 'avg_purchases_lag6', 'active_months_lag6',\n",
        "       'avg_sales_lag12', 'avg_purchases_lag12', 'active_months_lag12']\n",
        "\n",
        "# 2、对非数值型的离散字段进行字典排序编码。\n",
        "for col in ['category_1', 'most_recent_sales_range', 'most_recent_purchases_range', 'category_4']:\n",
        "    merchant[col] = change_object_cols(merchant[col])\n",
        "    \n",
        "# 3、为了能够更方便统计，进行缺失值的处理，对离散字段统一用-1进行填充。\n",
        "merchant[category_cols] = merchant[category_cols].fillna(-1)\n",
        "\n",
        "\n",
        "# 4、对离散型字段探查发现有正无穷值，这是特征提取以及模型所不能接受的，因此需要对无限值进行处理，此处采用最大值进行替换。\n",
        "inf_cols = ['avg_purchases_lag3', 'avg_purchases_lag6', 'avg_purchases_lag12']\n",
        "merchant[inf_cols] = merchant[inf_cols].replace(np.inf, merchant[inf_cols].replace(np.inf, -99).max().max())\n",
        "\n",
        "# 5、平均值进行填充，后续有需要再进行优化处理。\n",
        "for col in numeric_cols:\n",
        "    merchant[col] = merchant[col].fillna(merchant[col].mean())\n",
        "    \n",
        "# 6、去除与transaction交易记录表格重复的列，以及merchant_id的重复记录。\n",
        "duplicate_cols = ['merchant_id', 'merchant_category_id', 'subsector_id', 'category_1', 'city_id', 'state_id', 'category_2']\n",
        "merchant = merchant.drop(duplicate_cols[1:], axis=1)\n",
        "merchant = merchant.loc[merchant['merchant_id'].drop_duplicates().index.tolist()].reset_index(drop=True)"
      ]
    },
    {
      "cell_type": "code",
      "execution_count": null,
      "metadata": {
        "id": "badf7ac6-14e6-4f3a-9d96-e2d772e2f26d"
      },
      "outputs": [],
      "source": [
        "# 1、为了统一处理，首先拼接new和history两张表格，后续可以month_lag>=0进行区分。\n",
        "transaction = pd.concat([new_transaction, history_transaction], axis=0, ignore_index=True)\n",
        "del new_transaction\n",
        "del history_transaction\n",
        "gc.collect()\n",
        "\n",
        "# 2、同样划分离散字段、连续字段以及时间字段。\n",
        "numeric_cols = [ 'installments', 'month_lag', 'purchase_amount']\n",
        "category_cols = ['authorized_flag', 'card_id', 'city_id', 'category_1',\n",
        "       'category_3', 'merchant_category_id', 'merchant_id', 'category_2', 'state_id',\n",
        "       'subsector_id']\n",
        "time_cols = ['purchase_date']\n",
        "\n",
        "# 3、可仿照merchant的处理方式对字符型的离散特征进行字典序编码以及缺失值填充。\n",
        "for col in ['authorized_flag', 'category_1', 'category_3']:\n",
        "    transaction[col] = change_object_cols(transaction[col].fillna(-1).astype(str))\n",
        "transaction[category_cols] = transaction[category_cols].fillna(-1)\n",
        "transaction['category_2'] = transaction['category_2'].astype(int)\n",
        "\n",
        "# 4、进行时间段的处理，简单起见进行月份、日期的星期数（工作日与周末）、以及\n",
        "# 时间段（上午、下午、晚上、凌晨）的信息提取。\n",
        "transaction['purchase_month'] = transaction['purchase_date'].apply(lambda x:'-'.join(x.split(' ')[0].split('-')[:2]))\n",
        "transaction['purchase_hour_section'] = transaction['purchase_date'].apply(lambda x: x.split(' ')[1].split(':')[0]).astype(int)//6\n",
        "transaction['purchase_day'] = transaction['purchase_date'].apply(lambda x: datetime.strptime(x.split(\" \")[0], \"%Y-%m-%d\").weekday())//5                                                                    \n",
        "del transaction['purchase_date']\n",
        "\n",
        "\n",
        "# 5、对新生成的购买月份离散字段进行字典序编码。\n",
        "transaction['purchase_month'] = change_object_cols(transaction['purchase_month'].fillna(-1).astype(str))"
      ]
    },
    {
      "cell_type": "code",
      "execution_count": null,
      "metadata": {
        "id": "5826b293-7699-4ac1-b14b-8fd0cfc3eebc"
      },
      "outputs": [],
      "source": [
        "cols = ['merchant_id', 'most_recent_sales_range', 'most_recent_purchases_range', 'category_4']\n",
        "transaction = pd.merge(transaction, merchant[cols], how='left', on='merchant_id')\n",
        "\n",
        "numeric_cols = ['purchase_amount', 'installments']\n",
        "\n",
        "category_cols = ['authorized_flag', 'city_id', 'category_1',\n",
        "       'category_3', 'merchant_category_id','month_lag','most_recent_sales_range',\n",
        "                 'most_recent_purchases_range', 'category_4',\n",
        "                 'purchase_month', 'purchase_hour_section', 'purchase_day']\n",
        "\n",
        "id_cols = ['card_id', 'merchant_id']\n",
        "\n",
        "transaction['purchase_day_diff'] = transaction.groupby(\"card_id\")['purchase_day'].diff()\n",
        "transaction['purchase_month_diff'] = transaction.groupby(\"card_id\")['purchase_month'].diff()"
      ]
    },
    {
      "cell_type": "markdown",
      "metadata": {
        "id": "922cd04e-7f41-40c5-ab59-9030b700be47"
      },
      "source": [
        "&emsp;&emsp;随后将其导出为transaction_g_pre.csv"
      ]
    },
    {
      "cell_type": "code",
      "execution_count": null,
      "metadata": {
        "id": "8c494705-f34a-401d-9123-a8c5817256f3"
      },
      "outputs": [],
      "source": [
        "transaction.to_csv(\"preprocess/transaction_g_pre.csv\", index=False)"
      ]
    },
    {
      "cell_type": "code",
      "execution_count": null,
      "metadata": {
        "id": "38b8ff6f-0223-43ed-a9f1-06675c2c0a10"
      },
      "outputs": [],
      "source": [
        "del transaction\n",
        "gc.collect()"
      ]
    },
    {
      "cell_type": "markdown",
      "metadata": {
        "id": "9ff9fc02-b435-4ece-923b-dcf4ae4eaff7"
      },
      "source": [
        "在导出完成这两张表之后，接下来我们将借助这些数据来进一步致性特征工程和算法建模。"
      ]
    },
    {
      "cell_type": "markdown",
      "metadata": {
        "id": "7c7e2ea3-ddf3-41eb-82bf-84355883be41"
      },
      "source": [
        "## 特征工程与模型训练"
      ]
    },
    {
      "cell_type": "markdown",
      "metadata": {
        "id": "95742d4c-4618-4a6b-ac80-09f7bedba353"
      },
      "source": [
        "&emsp;&emsp;在经历了漫长的数据解读、探索与清洗之后，接下来，我们将进入到特征工程与算法建模的环节。并在本小节的结尾，得出最终的预测结果。"
      ]
    },
    {
      "cell_type": "markdown",
      "metadata": {
        "id": "3ebb70df-f428-494b-9413-1715ccdaa4df"
      },
      "source": [
        "&emsp;&emsp;在此前的内容中，我们最终得到了train.csv、test.csv和transaction.csv三张表。首先我们简单回顾下这三张数据表的构建过程，首先，目前得到的训练集和测试集都是由原始训练集/测试集将时间字段处理后得到："
      ]
    },
    {
      "cell_type": "markdown",
      "metadata": {
        "id": "c1567646-8853-42dd-b80a-27099ab15b12"
      },
      "source": [
        "<center><img src=\"https://i.loli.net/2021/10/23/EfkhZ7FT89dCacb.png\" alt=\"image-20211023143401397\" style=\"zoom:50%;\" />"
      ]
    },
    {
      "cell_type": "markdown",
      "metadata": {
        "id": "959a83a2-97af-4c2d-8ba3-b93a54a6870f"
      },
      "source": [
        "&emsp;&emsp;而transaction数据集则相对复杂，该数据集是有一张商户数据merchants.csv和两张交易数据表处理后合并得到，该过程如下所示："
      ]
    },
    {
      "cell_type": "markdown",
      "metadata": {
        "id": "e895cc5a-b24e-4f02-862f-3f64e96ef9f3"
      },
      "source": [
        "<center><img src=\"https://i.loli.net/2021/10/23/vwXiQcd3sWfqhSY.png\" alt=\"image-20211023144942013\" style=\"zoom:80%;\" />"
      ]
    },
    {
      "cell_type": "markdown",
      "metadata": {
        "id": "7e30584f-2cc5-4286-aa77-22a29e1fef0e"
      },
      "source": [
        "接下来，我们就依据这三张表进行后续操作。"
      ]
    },
    {
      "cell_type": "markdown",
      "metadata": {
        "id": "0f590691-47d0-46e8-aa52-ec4905f73b2c"
      },
      "source": [
        "### 一、特征工程"
      ]
    },
    {
      "cell_type": "markdown",
      "metadata": {
        "id": "8e59d069-f5c4-45ac-8b76-ae8c5d0b2569"
      },
      "source": [
        "&emsp;&emsp;首先需要对得到的数据进一步进行特征工程处理。一般来说，对于已经清洗完的数据，特征工程部分核心需要考虑的问题就是特征创建（衍生）与特征筛选，也就是先尽可能创建/增加可能对模型结果有正面影响的特征，然后再对这些进行挑选，以保证模型运行稳定性及运行效率。当然，无论是特征衍生还是特征筛选，其实都有非常多的方法。此处为了保证公开课提供的思路和方法具有通用性，此处列举两种特征衍生的方法，即创建通用组合特征与业务统计特征；并在特征创建完毕后，介绍一种基础而通用的特征筛选的方法：基于皮尔逊相关系数的Filter方法进行特征筛选。这些方法都是非常通用且有效的方法，不仅能够帮助本次建模取得较好的成果，并且也能广泛适用到其他各场景中。"
      ]
    },
    {
      "cell_type": "markdown",
      "metadata": {
        "id": "f96e70af-0c85-43fa-b35c-5554e44d516f"
      },
      "source": [
        "#### 1.通用组合特征创建"
      ]
    },
    {
      "cell_type": "markdown",
      "metadata": {
        "id": "ed921b14-e248-44d8-a45b-0e26f724b748"
      },
      "source": [
        "##### 1.1 通用组合特征的创建方法"
      ]
    },
    {
      "cell_type": "markdown",
      "metadata": {
        "id": "a502390b-75fc-40b0-bf8f-1e49f1941db2"
      },
      "source": [
        "&emsp;&emsp;首先是尝试创建一些通用组合特征。"
      ]
    },
    {
      "cell_type": "markdown",
      "metadata": {
        "id": "6ce0e84a-c0b9-4a1f-85ad-c3ec242a0dcc"
      },
      "source": [
        "&emsp;&emsp;所谓通用组合特征，指的是通过统计不同离散特征在不同取值水平下、不同连续特征取值之和创建的特征，并根据card_id进行分组求和。具体创建过程我们可以如下简例来进行理解："
      ]
    },
    {
      "cell_type": "markdown",
      "metadata": {
        "id": "6c6a2353-67a4-4581-b780-e062fdc8b39d"
      },
      "source": [
        "<center><img src=\"https://i.loli.net/2021/10/23/KUTtb32o9eS1MJW.png\" alt=\"image-20211023153800138\" style=\"zoom:67%;\" />"
      ]
    },
    {
      "cell_type": "markdown",
      "metadata": {
        "id": "0d287b57-bdea-41e9-a52b-504eb90af9c7"
      },
      "source": [
        "通过该方法创建的数据集，不仅能够尽可能从更多维度表示每个card_id的消费情况，同时也能够顺利和训练集/测试集完成拼接，从而带入模型进行建模。相关过程我们可以借助Python中的字典对象类型来进行实现，上述简例实现过程如下："
      ]
    },
    {
      "cell_type": "code",
      "execution_count": null,
      "metadata": {
        "id": "e38803d7-b3da-42df-b959-50f05575cfe3"
      },
      "outputs": [],
      "source": [
        "import gc\n",
        "import time\n",
        "import numpy as np\n",
        "import pandas as pd\n",
        "from datetime import datetime"
      ]
    },
    {
      "cell_type": "code",
      "execution_count": null,
      "metadata": {
        "id": "ecfaff14-0f9d-4d57-ae93-ed4251335393",
        "outputId": "412af63a-b7cf-4dfc-c3a5-4b14e92e9470"
      },
      "outputs": [
        {
          "data": {
            "text/html": [
              "<div>\n",
              "<style scoped>\n",
              "    .dataframe tbody tr th:only-of-type {\n",
              "        vertical-align: middle;\n",
              "    }\n",
              "\n",
              "    .dataframe tbody tr th {\n",
              "        vertical-align: top;\n",
              "    }\n",
              "\n",
              "    .dataframe thead th {\n",
              "        text-align: right;\n",
              "    }\n",
              "</style>\n",
              "<table border=\"1\" class=\"dataframe\">\n",
              "  <thead>\n",
              "    <tr style=\"text-align: right;\">\n",
              "      <th></th>\n",
              "      <th>card_id</th>\n",
              "      <th>A</th>\n",
              "      <th>B</th>\n",
              "      <th>C</th>\n",
              "      <th>D</th>\n",
              "    </tr>\n",
              "  </thead>\n",
              "  <tbody>\n",
              "    <tr>\n",
              "      <th>0</th>\n",
              "      <td>1</td>\n",
              "      <td>1</td>\n",
              "      <td>2</td>\n",
              "      <td>4</td>\n",
              "      <td>7</td>\n",
              "    </tr>\n",
              "    <tr>\n",
              "      <th>1</th>\n",
              "      <td>2</td>\n",
              "      <td>2</td>\n",
              "      <td>1</td>\n",
              "      <td>5</td>\n",
              "      <td>5</td>\n",
              "    </tr>\n",
              "    <tr>\n",
              "      <th>2</th>\n",
              "      <td>1</td>\n",
              "      <td>1</td>\n",
              "      <td>2</td>\n",
              "      <td>1</td>\n",
              "      <td>4</td>\n",
              "    </tr>\n",
              "    <tr>\n",
              "      <th>3</th>\n",
              "      <td>3</td>\n",
              "      <td>2</td>\n",
              "      <td>2</td>\n",
              "      <td>5</td>\n",
              "      <td>8</td>\n",
              "    </tr>\n",
              "  </tbody>\n",
              "</table>\n",
              "</div>"
            ],
            "text/plain": [
              "   card_id  A  B  C  D\n",
              "0        1  1  2  4  7\n",
              "1        2  2  1  5  5\n",
              "2        1  1  2  1  4\n",
              "3        3  2  2  5  8"
            ]
          },
          "execution_count": 13,
          "metadata": {},
          "output_type": "execute_result"
        }
      ],
      "source": [
        "# 借助字典创建DataFrame\n",
        "d1 = {'card_id':[1, 2, 1, 3], \n",
        "      'A':[1, 2, 1, 2], \n",
        "      'B':[2, 1, 2, 2], \n",
        "      'C':[4, 5, 1, 5], \n",
        "      'D':[7, 5, 4, 8],}\n",
        "\n",
        "t1 = pd.DataFrame(t1)\n",
        "t1"
      ]
    },
    {
      "cell_type": "code",
      "execution_count": null,
      "metadata": {
        "id": "5c004b7d-c49c-4f27-9288-211689c6604a"
      },
      "outputs": [],
      "source": [
        "# 标注特征类别\n",
        "numeric_cols = ['C', 'D']\n",
        "category_cols = ['A', 'B']"
      ]
    },
    {
      "cell_type": "code",
      "execution_count": null,
      "metadata": {
        "id": "71d979f4-439d-4415-a8db-7c45bad3d9a4"
      },
      "outputs": [],
      "source": [
        "# 创建一个以id为key、空字典为value的字典\n",
        "features = {}\n",
        "card_all = t1['card_id'].values.tolist()\n",
        "for card in card_all:\n",
        "    features[card] = {}"
      ]
    },
    {
      "cell_type": "code",
      "execution_count": null,
      "metadata": {
        "id": "10b27f8a-ef64-4181-af4e-4de4ef827720",
        "outputId": "5fb1a8e4-f894-450d-b885-2c5718943c0c"
      },
      "outputs": [
        {
          "data": {
            "text/plain": [
              "{1: {}, 2: {}, 3: {}}"
            ]
          },
          "execution_count": 12,
          "metadata": {},
          "output_type": "execute_result"
        }
      ],
      "source": [
        "features"
      ]
    },
    {
      "cell_type": "code",
      "execution_count": null,
      "metadata": {
        "id": "93c5c967-2963-4a7d-85df-56e657cb2da2",
        "outputId": "813f05ac-8e1a-4534-b00c-ef4c140f9912"
      },
      "outputs": [
        {
          "data": {
            "text/plain": [
              "['card_id', 'A', 'B', 'C', 'D']"
            ]
          },
          "execution_count": 18,
          "metadata": {},
          "output_type": "execute_result"
        }
      ],
      "source": [
        "# 所有字段名称组成的list\n",
        "columns = t1.columns.tolist()\n",
        "columns"
      ]
    },
    {
      "cell_type": "code",
      "execution_count": null,
      "metadata": {
        "id": "615b0aa0-1440-4da4-993b-374603f8757a",
        "outputId": "d6fbce0b-fa69-42ce-a0de-76648de4c728"
      },
      "outputs": [
        {
          "data": {
            "text/plain": [
              "0"
            ]
          },
          "execution_count": 19,
          "metadata": {},
          "output_type": "execute_result"
        }
      ],
      "source": [
        "# 其中card_id在list当中的索引值\n",
        "idx = columns.index('card_id')\n",
        "idx"
      ]
    },
    {
      "cell_type": "code",
      "execution_count": null,
      "metadata": {
        "id": "ce8c08ef-37bf-4ab7-bb67-96f9dbcb03e2",
        "outputId": "5cd51407-0ad2-4e4c-e7ba-2064f84346b8"
      },
      "outputs": [
        {
          "data": {
            "text/plain": [
              "[1, 2]"
            ]
          },
          "execution_count": 31,
          "metadata": {},
          "output_type": "execute_result"
        }
      ],
      "source": [
        "# 离散型字段的索引值\n",
        "category_cols_index = [columns.index(col) for col in category_cols]\n",
        "category_cols_index"
      ]
    },
    {
      "cell_type": "code",
      "execution_count": null,
      "metadata": {
        "id": "503e10ea-c5d2-46ab-aef7-5605ea206d0f",
        "outputId": "9fe0aa1f-e238-41bf-dc17-c9853d35c04e"
      },
      "outputs": [
        {
          "data": {
            "text/plain": [
              "[3, 4]"
            ]
          },
          "execution_count": 32,
          "metadata": {},
          "output_type": "execute_result"
        }
      ],
      "source": [
        "# 连续型字段的索引值\n",
        "numeric_cols_index = [columns.index(col) for col in numeric_cols]\n",
        "numeric_cols_index"
      ]
    },
    {
      "cell_type": "code",
      "execution_count": null,
      "metadata": {
        "id": "ace64c60-bbfb-49cf-9e14-4db87a777f5a"
      },
      "outputs": [],
      "source": [
        "# 对离散型字段的不同取值和连续型字段两两组合\n",
        "# 同时完成分组求和\n",
        "for i in range(t1.shape[0]):\n",
        "    va = t1.loc[i].values\n",
        "    card = va[idx]\n",
        "    for cate_ind in category_cols_index:\n",
        "        for num_ind in numeric_cols_index:\n",
        "            col_name = '&'.join([columns[cate_ind], str(va[cate_ind]), columns[num_ind]])\n",
        "            features[card][col_name] = features[card].get(col_name, 0) + va[num_ind]"
      ]
    },
    {
      "cell_type": "markdown",
      "metadata": {
        "id": "00bd7761-411c-4c99-b92b-006df7c684bb"
      },
      "source": [
        "&emsp;&emsp;然后查看features最终结果"
      ]
    },
    {
      "cell_type": "code",
      "execution_count": null,
      "metadata": {
        "id": "6565ca79-ebf9-420c-85dc-67639835fe92",
        "outputId": "6c7fc684-ab8b-4142-81fc-7fa2139a8cb8"
      },
      "outputs": [
        {
          "data": {
            "text/plain": [
              "{1: {'A&1&C': 5, 'A&1&D': 11, 'B&2&C': 5, 'B&2&D': 11},\n",
              " 2: {'A&2&C': 5, 'A&2&D': 5, 'B&1&C': 5, 'B&1&D': 5},\n",
              " 3: {'A&2&C': 5, 'A&2&D': 8, 'B&2&C': 5, 'B&2&D': 8}}"
            ]
          },
          "execution_count": 26,
          "metadata": {},
          "output_type": "execute_result"
        }
      ],
      "source": [
        "features"
      ]
    },
    {
      "cell_type": "markdown",
      "metadata": {
        "id": "1024ae8c-58f1-45ab-8e57-5d29f812fcd1"
      },
      "source": [
        "能够发现，此时features就是一个已经包含了离散变量的不同取值和连续变量两两组合成新特征后在不同card_id下的分组求和结果。接下来我们将其转化为DataFrame："
      ]
    },
    {
      "cell_type": "code",
      "execution_count": null,
      "metadata": {
        "id": "f13830a6-2232-41f0-9d0a-f65b05142a68",
        "outputId": "a83eb94e-07d0-44d5-b326-e0a3ebbb045d"
      },
      "outputs": [
        {
          "data": {
            "text/html": [
              "<div>\n",
              "<style scoped>\n",
              "    .dataframe tbody tr th:only-of-type {\n",
              "        vertical-align: middle;\n",
              "    }\n",
              "\n",
              "    .dataframe tbody tr th {\n",
              "        vertical-align: top;\n",
              "    }\n",
              "\n",
              "    .dataframe thead th {\n",
              "        text-align: right;\n",
              "    }\n",
              "</style>\n",
              "<table border=\"1\" class=\"dataframe\">\n",
              "  <thead>\n",
              "    <tr style=\"text-align: right;\">\n",
              "      <th></th>\n",
              "      <th>card_id</th>\n",
              "      <th>A&amp;1&amp;C</th>\n",
              "      <th>A&amp;1&amp;D</th>\n",
              "      <th>B&amp;2&amp;C</th>\n",
              "      <th>B&amp;2&amp;D</th>\n",
              "      <th>A&amp;2&amp;C</th>\n",
              "      <th>A&amp;2&amp;D</th>\n",
              "      <th>B&amp;1&amp;C</th>\n",
              "      <th>B&amp;1&amp;D</th>\n",
              "    </tr>\n",
              "  </thead>\n",
              "  <tbody>\n",
              "    <tr>\n",
              "      <th>0</th>\n",
              "      <td>1</td>\n",
              "      <td>5.0</td>\n",
              "      <td>11.0</td>\n",
              "      <td>5.0</td>\n",
              "      <td>11.0</td>\n",
              "      <td>NaN</td>\n",
              "      <td>NaN</td>\n",
              "      <td>NaN</td>\n",
              "      <td>NaN</td>\n",
              "    </tr>\n",
              "    <tr>\n",
              "      <th>1</th>\n",
              "      <td>2</td>\n",
              "      <td>NaN</td>\n",
              "      <td>NaN</td>\n",
              "      <td>NaN</td>\n",
              "      <td>NaN</td>\n",
              "      <td>5.0</td>\n",
              "      <td>5.0</td>\n",
              "      <td>5.0</td>\n",
              "      <td>5.0</td>\n",
              "    </tr>\n",
              "    <tr>\n",
              "      <th>2</th>\n",
              "      <td>3</td>\n",
              "      <td>NaN</td>\n",
              "      <td>NaN</td>\n",
              "      <td>5.0</td>\n",
              "      <td>8.0</td>\n",
              "      <td>5.0</td>\n",
              "      <td>8.0</td>\n",
              "      <td>NaN</td>\n",
              "      <td>NaN</td>\n",
              "    </tr>\n",
              "  </tbody>\n",
              "</table>\n",
              "</div>"
            ],
            "text/plain": [
              "   card_id  A&1&C  A&1&D  B&2&C  B&2&D  A&2&C  A&2&D  B&1&C  B&1&D\n",
              "0        1    5.0   11.0    5.0   11.0    NaN    NaN    NaN    NaN\n",
              "1        2    NaN    NaN    NaN    NaN    5.0    5.0    5.0    5.0\n",
              "2        3    NaN    NaN    5.0    8.0    5.0    8.0    NaN    NaN"
            ]
          },
          "execution_count": 33,
          "metadata": {},
          "output_type": "execute_result"
        }
      ],
      "source": [
        "# 转化成df\n",
        "df = pd.DataFrame(features).T.reset_index()\n",
        "\n",
        "# 标注所有列\n",
        "cols = df.columns.tolist()\n",
        "\n",
        "# 修改df的特征名称\n",
        "df.columns = ['card_id'] + cols[1:]\n",
        "df"
      ]
    },
    {
      "cell_type": "markdown",
      "metadata": {
        "id": "9f77e60d-08a2-4bf3-b612-531bc130f360"
      },
      "source": [
        "至此我们就完成了在极简数据集上进行通用组合特征的创建工作。"
      ]
    },
    {
      "cell_type": "markdown",
      "metadata": {
        "id": "939dba78-131d-4573-89db-fe217b8a8102"
      },
      "source": [
        "&emsp;&emsp;当然，通过上述过程不难发现，这种特征创建的方式能够非常高效的表示更多数据集中的隐藏信息，不过该方法容易产生较多空值，在后续建模过程中需要考虑特征矩阵过于稀疏从而带来的问题。"
      ]
    },
    {
      "cell_type": "markdown",
      "metadata": {
        "id": "bb01194c-3b1e-441d-b8f4-24587a27b608"
      },
      "source": [
        "##### 1.2 基于transaction数据集创建通用组合特征"
      ]
    },
    {
      "cell_type": "markdown",
      "metadata": {
        "id": "604cce8d-a7e9-4f3b-b23f-2d1fde1de497"
      },
      "source": [
        "&emsp;&emsp;接下来，我们将上述过程应用于建模真实数据，即在此前已经清洗完的transaction数据集上来完成通用组合特征的创建工作。"
      ]
    },
    {
      "cell_type": "markdown",
      "metadata": {
        "id": "739428dd-73ab-4f94-b691-d0e153a1aac2"
      },
      "source": [
        "> 此处需要注意的是，由于transaction数据集本身较大，尽管特征创建工作的求和部分会一定程度减少最终带入建模的数据体量，但操作transaction数据集本身就需要耗费大量的内容及一定的时间，如果要手动执行下述代码，建议至少配置32G及以上内存。当然，处理完的数据也会在课件领取地址中提供，大家也可以直接利用处理完的数据带入进行建模。"
      ]
    },
    {
      "cell_type": "markdown",
      "metadata": {
        "id": "43ebafd2-59ff-4cdf-beb1-72a2e7896b7c"
      },
      "source": [
        "- 数据读取"
      ]
    },
    {
      "cell_type": "markdown",
      "metadata": {
        "id": "fd4f8ca8-20e9-4f28-8eb3-3cbf8cd214fe"
      },
      "source": [
        "&emsp;&emsp;此处读取的transaction是此前创建的transaction_d_pre.csv数据集。"
      ]
    },
    {
      "cell_type": "code",
      "execution_count": null,
      "metadata": {
        "id": "d60f5a08-27f2-46b2-8f24-2e81a0cbea0a"
      },
      "outputs": [],
      "source": [
        "train = pd.read_csv('preprocess/train_pre.csv')\n",
        "test =  pd.read_csv('preprocess/test_pre.csv')\n",
        "transaction = pd.read_csv('preprocess/transaction_d_pre.csv')"
      ]
    },
    {
      "cell_type": "markdown",
      "metadata": {
        "id": "7f4759ce-ca98-42f7-8f29-392b96717b91"
      },
      "source": [
        "- 字段类型标注"
      ]
    },
    {
      "cell_type": "code",
      "execution_count": null,
      "metadata": {
        "id": "548fd17c-fb67-4d50-a1b6-54042bd0539d"
      },
      "outputs": [],
      "source": [
        "# 标注离散字段or连续型字段\n",
        "numeric_cols = ['purchase_amount', 'installments']\n",
        "\n",
        "category_cols = ['authorized_flag', 'city_id', 'category_1',\n",
        "       'category_3', 'merchant_category_id','month_lag','most_recent_sales_range',\n",
        "                 'most_recent_purchases_range', 'category_4',\n",
        "                 'purchase_month', 'purchase_hour_section', 'purchase_day']\n",
        "\n",
        "id_cols = ['card_id', 'merchant_id']"
      ]
    },
    {
      "cell_type": "markdown",
      "metadata": {
        "id": "faf92a02-804c-4f51-9a1f-a5b60616e5cd"
      },
      "source": [
        "- 特征创建"
      ]
    },
    {
      "cell_type": "code",
      "execution_count": null,
      "metadata": {
        "tags": [],
        "id": "3080b314-5ab5-422e-86cf-dad5e6d4a4ba",
        "outputId": "8842e170-6f9b-45ca-e375-569f569798cf"
      },
      "outputs": [
        {
          "name": "stdout",
          "output_type": "stream",
          "text": [
            "142.746732711792 s\n",
            "241.50783610343933 s\n",
            "338.9149408340454 s\n",
            "436.4667372703552 s\n",
            "533.113107919693 s\n",
            "629.66761469841 s\n",
            "727.1969571113586 s\n",
            "824.3946213722229 s\n",
            "921.0717754364014 s\n",
            "1017.7034878730774 s\n",
            "1114.4361855983734 s\n",
            "1211.2046930789948 s\n",
            "1308.0264575481415 s\n",
            "1404.8067374229431 s\n",
            "1501.533932209015 s\n",
            "1598.396145105362 s\n",
            "1695.2529389858246 s\n",
            "1792.5994687080383 s\n",
            "1889.7299542427063 s\n",
            "1987.0093190670013 s\n",
            "2084.849946975708 s\n",
            "2183.5546836853027 s\n",
            "2281.704159259796 s\n",
            "2379.819750070572 s\n",
            "2478.2387039661407 s\n",
            "2576.8626248836517 s\n",
            "2676.383053302765 s\n",
            "2777.3995122909546 s\n",
            "2879.5466351509094 s\n",
            "2981.8099772930145 s\n",
            "3085.8226635456085 s\n"
          ]
        },
        {
          "data": {
            "text/plain": [
              "0"
            ]
          },
          "execution_count": 7,
          "metadata": {},
          "output_type": "execute_result"
        }
      ],
      "source": [
        "# 创建字典用于保存数据\n",
        "features = {}\n",
        "card_all = train['card_id'].append(test['card_id']).values.tolist()\n",
        "for card in card_all:\n",
        "    features[card] = {}\n",
        "     \n",
        "# 标记不同类型字段的索引\n",
        "columns = transaction.columns.tolist()\n",
        "idx = columns.index('card_id')\n",
        "category_cols_index = [columns.index(col) for col in category_cols]\n",
        "numeric_cols_index = [columns.index(col) for col in numeric_cols]\n",
        "\n",
        "# 记录运行时间\n",
        "s = time.time()\n",
        "num = 0\n",
        "\n",
        "# 执行循环，并在此过程中记录时间\n",
        "for i in range(transaction.shape[0]):\n",
        "    va = transaction.loc[i].values\n",
        "    card = va[idx]\n",
        "    for cate_ind in category_cols_index:\n",
        "        for num_ind in numeric_cols_index:\n",
        "            col_name = '&'.join([columns[cate_ind], va[cate_ind], columns[num_ind]])\n",
        "            features[card][col_name] = features[card].get(col_name, 0) + va[num_ind]\n",
        "    num += 1\n",
        "    if num%1000000==0:\n",
        "        print(time.time()-s, \"s\")\n",
        "del transaction\n",
        "gc.collect()"
      ]
    },
    {
      "cell_type": "markdown",
      "metadata": {
        "id": "31d19e9b-5778-462e-b74e-afc11730ba76"
      },
      "source": [
        "&emsp;&emsp;能够发现，整体运行所需时间较长。此外，此处需要注意的是，card_id的提取并不是从transaction从提取，而是从训练集和测试集中提取，大家想想看是什么原因？"
      ]
    },
    {
      "cell_type": "markdown",
      "metadata": {
        "id": "e720c14b-f469-4b52-bb07-62a3a143ed50"
      },
      "source": [
        "&emsp;&emsp;在提取完特征后，接下来即可将带有交易数据特征的合并入训练集和测试集了："
      ]
    },
    {
      "cell_type": "code",
      "execution_count": null,
      "metadata": {
        "id": "2f35fcb9-756d-43ff-9233-d05398c53f26"
      },
      "outputs": [],
      "source": [
        "# 字典转dataframe\n",
        "df = pd.DataFrame(features).T.reset_index()\n",
        "del features\n",
        "cols = df.columns.tolist()\n",
        "df.columns = ['card_id'] + cols[1:]\n",
        "\n",
        "# 生成训练集与测试集\n",
        "train = pd.merge(train, df, how='left', on='card_id')\n",
        "test =  pd.merge(test, df, how='left', on='card_id')\n",
        "del df\n",
        "train.to_csv(\"preprocess/train_dict.csv\", index=False)\n",
        "test.to_csv(\"preprocess/test_dict.csv\", index=False)\n",
        "\n",
        "gc.collect()"
      ]
    },
    {
      "cell_type": "markdown",
      "metadata": {
        "id": "443daeeb-cc57-4118-9e6d-6765124b6841"
      },
      "source": [
        "&emsp;&emsp;至此，我们就完成了从transaction中提取通用特征的过程。简单查看数据集基本情况："
      ]
    },
    {
      "cell_type": "markdown",
      "metadata": {
        "id": "9915a415-4602-4fca-a67e-e50a699d9b2a"
      },
      "source": [
        "<center><img src=\"https://i.loli.net/2021/10/23/ZY75eSk3pAayoJn.png\" alt=\"image-20211023161451438\" style=\"zoom:67%;\" />"
      ]
    },
    {
      "cell_type": "markdown",
      "metadata": {
        "id": "c5f6a231-9449-407f-81ee-5b04d2fac602"
      },
      "source": [
        "#### 2.业务统计特征创建"
      ]
    },
    {
      "cell_type": "markdown",
      "metadata": {
        "id": "ea680b36-7cd2-4830-94c4-e6fe8e92f263"
      },
      "source": [
        "&emsp;&emsp;当然，除了通用组合特征外，我们还可以考虑从另一个角度进行特征提取，那就是先根据card_id来进行分组，然后统计不同字段再各组内的相关统计量，再将其作为特征，带入进行建模。其基本构造特征思路如下："
      ]
    },
    {
      "cell_type": "markdown",
      "metadata": {
        "id": "cf0c3e22-7aa0-4b0f-b46d-35199b970cdf"
      },
      "source": [
        "<center><img src=\"https://i.loli.net/2021/10/23/NupDc9JnBbHRPgU.png\" alt=\"image-20211023162730619\" style=\"zoom:80%;\" />"
      ]
    },
    {
      "cell_type": "markdown",
      "metadata": {
        "id": "859f4af6-3da4-40fb-b818-e58ce2192fe6"
      },
      "source": [
        "该过程并不复杂，可以通过pandas中的groupby过程迅速实现。和此前特征构造的思路不同，通过该方法构造的特征，不会存在大量的缺失值，并且新增的列也将相对较少。代码实现过程如下："
      ]
    },
    {
      "cell_type": "markdown",
      "metadata": {
        "id": "505de5e0-9d77-4d4d-9c89-f53caece8d2b"
      },
      "source": [
        "- 数据读取："
      ]
    },
    {
      "cell_type": "code",
      "execution_count": null,
      "metadata": {
        "id": "a353954d-c4ba-4136-bfa7-f12186e76769"
      },
      "outputs": [],
      "source": [
        "transaction = pd.read_csv('preprocess/transaction_g_pre.csv')"
      ]
    },
    {
      "cell_type": "markdown",
      "metadata": {
        "id": "7d04bd2b-726c-446a-8e56-6afc4980cb56"
      },
      "source": [
        "- 字段类型标注"
      ]
    },
    {
      "cell_type": "code",
      "execution_count": null,
      "metadata": {
        "id": "ef47e7ce-beaa-4598-9a0c-e258c4097e77"
      },
      "outputs": [],
      "source": [
        "# 标注离散字段or连续型字段\n",
        "numeric_cols = ['authorized_flag',  'category_1', 'installments',\n",
        "       'category_3',  'month_lag','purchase_month','purchase_day','purchase_day_diff', 'purchase_month_diff',\n",
        "       'purchase_amount', 'category_2', \n",
        "       'purchase_month', 'purchase_hour_section', 'purchase_day',\n",
        "       'most_recent_sales_range', 'most_recent_purchases_range', 'category_4']\n",
        "categorical_cols = ['city_id', 'merchant_category_id', 'merchant_id', 'state_id', 'subsector_id']"
      ]
    },
    {
      "cell_type": "markdown",
      "metadata": {
        "id": "28cca76d-ad08-4668-bbc5-f9be3b560a9a"
      },
      "source": [
        "- 特征提取过程"
      ]
    },
    {
      "cell_type": "code",
      "execution_count": null,
      "metadata": {
        "id": "ace5ff6b-ab39-4447-9e70-bcadda5f9857"
      },
      "outputs": [],
      "source": [
        "# 创建空字典\n",
        "aggs = {}\n",
        "\n",
        "# 连续/离散字段统计量提取范围\n",
        "for col in numeric_cols:\n",
        "    aggs[col] = ['nunique', 'mean', 'min', 'max','var','skew', 'sum']\n",
        "for col in categorical_cols:\n",
        "    aggs[col] = ['nunique']    \n",
        "aggs['card_id'] = ['size', 'count']\n",
        "cols = ['card_id']\n",
        "\n",
        "# 借助groupby实现统计量计算\n",
        "for key in aggs.keys():\n",
        "    cols.extend([key+'_'+stat for stat in aggs[key]])\n",
        "\n",
        "df = transaction[transaction['month_lag']<0].groupby('card_id').agg(aggs).reset_index()\n",
        "df.columns = cols[:1] + [co+'_hist' for co in cols[1:]]\n",
        "\n",
        "df2 = transaction[transaction['month_lag']>=0].groupby('card_id').agg(aggs).reset_index()\n",
        "df2.columns = cols[:1] + [co+'_new' for co in cols[1:]]\n",
        "df = pd.merge(df, df2, how='left',on='card_id')\n",
        "\n",
        "df2 = transaction.groupby('card_id').agg(aggs).reset_index()\n",
        "df2.columns = cols\n",
        "df = pd.merge(df, df2, how='left',on='card_id')\n",
        "del transaction\n",
        "gc.collect()\n",
        "\n",
        "# 生成训练集与测试集\n",
        "train = pd.merge(train, df, how='left', on='card_id')\n",
        "test =  pd.merge(test, df, how='left', on='card_id')\n",
        "del df\n",
        "train.to_csv(\"preprocess/train_groupby.csv\", index=False)\n",
        "test.to_csv(\"preprocess/test_groupby.csv\", index=False)\n",
        "\n",
        "gc.collect()"
      ]
    },
    {
      "cell_type": "markdown",
      "metadata": {
        "id": "da996a7d-73aa-4a90-891a-c3321ae11897"
      },
      "source": [
        "执行完毕后，我们也可以简单查看数据集基本情况："
      ]
    },
    {
      "cell_type": "markdown",
      "metadata": {
        "id": "aaf5d09c-55a7-4be7-9928-334b0d1c0630"
      },
      "source": [
        "<center><img src=\"https://i.loli.net/2021/10/23/HpI1QuM6ZvtkS7f.png\" alt=\"image-20211023162707542\" style=\"zoom:67%;\" />"
      ]
    },
    {
      "cell_type": "markdown",
      "metadata": {
        "id": "ed493b4c-5817-4c0e-9ba9-eeb5158f412d"
      },
      "source": [
        "#### 3.数据合并"
      ]
    },
    {
      "cell_type": "markdown",
      "metadata": {
        "id": "bb72f2ab-bc5e-4112-8fb2-c81d5aa215ef"
      },
      "source": [
        "&emsp;&emsp;至此，我们即完成了从两个不同角度提取特征的相关工作。不过截至目前上述两套方案的特征仍然保存在不同数据文件中，我们需要对其进行合并，才能进一步带入进行建模，合并过程较为简单，只需要将train_dict(test_dict)与train_group(test_group)根据card_id进行横向拼接、然后剔除重复列即可，实现过程如下所示："
      ]
    },
    {
      "cell_type": "markdown",
      "metadata": {
        "id": "1cae9c67-fdc4-4a39-9efb-1ae150c9245b"
      },
      "source": [
        "- 数据读取"
      ]
    },
    {
      "cell_type": "code",
      "execution_count": null,
      "metadata": {
        "id": "0c4e7219-4175-49b5-9068-af17e59a786c"
      },
      "outputs": [],
      "source": [
        "train_dict = pd.read_csv(\"preprocess/train_dict.csv\")\n",
        "test_dict = pd.read_csv(\"preprocess/test_dict.csv\")\n",
        "train_groupby = pd.read_csv(\"preprocess/train_groupby.csv\")\n",
        "test_groupby = pd.read_csv(\"preprocess/test_groupby.csv\")"
      ]
    },
    {
      "cell_type": "markdown",
      "metadata": {
        "id": "0fdb5384-0a0e-4898-8cec-f3fb907d1422"
      },
      "source": [
        "- 剔除重复列"
      ]
    },
    {
      "cell_type": "code",
      "execution_count": null,
      "metadata": {
        "id": "32862990-9fb9-4d9f-8b8c-472966eacfba"
      },
      "outputs": [],
      "source": [
        "for co in train_dict.columns:\n",
        "    if co in train_groupby.columns and co!='card_id':\n",
        "        del train_groupby[co]\n",
        "for co in test_dict.columns:\n",
        "    if co in test_groupby.columns and co!='card_id':\n",
        "        del test_groupby[co]"
      ]
    },
    {
      "cell_type": "markdown",
      "metadata": {
        "id": "8d044090-71ba-4d5a-8416-031df430a6f0"
      },
      "source": [
        "- 拼接特征"
      ]
    },
    {
      "cell_type": "code",
      "execution_count": null,
      "metadata": {
        "id": "4cd4ac85-4c6c-47e6-9050-3bc43f3f067a"
      },
      "outputs": [],
      "source": [
        "train = pd.merge(train_dict, train_groupby, how='left', on='card_id').fillna(0)\n",
        "test = pd.merge(test_dict, test_groupby, how='left', on='card_id').fillna(0)"
      ]
    },
    {
      "cell_type": "markdown",
      "metadata": {
        "id": "480bf3c8-fd9a-4b8c-90cd-db0276cf4fec"
      },
      "source": [
        "> 注，上述操作对缺失值进行了0的填补，此处缺失值并非真正的缺失值，该缺失值只是在特征创建过程没有统计结果的值，这些值从逻辑上来讲其实也都是0。因此此处缺失值填补相当于是数据补全。"
      ]
    },
    {
      "cell_type": "markdown",
      "metadata": {
        "id": "fa427b96-7d6f-41f4-92fe-c9980212d141"
      },
      "source": [
        "- 数据保存与内存管理"
      ]
    },
    {
      "cell_type": "code",
      "execution_count": null,
      "metadata": {
        "id": "aa6d1cde-56a9-4302-9df7-e32ea3f259ed",
        "outputId": "f795e155-3db7-4855-95d1-26f4e07734ce"
      },
      "outputs": [
        {
          "data": {
            "text/plain": [
              "352"
            ]
          },
          "execution_count": 5,
          "metadata": {},
          "output_type": "execute_result"
        }
      ],
      "source": [
        "train.to_csv(\"preprocess/train.csv\", index=False)\n",
        "test.to_csv(\"preprocess/test.csv\", index=False)\n",
        "\n",
        "del train_dict, test_dict, train_groupby, test_groupby\n",
        "gc.collect()"
      ]
    },
    {
      "cell_type": "markdown",
      "metadata": {
        "id": "fe65d59b-e848-4d05-8a11-22d4bd2a38a3"
      },
      "source": [
        "### 二、随机森林模型预测"
      ]
    },
    {
      "cell_type": "markdown",
      "metadata": {
        "id": "3dab5c0b-99e2-4ebf-9069-52916cc6b0d3"
      },
      "source": [
        "&emsp;&emsp;在准备好了基础特征之后，终于迎来了算法建模环节。限于公开课篇幅，此处重点介绍关于集成算法中的随机森林模型的建模及优化流程，并最终展示建模结果。"
      ]
    },
    {
      "cell_type": "code",
      "execution_count": null,
      "metadata": {
        "id": "5611b749-4dfa-46ba-92e1-6d5bd9a0c871"
      },
      "outputs": [],
      "source": [
        "train = pd.read_csv(\"preprocess/train.csv\")\n",
        "test = pd.read_csv(\"preprocess/test.csv\")"
      ]
    },
    {
      "cell_type": "markdown",
      "metadata": {
        "id": "5237f2f2-8b90-43d9-b636-cae272b0fffe"
      },
      "source": [
        "- 特征选择"
      ]
    },
    {
      "cell_type": "markdown",
      "metadata": {
        "id": "cd08c74a-f05f-4141-89cd-829fdcfc7464"
      },
      "source": [
        "&emsp;&emsp;由于此前创建了数千条特征，若带入全部特征进行建模，势必极大程度延长模型建模时间，并且带入太多无关特征对模型结果提升有限，因此此处我们借助皮尔逊相关系数，挑选和标签最相关的300个特征进行建模。当然此处300也可以自行调整。"
      ]
    },
    {
      "cell_type": "code",
      "execution_count": null,
      "metadata": {
        "tags": [],
        "id": "3d35d4ba-1ff6-48f5-9b0d-1c693e9042a2"
      },
      "outputs": [],
      "source": [
        "# 提取特征名称\n",
        "features = train.columns.tolist()\n",
        "features.remove(\"card_id\")\n",
        "features.remove(\"target\")\n",
        "featureSelect = features[:]\n",
        "\n",
        "# 计算相关系数\n",
        "corr = []\n",
        "for fea in featureSelect:\n",
        "    corr.append(abs(train[[fea, 'target']].fillna(0).corr().values[0][1]))\n",
        "\n",
        "# 取top300的特征进行建模，具体数量可选\n",
        "se = pd.Series(corr, index=featureSelect).sort_values(ascending=False)\n",
        "feature_select = ['card_id'] + se[:300].index.tolist()\n",
        "\n",
        "# 输出结果\n",
        "train = train[feature_select + ['target']]\n",
        "test = test[feature_select]"
      ]
    },
    {
      "cell_type": "markdown",
      "metadata": {
        "id": "6fdcd401-15d9-49f0-95ff-c62a4ad59095"
      },
      "source": [
        "> 注意，此处可以通过皮尔逊相关系数进行特征提取的主要原因也是在于我们在特征创建的过程中，将所有特征都默认为连续性变量"
      ]
    },
    {
      "cell_type": "markdown",
      "metadata": {
        "id": "61f1f709-c56f-4ba9-8243-00e7f44c9a36"
      },
      "source": [
        "- 借助网格搜索进行参数调优"
      ]
    },
    {
      "cell_type": "markdown",
      "metadata": {
        "id": "d21f2346-cd69-4e12-bb6c-0e189beed512"
      },
      "source": [
        "&emsp;&emsp;接下来，我们将借助sklearn中基础调参工具—网格搜索（Gridsearch）进行参数搜索与调优。"
      ]
    },
    {
      "cell_type": "markdown",
      "metadata": {
        "id": "47c16cb1-09e3-435a-bb59-136a37b4a43e"
      },
      "source": [
        "&emsp;&emsp;首先导入相关包，包括均方误差计算函数、随机森林评估器和网格搜索评估器："
      ]
    },
    {
      "cell_type": "code",
      "execution_count": null,
      "metadata": {
        "id": "1b20b0d7-e225-4802-81bf-728bacfabcb4"
      },
      "outputs": [],
      "source": [
        "from sklearn.metrics import mean_squared_error\n",
        "from sklearn.ensemble import RandomForestRegressor\n",
        "from sklearn.model_selection import GridSearchCV"
      ]
    },
    {
      "cell_type": "markdown",
      "metadata": {
        "id": "7c5fab8a-8070-4caf-8316-349309db75d8"
      },
      "source": [
        "然后根据网格搜索的要求，我们需要根据随机森林的参数情况，有针对性的创造一个参数空间，随机森林基本参数基本情况如下："
      ]
    },
    {
      "cell_type": "markdown",
      "metadata": {
        "id": "29433ba8-5627-4545-ac89-5df7fa766b6c"
      },
      "source": [
        "|Name|Description|      \n",
        "|:--:|:--:| \n",
        "|criterion|规则评估指标或损失函数，默认基尼系数，可选信息熵| \n",
        "|splitter|树模型生长方式，默认以损失函数取值减少最快方式生长，可选随机根据某条件进行划分|\n",
        "|max_depth|树的最大生长深度，类似max_iter，即总共迭代几次| \n",
        "|min_samples_split|内部节点再划分所需最小样本数| \n",
        "|min_samples_leaf|叶节点包含最少样本数| \n",
        "|min_weight_fraction_leaf|叶节点所需最小权重和| \n",
        "|max_features|在进行切分时候最多带入多少个特征进行划分规则挑选|\n",
        "|random_state|随机数种子| \n",
        "|max_leaf_nodes|叶节点最大个数| \n",
        "|min_impurity_decrease|数据集再划分至少需要降低的损失值| \n",
        "|min_impurity_split|数据集再划分所需最低不纯度，将在0.25版本中移除| \n",
        "|class_weight|各类样本权重| "
      ]
    },
    {
      "cell_type": "markdown",
      "metadata": {
        "id": "017b2725-b9e8-4cba-a5df-915087ac369e"
      },
      "source": [
        "其中我们挑选\"n_estimators\"、\"min_samples_leaf\"、\"min_samples_split\"、\"max_depth\"和\"max_features\"进行参数搜索："
      ]
    },
    {
      "cell_type": "markdown",
      "metadata": {
        "id": "a207c53d-03ab-4876-9f24-d14e95be06fc"
      },
      "source": [
        "&emsp;&emsp;然后是关于网格搜索工具的选择。随着sklearn不断完善，有越来越多的网格搜索工具可供选择，但整体来看其实就是在效率和精度之间做权衡，有些网格搜索工具由于是全域枚举（如GridSearchCV），所以执行效率较慢、但结果精度有保障，而如果愿意牺牲精度换执行效率，则也有很多工具可以选择，如RandomizedSearchCV。当然，在最新的sklearn版本中，还出现了一种更高效的搜索策略——HalvingGridSearchCV，该方法先两两比对、然后逐层筛选的方法来进行参数筛选，并且同时支持HalvingGridSearchCV和HalvingRandomSearchCV。注意，这是sklearn最新版、也就是0.24版才支持的功能，该功能的出现也是0.24版最大的改动之一，而该功能的加入，也将进一步减少网格搜索所需计算资源、加快网格搜索的速度。"
      ]
    },
    {
      "cell_type": "markdown",
      "metadata": {
        "id": "84493899-a60f-436c-b112-51be789da71b"
      },
      "source": [
        "&emsp;&emsp;围绕本次竞赛的数据，在实际执行网格搜索的过程中，建议先使用RandomizedSearchCV确定大概范围，然后再使用GridSearchCV高精度搜索具体参数取值。当然，如果是使用最新版的sklearn，也可以考虑使用Halving方法进行搜索。在公开课讲解过程中，由于时间有限，此处我们在大致确定最优参数范围的前提下设置在一个相对较小的参数空间内来进行搜索："
      ]
    },
    {
      "cell_type": "code",
      "execution_count": null,
      "metadata": {
        "id": "73877975-2bf9-4f3a-a40d-fffedfa4473b"
      },
      "outputs": [],
      "source": [
        "features = train.columns.tolist()\n",
        "features.remove(\"card_id\")\n",
        "features.remove(\"target\")\n",
        "\n",
        "\n",
        "parameter_space = {\n",
        "    \"n_estimators\": [79, 80, 81], \n",
        "    \"min_samples_leaf\": [29, 30, 31],\n",
        "    \"min_samples_split\": [2, 3],\n",
        "    \"max_depth\": [9, 10],\n",
        "    \"max_features\": [\"auto\", 80]\n",
        "}"
      ]
    },
    {
      "cell_type": "markdown",
      "metadata": {
        "id": "8995b494-9c2c-4d39-91d8-0f11eb387051"
      },
      "source": [
        "然后构建随机森林评估器，并输入其他超参数取值"
      ]
    },
    {
      "cell_type": "code",
      "execution_count": null,
      "metadata": {
        "id": "a68164df-fe10-49bc-9221-4bf078daf81b"
      },
      "outputs": [],
      "source": [
        "clf = RandomForestRegressor(\n",
        "    criterion=\"mse\",\n",
        "    n_jobs=15,\n",
        "    random_state=22)"
      ]
    },
    {
      "cell_type": "markdown",
      "metadata": {
        "id": "a69a6682-931e-4986-a938-a27348fd72af"
      },
      "source": [
        "准备完毕后，开始进行网格搜索："
      ]
    },
    {
      "cell_type": "code",
      "execution_count": null,
      "metadata": {
        "id": "7e25c8e1-cd80-4dd4-9f13-e87b084375c2",
        "outputId": "6caa170a-9be7-4696-fbbd-ac713cbc3c1b"
      },
      "outputs": [
        {
          "data": {
            "text/plain": [
              "GridSearchCV(cv=2, estimator=RandomForestRegressor(n_jobs=15, random_state=22),\n",
              "             param_grid={'max_depth': [9, 10], 'max_features': ['auto', 80],\n",
              "                         'min_samples_leaf': [29, 30, 31],\n",
              "                         'min_samples_split': [2, 3],\n",
              "                         'n_estimators': [79, 80, 81]},\n",
              "             scoring='neg_mean_squared_error')"
            ]
          },
          "execution_count": 45,
          "metadata": {},
          "output_type": "execute_result"
        }
      ],
      "source": [
        "grid = GridSearchCV(clf, parameter_space, cv=2, scoring=\"neg_mean_squared_error\")\n",
        "grid.fit(train[features].values, train['target'].values)"
      ]
    },
    {
      "cell_type": "markdown",
      "metadata": {
        "id": "175277fa-6959-4673-bf8e-98de5484a575"
      },
      "source": [
        "&emsp;&emsp;搜索完毕后模型也随之训练完成，接下来我们即可查看训练结果了。首先是在参数空间内最终搜索出来的最优参数组："
      ]
    },
    {
      "cell_type": "code",
      "execution_count": null,
      "metadata": {
        "id": "b35845b1-96d3-414d-adf9-1b29d24ca2c3",
        "outputId": "7be021b6-67ab-4ef8-82cd-4c53acd6c530"
      },
      "outputs": [
        {
          "data": {
            "text/plain": [
              "{'max_depth': 10,\n",
              " 'max_features': 80,\n",
              " 'min_samples_leaf': 31,\n",
              " 'min_samples_split': 2,\n",
              " 'n_estimators': 80}"
            ]
          },
          "execution_count": 46,
          "metadata": {},
          "output_type": "execute_result"
        }
      ],
      "source": [
        "grid.best_params_"
      ]
    },
    {
      "cell_type": "markdown",
      "metadata": {
        "id": "aa93f506-b37c-4426-97ec-c55bf9ced87d"
      },
      "source": [
        "同时，我们也可以直接查看或调用最优参数组成评估器："
      ]
    },
    {
      "cell_type": "code",
      "execution_count": null,
      "metadata": {
        "id": "a33a69e9-5eb9-40b1-a5b0-a94f52ed2b2d",
        "outputId": "98710fe4-c0ab-41b8-a525-6f18d89d3d5f"
      },
      "outputs": [
        {
          "data": {
            "text/plain": [
              "RandomForestRegressor(max_depth=10, max_features=80, min_samples_leaf=31,\n",
              "                      n_estimators=80, n_jobs=15, random_state=22)"
            ]
          },
          "execution_count": 47,
          "metadata": {},
          "output_type": "execute_result"
        }
      ],
      "source": [
        "grid.best_estimator_"
      ]
    },
    {
      "cell_type": "markdown",
      "metadata": {
        "id": "e621059e-e5e7-4ddb-aad1-a209484935db"
      },
      "source": [
        "当然，我们也可以直接查看在训练集上的最终评分："
      ]
    },
    {
      "cell_type": "code",
      "execution_count": null,
      "metadata": {
        "id": "5f537d06-b03a-4053-8ebb-222c68afed09",
        "outputId": "48f8bafb-bf97-4280-cf3f-d4d1dd6ae220"
      },
      "outputs": [
        {
          "data": {
            "text/plain": [
              "3.6900889856014247"
            ]
          },
          "execution_count": 48,
          "metadata": {},
          "output_type": "execute_result"
        }
      ],
      "source": [
        "np.sqrt(-grid.best_score_)"
      ]
    },
    {
      "cell_type": "code",
      "execution_count": null,
      "metadata": {
        "id": "b11e4a8f-0478-4d6c-a1aa-c0bdd52e674a",
        "outputId": "9fe18870-bd36-4561-8293-18a4d0fbee41"
      },
      "outputs": [
        {
          "data": {
            "text/plain": [
              "array([-3.42895506, -1.05271922, -0.34647055, ...,  0.71331227,\n",
              "       -2.40402906,  0.29249733])"
            ]
          },
          "execution_count": 49,
          "metadata": {},
          "output_type": "execute_result"
        }
      ],
      "source": [
        "grid.best_estimator_.predict(test[features])"
      ]
    },
    {
      "cell_type": "markdown",
      "metadata": {
        "id": "fd5566b4-78cb-4fa9-a74d-7aa0e4306451"
      },
      "source": [
        "然后将结果按照所需要提交的格式写入csv文档"
      ]
    },
    {
      "cell_type": "code",
      "execution_count": null,
      "metadata": {
        "id": "d2419eba-9314-4bf7-98ca-fef268e682ec"
      },
      "outputs": [],
      "source": [
        "test['target'] = grid.best_estimator_.predict(test[features])\n",
        "test[['card_id', 'target']].to_csv(\"result/submission_randomforest.csv\", index=False)"
      ]
    },
    {
      "cell_type": "markdown",
      "metadata": {
        "id": "5142be72-b43e-4a55-8ae9-577384f83e34"
      },
      "source": [
        "数据文档写入完毕后，接下来就可以直接在Kaggle上提交了。上传提交结果数据和下载数据过程类似，都可以直接利用网页功能实现，或者通过命令行的方式实现。"
      ]
    },
    {
      "cell_type": "markdown",
      "metadata": {
        "id": "9e3136ee-614f-4085-9f0d-82e03c9c4b9f"
      },
      "source": [
        "- 结果提交"
      ]
    },
    {
      "cell_type": "markdown",
      "metadata": {
        "tags": [],
        "id": "37746dc9-e7b3-41da-83a4-8773a0c0543d"
      },
      "source": [
        "在Kaggle竞赛主页找到Late Submission进行结果提交，只需将结果文件在线提交即可："
      ]
    },
    {
      "cell_type": "markdown",
      "metadata": {
        "id": "2dcaffcc-5dfd-47b7-88c1-d1cfc47226ef"
      },
      "source": [
        "<center><img src=\"https://i.loli.net/2021/10/23/ptkMKOXhv685LxG.png\" alt=\"6a480d241a9a072ca921feedc9356c2\" style=\"zoom:50%;\" />"
      ]
    },
    {
      "cell_type": "markdown",
      "metadata": {
        "id": "0b9a942a-07a2-4c47-8000-94356351deb6"
      },
      "source": [
        "<center><img src=\"https://i.loli.net/2021/10/23/by9scX2gFER4jT7.png\" alt=\"image-20211023183654754\" style=\"zoom:50%;\" />"
      ]
    },
    {
      "cell_type": "markdown",
      "metadata": {
        "id": "f2f1ed4d-63dd-459b-b291-c2ce01bf0cdb"
      },
      "source": [
        "&emsp;&emsp;提交完成后，即可在我的提交结果中看到成绩了："
      ]
    },
    {
      "cell_type": "markdown",
      "metadata": {
        "id": "ceec975a-b11f-4c4f-94a1-7ea9372de723"
      },
      "source": [
        "<center><img src=\"https://i.loli.net/2021/10/23/KOqiElNHdPgGaV4.png\" alt=\"image-20211023184031717\" style=\"zoom:50%;\" />"
      ]
    },
    {
      "cell_type": "markdown",
      "metadata": {
        "id": "78c1aa55-c40a-4090-a068-db385d43cb13"
      },
      "source": [
        "### 三、后续优化策略"
      ]
    },
    {
      "cell_type": "markdown",
      "metadata": {
        "id": "ed68157f-a906-48a4-baa6-775d0aa87665"
      },
      "source": [
        "&emsp;&emsp;当然，围绕上述结果还有许多可以优化的地方，在公开课的最后，我们也将提供一些后续优化建议："
      ]
    },
    {
      "cell_type": "markdown",
      "metadata": {
        "id": "d9eee273-05f8-4f1e-bff0-0490fc251b29"
      },
      "source": [
        "- 文本特征挖掘"
      ]
    },
    {
      "cell_type": "markdown",
      "metadata": {
        "id": "98bc249b-4e9e-4805-89a3-46523a7fa981"
      },
      "source": [
        "&emsp;&emsp;在特征处理的过程中，可以尝试使用NLP领域的TF-IDF进行词频统计，增加离散变量特征；"
      ]
    },
    {
      "cell_type": "markdown",
      "metadata": {
        "id": "6893ff30-7d6e-47f9-b3ac-a38e04f1df75"
      },
      "source": [
        "- 更多衍生特征"
      ]
    },
    {
      "cell_type": "markdown",
      "metadata": {
        "id": "060e7cc8-515b-45a8-9a63-557f4274548a"
      },
      "source": [
        "&emsp;&emsp;除了对离散变量进行词频统计外，我们还可以考虑构建更多特征，如全局card_id特征、最近两个月  card_id特征、二阶特征和补充特征等，来更深程度挖掘数据集信息；"
      ]
    },
    {
      "cell_type": "markdown",
      "metadata": {
        "id": "479be5d5-5cab-400e-86a0-ab84785ca37d"
      },
      "source": [
        "- 更多集成算法"
      ]
    },
    {
      "cell_type": "markdown",
      "metadata": {
        "id": "1eefa867-8f45-4046-bf43-ee0ff30a1140"
      },
      "source": [
        "&emsp;&emsp;除了随机森林外，还有许多功能非常强大的集成模型，包括LightGBM、XGBoost等，都是可以尝试使用的算法；"
      ]
    },
    {
      "cell_type": "markdown",
      "metadata": {
        "id": "abf20fe9-e3a0-49da-ba90-088d39a850e4"
      },
      "source": [
        "- 模型融合方法"
      ]
    },
    {
      "cell_type": "markdown",
      "metadata": {
        "id": "0cab8186-4e6b-4e72-8af4-f800d24a756d"
      },
      "source": [
        "&emsp;&emsp;既然使用了多集成模型来进行建模，那么模型融合也势在必行。模型融合能够很好的综合各集成模型的输出结果，来做出最后更加综合的判断。当然模型融合可以考虑简单加权融合或者stacking融合方法；"
      ]
    },
    {
      "cell_type": "markdown",
      "metadata": {
        "id": "254fa9da-0e01-4c94-aa32-e69eb439b15c"
      },
      "source": [
        "- 更加细致的数据处理"
      ]
    },
    {
      "cell_type": "markdown",
      "metadata": {
        "id": "87dcdee9-8d46-4619-ae9e-1ef83ce6a39a"
      },
      "source": [
        "&emsp;&emsp;除了技术手段外，我们可也可以围绕此前得出的业务分析结论，对数据集进行更加细致的处理，如此前标签中出现的异常值的处理、13家商户没有过去一段时间营销信息等，通过更加细致的处理，能够让模型达到更好的效果。"
      ]
    }
  ]
}